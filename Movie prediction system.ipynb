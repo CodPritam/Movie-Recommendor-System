{
 "cells": [
  {
   "cell_type": "markdown",
   "id": "39e6f98a-7528-4626-9368-94fab63897e7",
   "metadata": {},
   "source": [
    "<h1 style=\"color: blue;\">Movie Recommender System</h1>\n",
    "<p style=\"color: green;\">Here are some movie recommendations for you:</p>\n",
    "<ul>\n",
    "    <li><span style=\"color: red; font-weight: bold;\">Inception</span> - A mind-bending thriller</li>\n",
    "    <li><span style=\"color: orange; font-style: italic;\">The Godfather</span> - A classic mafia drama</li>\n",
    "    <li><span style=\"color: purple; text-decoration: underline;\">The Shawshank Redemption</span> - An inspiring story of hope</li>\n",
    "</ul>\n",
    "<style>\n",
    ".recommendation {\n",
    "    font-family: 'Arial', sans-serif;\n",
    "    border: 2px solid #4CAF50;\n",
    "    border-radius: 5px;\n",
    "    padding: 10px;\n",
    "    margin: 5px 0;\n",
    "}\n",
    ".title {\n",
    "    color: #4CAF50;\n",
    "    font-size: 1.5em;\n",
    "    text-shadow: 2px 2px #FF0000;\n",
    "}\n",
    ".genre {\n",
    "    color: #FF5722;\n",
    "    font-style: italic;\n",
    "}\n",
    ".description {\n",
    "    color: #009688;\n",
    "}\n",
    "</style>\n",
    "\n",
    "<div class=\"recommendation\">\n",
    "    <div class=\"title\">Inception</div>\n",
    "    <div class=\"genre\">Thriller/Sci-Fi</div>\n",
    "    <div class=\"description\">A mind-bending thriller by Christopher Nolan.</div>\n",
    "</div>\n",
    "\n",
    "<div class=\"recommendation\">\n",
    "    <div class=\"title\">The Godfather</div>\n",
    "    <div class=\"genre\">Drama/Crime</div>\n",
    "    <div class=\"description\">A classic mafia drama directed by Francis Ford Coppola.</div>\n",
    "</div>\n",
    "\n",
    "<div class=\"recommendation\">\n",
    "    <div class=\"title\">The Shawshank Redemption</div>\n",
    "    <div class=\"genre\">Drama</div>\n",
    "    <div class=\"description\">An inspiring story of hope and resilience.</div>\n",
    "</div>\n",
    "\n",
    "<style>\n",
    ".recommendation {\n",
    "    font-family: 'Arial', sans-serif;\n",
    "    border: 2px solid #4CAF50;\n",
    "    border-radius: 5px;\n",
    "    padding: 10px;\n",
    "    margin: 5px 0;\n",
    "    transition: transform 0.2s;\n",
    "}\n",
    ".recommendation:hover {\n",
    "    transform: scale(1.05);\n",
    "}\n",
    ".title {\n",
    "    color: #4CAF50;\n",
    "    font-size: 1.5em;\n",
    "    text-shadow: 2px 2px #FF0000;\n",
    "}\n",
    ".genre {\n",
    "    color: #FF5722;\n",
    "    font-style: italic;\n",
    "}\n",
    ".description {\n",
    "    color: #009688;\n",
    "}\n",
    "</style>\n",
    "\n",
    "<div class=\"recommendation\">\n",
    "    <div class=\"title\">Inception</div>\n",
    "    <div class=\"genre\">Thriller/Sci-Fi</div>\n",
    "    <div class=\"description\">A mind-bending thriller by Christopher Nolan.</div>\n",
    "</div>\n",
    "\n",
    "<div class=\"recommendation\">\n",
    "    <div class=\"title\">The Godfather</div>\n",
    "    <div class=\"genre\">Drama/Crime</div>\n",
    "    <div class=\"description\">A classic mafia drama directed by Francis Ford Coppola.</div>\n",
    "</div>\n",
    "\n",
    "<div class=\"recommendation\">\n",
    "    <div class=\"title\">The Shawshank Redemption</div>\n",
    "    <div class=\"genre\">Drama</div>\n",
    "    <div class=\"description\">An inspiring story of hope and resilience.</div>\n",
    "</div>\n"
   ]
  },
  {
   "cell_type": "markdown",
   "id": "ff21bbe4-01bb-4cde-b4b2-39fe265c7964",
   "metadata": {},
   "source": [
    "<p style=\"color: #FF5733; background-color: #FFE6E6;\">The rapid growth of data collection has led to a new era of information.</p>\n",
    "<p style=\"color: #33FF57; background-color: #E6FFE6;\">Data is being used to create more efficient systems and this is where Recommendation Systems come into play.</p>\n",
    "<p style=\"color: #3357FF; background-color: #E6E6FF;\">Recommendation Systems are a type of information filtering systems as they improve the quality of search results and provide items that are more relevant to the search item or are related to the search history of the user.</p>\n",
    "<p style=\"color: #F39C12; background-color: #FFF5E6;\">They are used to predict the rating or preference that a user would give to an item.</p>\n",
    "<p style=\"color: #8E44AD; background-color: #F5E6FF;\">Almost every major tech company has applied them in some form or the other: Amazon uses it to suggest products to customers, YouTube uses it to decide which video to play next on autoplay, and Facebook uses it to recommend pages to like and people to follow.</p>\n",
    "<p style=\"color: #E74C3C; background-color: #FFE6E6;\">Moreover, companies like Netflix and Spotify depend highly on the effectiveness of their recommendation engines for their business and success.</p>\n"
   ]
  },
  {
   "cell_type": "markdown",
   "id": "b22b6b22-bd39-4813-9076-be3cdb0497f6",
   "metadata": {},
   "source": [
    "let's go\n",
    "\n",
    "There are basically three types of recommender systems:-\n",
    "\n",
    "## Demographic Filtering:\n",
    "They offer generalized recommendations to every user, based on movie popularity and/or genre. The System recommends the same movies to users with similar demographic features. Since each user is different , this approach is considered to be too simple. The basic idea behind this system is that movies that are more popular and critically acclaimed will have a higher probability of being liked by the average audience."
   ]
  },
  {
   "cell_type": "markdown",
   "id": "b12c597f-59c6-4605-bec8-b1041a3cbf10",
   "metadata": {},
   "source": [
    "<div style=\"text-align: center;\">\n",
    "    <img src=\"netflix.png\" alt=\"This is an example image\" style=\"width: 100%;\" />\n",
    "</div>\n"
   ]
  },
  {
   "cell_type": "markdown",
   "id": "2bdc0b34-806e-4ffb-882a-b8d3c9cb00a8",
   "metadata": {},
   "source": [
    "## Content Based Filtering:\n",
    "They suggest similar items based on a particular item. This system uses item metadata, such as genre, director, description, actors, etc. for movies, to make these recommendations. The general idea behind these recommender systems is that if a person liked a particular item, he or she will also like an item that is similar to it."
   ]
  },
  {
   "cell_type": "markdown",
   "id": "c1bfe6d8-35a3-4e8e-a671-3fc160f06c1d",
   "metadata": {},
   "source": [
    "<div style=\"text-align:center;\">\n",
    "    <img src=\"netflix 2.jpeg\" alt=\"This is an example image\" style=\"width: 100%;\" />\n",
    "</div>"
   ]
  },
  {
   "cell_type": "markdown",
   "id": "bc782857-3847-4438-825b-ef0806597e24",
   "metadata": {},
   "source": [
    "## Collaborative Filtering:\n",
    "This system matches persons with similar interests and provides recommendations based on this matching. Collaborative filters do not require item metadata like its content-based counterparts."
   ]
  },
  {
   "cell_type": "markdown",
   "id": "d3185136-c3d9-41a6-ba4a-d0e69344af8d",
   "metadata": {},
   "source": [
    "<div style=\"text-align:center;\">\n",
    "    <img src=\"netflix 3.png\" alt=\"This is an example image\" style=\"width: 100%;\" />\n",
    "</div>"
   ]
  },
  {
   "cell_type": "markdown",
   "id": "5510240b-8b9c-4894-8474-024eed05d2ee",
   "metadata": {},
   "source": [
    "Importing necessary libraries for this :"
   ]
  },
  {
   "cell_type": "code",
   "execution_count": 1,
   "id": "66c3d33a-a7f8-4539-8b89-bb6d08666fa0",
   "metadata": {},
   "outputs": [],
   "source": [
    "import pandas as pd\n",
    "import numpy as np\n",
    "import matplotlib.pyplot as plt\n"
   ]
  },
  {
   "cell_type": "code",
   "execution_count": 2,
   "id": "59141f69-7c4d-4608-8a33-62a7441c3f70",
   "metadata": {},
   "outputs": [
    {
     "data": {
      "text/html": [
       "<div>\n",
       "<style scoped>\n",
       "    .dataframe tbody tr th:only-of-type {\n",
       "        vertical-align: middle;\n",
       "    }\n",
       "\n",
       "    .dataframe tbody tr th {\n",
       "        vertical-align: top;\n",
       "    }\n",
       "\n",
       "    .dataframe thead th {\n",
       "        text-align: right;\n",
       "    }\n",
       "</style>\n",
       "<table border=\"1\" class=\"dataframe\">\n",
       "  <thead>\n",
       "    <tr style=\"text-align: right;\">\n",
       "      <th></th>\n",
       "      <th>movie_id</th>\n",
       "      <th>title</th>\n",
       "      <th>cast</th>\n",
       "      <th>crew</th>\n",
       "    </tr>\n",
       "  </thead>\n",
       "  <tbody>\n",
       "    <tr>\n",
       "      <th>0</th>\n",
       "      <td>19995</td>\n",
       "      <td>Avatar</td>\n",
       "      <td>[{\"cast_id\": 242, \"character\": \"Jake Sully\", \"...</td>\n",
       "      <td>[{\"credit_id\": \"52fe48009251416c750aca23\", \"de...</td>\n",
       "    </tr>\n",
       "    <tr>\n",
       "      <th>1</th>\n",
       "      <td>285</td>\n",
       "      <td>Pirates of the Caribbean: At World's End</td>\n",
       "      <td>[{\"cast_id\": 4, \"character\": \"Captain Jack Spa...</td>\n",
       "      <td>[{\"credit_id\": \"52fe4232c3a36847f800b579\", \"de...</td>\n",
       "    </tr>\n",
       "    <tr>\n",
       "      <th>2</th>\n",
       "      <td>206647</td>\n",
       "      <td>Spectre</td>\n",
       "      <td>[{\"cast_id\": 1, \"character\": \"James Bond\", \"cr...</td>\n",
       "      <td>[{\"credit_id\": \"54805967c3a36829b5002c41\", \"de...</td>\n",
       "    </tr>\n",
       "    <tr>\n",
       "      <th>3</th>\n",
       "      <td>49026</td>\n",
       "      <td>The Dark Knight Rises</td>\n",
       "      <td>[{\"cast_id\": 2, \"character\": \"Bruce Wayne / Ba...</td>\n",
       "      <td>[{\"credit_id\": \"52fe4781c3a36847f81398c3\", \"de...</td>\n",
       "    </tr>\n",
       "    <tr>\n",
       "      <th>4</th>\n",
       "      <td>49529</td>\n",
       "      <td>John Carter</td>\n",
       "      <td>[{\"cast_id\": 5, \"character\": \"John Carter\", \"c...</td>\n",
       "      <td>[{\"credit_id\": \"52fe479ac3a36847f813eaa3\", \"de...</td>\n",
       "    </tr>\n",
       "    <tr>\n",
       "      <th>5</th>\n",
       "      <td>559</td>\n",
       "      <td>Spider-Man 3</td>\n",
       "      <td>[{\"cast_id\": 30, \"character\": \"Peter Parker / ...</td>\n",
       "      <td>[{\"credit_id\": \"52fe4252c3a36847f80151a5\", \"de...</td>\n",
       "    </tr>\n",
       "    <tr>\n",
       "      <th>6</th>\n",
       "      <td>38757</td>\n",
       "      <td>Tangled</td>\n",
       "      <td>[{\"cast_id\": 34, \"character\": \"Flynn Rider (vo...</td>\n",
       "      <td>[{\"credit_id\": \"52fe46db9251416c91062101\", \"de...</td>\n",
       "    </tr>\n",
       "    <tr>\n",
       "      <th>7</th>\n",
       "      <td>99861</td>\n",
       "      <td>Avengers: Age of Ultron</td>\n",
       "      <td>[{\"cast_id\": 76, \"character\": \"Tony Stark / Ir...</td>\n",
       "      <td>[{\"credit_id\": \"55d5f7d4c3a3683e7e0016eb\", \"de...</td>\n",
       "    </tr>\n",
       "    <tr>\n",
       "      <th>8</th>\n",
       "      <td>767</td>\n",
       "      <td>Harry Potter and the Half-Blood Prince</td>\n",
       "      <td>[{\"cast_id\": 3, \"character\": \"Harry Potter\", \"...</td>\n",
       "      <td>[{\"credit_id\": \"52fe4273c3a36847f801fab1\", \"de...</td>\n",
       "    </tr>\n",
       "    <tr>\n",
       "      <th>9</th>\n",
       "      <td>209112</td>\n",
       "      <td>Batman v Superman: Dawn of Justice</td>\n",
       "      <td>[{\"cast_id\": 18, \"character\": \"Bruce Wayne / B...</td>\n",
       "      <td>[{\"credit_id\": \"553bf23692514135c8002886\", \"de...</td>\n",
       "    </tr>\n",
       "    <tr>\n",
       "      <th>10</th>\n",
       "      <td>1452</td>\n",
       "      <td>Superman Returns</td>\n",
       "      <td>[{\"cast_id\": 3, \"character\": \"Superman / Clark...</td>\n",
       "      <td>[{\"credit_id\": \"553bef6a9251416874003c8f\", \"de...</td>\n",
       "    </tr>\n",
       "    <tr>\n",
       "      <th>11</th>\n",
       "      <td>10764</td>\n",
       "      <td>Quantum of Solace</td>\n",
       "      <td>[{\"cast_id\": 1, \"character\": \"James Bond\", \"cr...</td>\n",
       "      <td>[{\"credit_id\": \"52fe43b29251416c7501aa63\", \"de...</td>\n",
       "    </tr>\n",
       "    <tr>\n",
       "      <th>12</th>\n",
       "      <td>58</td>\n",
       "      <td>Pirates of the Caribbean: Dead Man's Chest</td>\n",
       "      <td>[{\"cast_id\": 37, \"character\": \"Captain Jack Sp...</td>\n",
       "      <td>[{\"credit_id\": \"52fe4211c3a36847f8001873\", \"de...</td>\n",
       "    </tr>\n",
       "    <tr>\n",
       "      <th>13</th>\n",
       "      <td>57201</td>\n",
       "      <td>The Lone Ranger</td>\n",
       "      <td>[{\"cast_id\": 4, \"character\": \"Tonto\", \"credit_...</td>\n",
       "      <td>[{\"credit_id\": \"52fe4928c3a36847f818be95\", \"de...</td>\n",
       "    </tr>\n",
       "    <tr>\n",
       "      <th>14</th>\n",
       "      <td>49521</td>\n",
       "      <td>Man of Steel</td>\n",
       "      <td>[{\"cast_id\": 2, \"character\": \"Clark Kent / Kal...</td>\n",
       "      <td>[{\"credit_id\": \"52fe4799c3a36847f813e667\", \"de...</td>\n",
       "    </tr>\n",
       "    <tr>\n",
       "      <th>15</th>\n",
       "      <td>2454</td>\n",
       "      <td>The Chronicles of Narnia: Prince Caspian</td>\n",
       "      <td>[{\"cast_id\": 1, \"character\": \"Prince Caspian\",...</td>\n",
       "      <td>[{\"credit_id\": \"55a239e69251412979002e8b\", \"de...</td>\n",
       "    </tr>\n",
       "    <tr>\n",
       "      <th>16</th>\n",
       "      <td>24428</td>\n",
       "      <td>The Avengers</td>\n",
       "      <td>[{\"cast_id\": 46, \"character\": \"Tony Stark / Ir...</td>\n",
       "      <td>[{\"credit_id\": \"52fe4495c3a368484e02b1cf\", \"de...</td>\n",
       "    </tr>\n",
       "    <tr>\n",
       "      <th>17</th>\n",
       "      <td>1865</td>\n",
       "      <td>Pirates of the Caribbean: On Stranger Tides</td>\n",
       "      <td>[{\"cast_id\": 15, \"character\": \"Captain Jack Sp...</td>\n",
       "      <td>[{\"credit_id\": \"566b4f54c3a3683f56005151\", \"de...</td>\n",
       "    </tr>\n",
       "    <tr>\n",
       "      <th>18</th>\n",
       "      <td>41154</td>\n",
       "      <td>Men in Black 3</td>\n",
       "      <td>[{\"cast_id\": 4, \"character\": \"Agent J\", \"credi...</td>\n",
       "      <td>[{\"credit_id\": \"52fe45b7c3a36847f80d68c7\", \"de...</td>\n",
       "    </tr>\n",
       "    <tr>\n",
       "      <th>19</th>\n",
       "      <td>122917</td>\n",
       "      <td>The Hobbit: The Battle of the Five Armies</td>\n",
       "      <td>[{\"cast_id\": 10, \"character\": \"Bilbo Baggins\",...</td>\n",
       "      <td>[{\"credit_id\": \"548ad49a9251414fa20011ab\", \"de...</td>\n",
       "    </tr>\n",
       "  </tbody>\n",
       "</table>\n",
       "</div>"
      ],
      "text/plain": [
       "    movie_id                                        title  \\\n",
       "0      19995                                       Avatar   \n",
       "1        285     Pirates of the Caribbean: At World's End   \n",
       "2     206647                                      Spectre   \n",
       "3      49026                        The Dark Knight Rises   \n",
       "4      49529                                  John Carter   \n",
       "5        559                                 Spider-Man 3   \n",
       "6      38757                                      Tangled   \n",
       "7      99861                      Avengers: Age of Ultron   \n",
       "8        767       Harry Potter and the Half-Blood Prince   \n",
       "9     209112           Batman v Superman: Dawn of Justice   \n",
       "10      1452                             Superman Returns   \n",
       "11     10764                            Quantum of Solace   \n",
       "12        58   Pirates of the Caribbean: Dead Man's Chest   \n",
       "13     57201                              The Lone Ranger   \n",
       "14     49521                                 Man of Steel   \n",
       "15      2454     The Chronicles of Narnia: Prince Caspian   \n",
       "16     24428                                 The Avengers   \n",
       "17      1865  Pirates of the Caribbean: On Stranger Tides   \n",
       "18     41154                               Men in Black 3   \n",
       "19    122917    The Hobbit: The Battle of the Five Armies   \n",
       "\n",
       "                                                 cast  \\\n",
       "0   [{\"cast_id\": 242, \"character\": \"Jake Sully\", \"...   \n",
       "1   [{\"cast_id\": 4, \"character\": \"Captain Jack Spa...   \n",
       "2   [{\"cast_id\": 1, \"character\": \"James Bond\", \"cr...   \n",
       "3   [{\"cast_id\": 2, \"character\": \"Bruce Wayne / Ba...   \n",
       "4   [{\"cast_id\": 5, \"character\": \"John Carter\", \"c...   \n",
       "5   [{\"cast_id\": 30, \"character\": \"Peter Parker / ...   \n",
       "6   [{\"cast_id\": 34, \"character\": \"Flynn Rider (vo...   \n",
       "7   [{\"cast_id\": 76, \"character\": \"Tony Stark / Ir...   \n",
       "8   [{\"cast_id\": 3, \"character\": \"Harry Potter\", \"...   \n",
       "9   [{\"cast_id\": 18, \"character\": \"Bruce Wayne / B...   \n",
       "10  [{\"cast_id\": 3, \"character\": \"Superman / Clark...   \n",
       "11  [{\"cast_id\": 1, \"character\": \"James Bond\", \"cr...   \n",
       "12  [{\"cast_id\": 37, \"character\": \"Captain Jack Sp...   \n",
       "13  [{\"cast_id\": 4, \"character\": \"Tonto\", \"credit_...   \n",
       "14  [{\"cast_id\": 2, \"character\": \"Clark Kent / Kal...   \n",
       "15  [{\"cast_id\": 1, \"character\": \"Prince Caspian\",...   \n",
       "16  [{\"cast_id\": 46, \"character\": \"Tony Stark / Ir...   \n",
       "17  [{\"cast_id\": 15, \"character\": \"Captain Jack Sp...   \n",
       "18  [{\"cast_id\": 4, \"character\": \"Agent J\", \"credi...   \n",
       "19  [{\"cast_id\": 10, \"character\": \"Bilbo Baggins\",...   \n",
       "\n",
       "                                                 crew  \n",
       "0   [{\"credit_id\": \"52fe48009251416c750aca23\", \"de...  \n",
       "1   [{\"credit_id\": \"52fe4232c3a36847f800b579\", \"de...  \n",
       "2   [{\"credit_id\": \"54805967c3a36829b5002c41\", \"de...  \n",
       "3   [{\"credit_id\": \"52fe4781c3a36847f81398c3\", \"de...  \n",
       "4   [{\"credit_id\": \"52fe479ac3a36847f813eaa3\", \"de...  \n",
       "5   [{\"credit_id\": \"52fe4252c3a36847f80151a5\", \"de...  \n",
       "6   [{\"credit_id\": \"52fe46db9251416c91062101\", \"de...  \n",
       "7   [{\"credit_id\": \"55d5f7d4c3a3683e7e0016eb\", \"de...  \n",
       "8   [{\"credit_id\": \"52fe4273c3a36847f801fab1\", \"de...  \n",
       "9   [{\"credit_id\": \"553bf23692514135c8002886\", \"de...  \n",
       "10  [{\"credit_id\": \"553bef6a9251416874003c8f\", \"de...  \n",
       "11  [{\"credit_id\": \"52fe43b29251416c7501aa63\", \"de...  \n",
       "12  [{\"credit_id\": \"52fe4211c3a36847f8001873\", \"de...  \n",
       "13  [{\"credit_id\": \"52fe4928c3a36847f818be95\", \"de...  \n",
       "14  [{\"credit_id\": \"52fe4799c3a36847f813e667\", \"de...  \n",
       "15  [{\"credit_id\": \"55a239e69251412979002e8b\", \"de...  \n",
       "16  [{\"credit_id\": \"52fe4495c3a368484e02b1cf\", \"de...  \n",
       "17  [{\"credit_id\": \"566b4f54c3a3683f56005151\", \"de...  \n",
       "18  [{\"credit_id\": \"52fe45b7c3a36847f80d68c7\", \"de...  \n",
       "19  [{\"credit_id\": \"548ad49a9251414fa20011ab\", \"de...  "
      ]
     },
     "execution_count": 2,
     "metadata": {},
     "output_type": "execute_result"
    }
   ],
   "source": [
    "df1=pd.read_csv(\"tmdb_5000_credits.csv\")\n",
    "df1.head(20)"
   ]
  },
  {
   "cell_type": "code",
   "execution_count": 3,
   "id": "013e026d-6a46-4ecb-a569-adc897465922",
   "metadata": {},
   "outputs": [
    {
     "data": {
      "text/html": [
       "<div>\n",
       "<style scoped>\n",
       "    .dataframe tbody tr th:only-of-type {\n",
       "        vertical-align: middle;\n",
       "    }\n",
       "\n",
       "    .dataframe tbody tr th {\n",
       "        vertical-align: top;\n",
       "    }\n",
       "\n",
       "    .dataframe thead th {\n",
       "        text-align: right;\n",
       "    }\n",
       "</style>\n",
       "<table border=\"1\" class=\"dataframe\">\n",
       "  <thead>\n",
       "    <tr style=\"text-align: right;\">\n",
       "      <th></th>\n",
       "      <th>cast</th>\n",
       "      <th>crew</th>\n",
       "      <th>id</th>\n",
       "    </tr>\n",
       "  </thead>\n",
       "  <tbody>\n",
       "    <tr>\n",
       "      <th>0</th>\n",
       "      <td>[{'cast_id': 14, 'character': 'Woody (voice)',...</td>\n",
       "      <td>[{'credit_id': '52fe4284c3a36847f8024f49', 'de...</td>\n",
       "      <td>862</td>\n",
       "    </tr>\n",
       "    <tr>\n",
       "      <th>1</th>\n",
       "      <td>[{'cast_id': 1, 'character': 'Alan Parrish', '...</td>\n",
       "      <td>[{'credit_id': '52fe44bfc3a36847f80a7cd1', 'de...</td>\n",
       "      <td>8844</td>\n",
       "    </tr>\n",
       "    <tr>\n",
       "      <th>2</th>\n",
       "      <td>[{'cast_id': 2, 'character': 'Max Goldman', 'c...</td>\n",
       "      <td>[{'credit_id': '52fe466a9251416c75077a89', 'de...</td>\n",
       "      <td>15602</td>\n",
       "    </tr>\n",
       "    <tr>\n",
       "      <th>3</th>\n",
       "      <td>[{'cast_id': 1, 'character': \"Savannah 'Vannah...</td>\n",
       "      <td>[{'credit_id': '52fe44779251416c91011acb', 'de...</td>\n",
       "      <td>31357</td>\n",
       "    </tr>\n",
       "    <tr>\n",
       "      <th>4</th>\n",
       "      <td>[{'cast_id': 1, 'character': 'George Banks', '...</td>\n",
       "      <td>[{'credit_id': '52fe44959251416c75039ed7', 'de...</td>\n",
       "      <td>11862</td>\n",
       "    </tr>\n",
       "    <tr>\n",
       "      <th>5</th>\n",
       "      <td>[{'cast_id': 25, 'character': 'Lt. Vincent Han...</td>\n",
       "      <td>[{'credit_id': '52fe4292c3a36847f802916d', 'de...</td>\n",
       "      <td>949</td>\n",
       "    </tr>\n",
       "    <tr>\n",
       "      <th>6</th>\n",
       "      <td>[{'cast_id': 1, 'character': 'Linus Larrabee',...</td>\n",
       "      <td>[{'credit_id': '52fe44959251416c75039da9', 'de...</td>\n",
       "      <td>11860</td>\n",
       "    </tr>\n",
       "    <tr>\n",
       "      <th>7</th>\n",
       "      <td>[{'cast_id': 2, 'character': 'Tom Sawyer', 'cr...</td>\n",
       "      <td>[{'credit_id': '52fe46bdc3a36847f810f797', 'de...</td>\n",
       "      <td>45325</td>\n",
       "    </tr>\n",
       "    <tr>\n",
       "      <th>8</th>\n",
       "      <td>[{'cast_id': 1, 'character': 'Darren Francis T...</td>\n",
       "      <td>[{'credit_id': '52fe44dbc3a36847f80ae0f1', 'de...</td>\n",
       "      <td>9091</td>\n",
       "    </tr>\n",
       "    <tr>\n",
       "      <th>9</th>\n",
       "      <td>[{'cast_id': 1, 'character': 'James Bond', 'cr...</td>\n",
       "      <td>[{'credit_id': '52fe426ec3a36847f801e14b', 'de...</td>\n",
       "      <td>710</td>\n",
       "    </tr>\n",
       "    <tr>\n",
       "      <th>10</th>\n",
       "      <td>[{'cast_id': 1, 'character': 'Andrew Shepherd'...</td>\n",
       "      <td>[{'credit_id': '52fe44dac3a36847f80adfa3', 'de...</td>\n",
       "      <td>9087</td>\n",
       "    </tr>\n",
       "    <tr>\n",
       "      <th>11</th>\n",
       "      <td>[{'cast_id': 9, 'character': 'Count Dracula', ...</td>\n",
       "      <td>[{'credit_id': '52fe44b79251416c7503e7fb', 'de...</td>\n",
       "      <td>12110</td>\n",
       "    </tr>\n",
       "    <tr>\n",
       "      <th>12</th>\n",
       "      <td>[{'cast_id': 1, 'character': 'Balto (voice)', ...</td>\n",
       "      <td>[{'credit_id': '593f24b9c3a3680369002371', 'de...</td>\n",
       "      <td>21032</td>\n",
       "    </tr>\n",
       "    <tr>\n",
       "      <th>13</th>\n",
       "      <td>[{'cast_id': 1, 'character': 'Richard Nixon', ...</td>\n",
       "      <td>[{'credit_id': '52fe43c59251416c7501d6f3', 'de...</td>\n",
       "      <td>10858</td>\n",
       "    </tr>\n",
       "    <tr>\n",
       "      <th>14</th>\n",
       "      <td>[{'cast_id': 1, 'character': 'Morgan Adams', '...</td>\n",
       "      <td>[{'credit_id': '52fe42f4c3a36847f802f69f', 'de...</td>\n",
       "      <td>1408</td>\n",
       "    </tr>\n",
       "    <tr>\n",
       "      <th>15</th>\n",
       "      <td>[{'cast_id': 4, 'character': \"Sam 'Ace' Rothst...</td>\n",
       "      <td>[{'credit_id': '52fe424dc3a36847f80139cd', 'de...</td>\n",
       "      <td>524</td>\n",
       "    </tr>\n",
       "    <tr>\n",
       "      <th>16</th>\n",
       "      <td>[{'cast_id': 6, 'character': 'Marianne Dashwoo...</td>\n",
       "      <td>[{'credit_id': '52fe43cec3a36847f807101f', 'de...</td>\n",
       "      <td>4584</td>\n",
       "    </tr>\n",
       "    <tr>\n",
       "      <th>17</th>\n",
       "      <td>[{'cast_id': 42, 'character': 'Ted the Bellhop...</td>\n",
       "      <td>[{'credit_id': '52fe420dc3a36847f800011b', 'de...</td>\n",
       "      <td>5</td>\n",
       "    </tr>\n",
       "    <tr>\n",
       "      <th>18</th>\n",
       "      <td>[{'cast_id': 1, 'character': 'Ace Ventura', 'c...</td>\n",
       "      <td>[{'credit_id': '52fe44dfc3a36847f80af28b', 'de...</td>\n",
       "      <td>9273</td>\n",
       "    </tr>\n",
       "    <tr>\n",
       "      <th>19</th>\n",
       "      <td>[{'cast_id': 1, 'character': 'John', 'credit_i...</td>\n",
       "      <td>[{'credit_id': '52fe44509251416c750305a1', 'de...</td>\n",
       "      <td>11517</td>\n",
       "    </tr>\n",
       "  </tbody>\n",
       "</table>\n",
       "</div>"
      ],
      "text/plain": [
       "                                                 cast  \\\n",
       "0   [{'cast_id': 14, 'character': 'Woody (voice)',...   \n",
       "1   [{'cast_id': 1, 'character': 'Alan Parrish', '...   \n",
       "2   [{'cast_id': 2, 'character': 'Max Goldman', 'c...   \n",
       "3   [{'cast_id': 1, 'character': \"Savannah 'Vannah...   \n",
       "4   [{'cast_id': 1, 'character': 'George Banks', '...   \n",
       "5   [{'cast_id': 25, 'character': 'Lt. Vincent Han...   \n",
       "6   [{'cast_id': 1, 'character': 'Linus Larrabee',...   \n",
       "7   [{'cast_id': 2, 'character': 'Tom Sawyer', 'cr...   \n",
       "8   [{'cast_id': 1, 'character': 'Darren Francis T...   \n",
       "9   [{'cast_id': 1, 'character': 'James Bond', 'cr...   \n",
       "10  [{'cast_id': 1, 'character': 'Andrew Shepherd'...   \n",
       "11  [{'cast_id': 9, 'character': 'Count Dracula', ...   \n",
       "12  [{'cast_id': 1, 'character': 'Balto (voice)', ...   \n",
       "13  [{'cast_id': 1, 'character': 'Richard Nixon', ...   \n",
       "14  [{'cast_id': 1, 'character': 'Morgan Adams', '...   \n",
       "15  [{'cast_id': 4, 'character': \"Sam 'Ace' Rothst...   \n",
       "16  [{'cast_id': 6, 'character': 'Marianne Dashwoo...   \n",
       "17  [{'cast_id': 42, 'character': 'Ted the Bellhop...   \n",
       "18  [{'cast_id': 1, 'character': 'Ace Ventura', 'c...   \n",
       "19  [{'cast_id': 1, 'character': 'John', 'credit_i...   \n",
       "\n",
       "                                                 crew     id  \n",
       "0   [{'credit_id': '52fe4284c3a36847f8024f49', 'de...    862  \n",
       "1   [{'credit_id': '52fe44bfc3a36847f80a7cd1', 'de...   8844  \n",
       "2   [{'credit_id': '52fe466a9251416c75077a89', 'de...  15602  \n",
       "3   [{'credit_id': '52fe44779251416c91011acb', 'de...  31357  \n",
       "4   [{'credit_id': '52fe44959251416c75039ed7', 'de...  11862  \n",
       "5   [{'credit_id': '52fe4292c3a36847f802916d', 'de...    949  \n",
       "6   [{'credit_id': '52fe44959251416c75039da9', 'de...  11860  \n",
       "7   [{'credit_id': '52fe46bdc3a36847f810f797', 'de...  45325  \n",
       "8   [{'credit_id': '52fe44dbc3a36847f80ae0f1', 'de...   9091  \n",
       "9   [{'credit_id': '52fe426ec3a36847f801e14b', 'de...    710  \n",
       "10  [{'credit_id': '52fe44dac3a36847f80adfa3', 'de...   9087  \n",
       "11  [{'credit_id': '52fe44b79251416c7503e7fb', 'de...  12110  \n",
       "12  [{'credit_id': '593f24b9c3a3680369002371', 'de...  21032  \n",
       "13  [{'credit_id': '52fe43c59251416c7501d6f3', 'de...  10858  \n",
       "14  [{'credit_id': '52fe42f4c3a36847f802f69f', 'de...   1408  \n",
       "15  [{'credit_id': '52fe424dc3a36847f80139cd', 'de...    524  \n",
       "16  [{'credit_id': '52fe43cec3a36847f807101f', 'de...   4584  \n",
       "17  [{'credit_id': '52fe420dc3a36847f800011b', 'de...      5  \n",
       "18  [{'credit_id': '52fe44dfc3a36847f80af28b', 'de...   9273  \n",
       "19  [{'credit_id': '52fe44509251416c750305a1', 'de...  11517  "
      ]
     },
     "execution_count": 3,
     "metadata": {},
     "output_type": "execute_result"
    }
   ],
   "source": [
    "df2=pd.read_csv(\"credits.csv\")\n",
    "df2.head(20)"
   ]
  },
  {
   "cell_type": "code",
   "execution_count": 4,
   "id": "40bc6444-6f14-422c-887b-827796edcac1",
   "metadata": {},
   "outputs": [
    {
     "name": "stdout",
     "output_type": "stream",
     "text": [
      "<class 'pandas.core.frame.DataFrame'>\n",
      "RangeIndex: 4803 entries, 0 to 4802\n",
      "Data columns (total 4 columns):\n",
      " #   Column    Non-Null Count  Dtype \n",
      "---  ------    --------------  ----- \n",
      " 0   movie_id  4803 non-null   int64 \n",
      " 1   title     4803 non-null   object\n",
      " 2   cast      4803 non-null   object\n",
      " 3   crew      4803 non-null   object\n",
      "dtypes: int64(1), object(3)\n",
      "memory usage: 150.2+ KB\n"
     ]
    }
   ],
   "source": [
    "df1.info()"
   ]
  },
  {
   "cell_type": "code",
   "execution_count": 5,
   "id": "ad395222-c323-4681-91d6-7e9663665f5c",
   "metadata": {},
   "outputs": [
    {
     "name": "stdout",
     "output_type": "stream",
     "text": [
      "<class 'pandas.core.frame.DataFrame'>\n",
      "RangeIndex: 45476 entries, 0 to 45475\n",
      "Data columns (total 3 columns):\n",
      " #   Column  Non-Null Count  Dtype \n",
      "---  ------  --------------  ----- \n",
      " 0   cast    45476 non-null  object\n",
      " 1   crew    45476 non-null  object\n",
      " 2   id      45476 non-null  int64 \n",
      "dtypes: int64(1), object(2)\n",
      "memory usage: 1.0+ MB\n"
     ]
    }
   ],
   "source": [
    "df2.info()"
   ]
  },
  {
   "cell_type": "code",
   "execution_count": 6,
   "id": "f5112971-36aa-4299-a143-ab90ba9e1d6c",
   "metadata": {},
   "outputs": [
    {
     "data": {
      "text/plain": [
       "movie_id    0\n",
       "title       0\n",
       "cast        0\n",
       "crew        0\n",
       "dtype: int64"
      ]
     },
     "execution_count": 6,
     "metadata": {},
     "output_type": "execute_result"
    }
   ],
   "source": [
    "df1.isna().sum()"
   ]
  },
  {
   "cell_type": "code",
   "execution_count": 7,
   "id": "1e65f0a2-7fa9-4edf-a401-8d170bb8d2cf",
   "metadata": {},
   "outputs": [
    {
     "data": {
      "text/plain": [
       "cast    0\n",
       "crew    0\n",
       "id      0\n",
       "dtype: int64"
      ]
     },
     "execution_count": 7,
     "metadata": {},
     "output_type": "execute_result"
    }
   ],
   "source": [
    "df2.isna().sum()"
   ]
  },
  {
   "cell_type": "code",
   "execution_count": 8,
   "id": "a8b7d88b-8026-4647-b598-0652128e58e1",
   "metadata": {},
   "outputs": [
    {
     "data": {
      "text/plain": [
       "(4803, 4)"
      ]
     },
     "execution_count": 8,
     "metadata": {},
     "output_type": "execute_result"
    }
   ],
   "source": [
    "df1.shape\n"
   ]
  },
  {
   "cell_type": "code",
   "execution_count": 9,
   "id": "d5e0c987-ed0b-4684-9a16-cc29db1036c8",
   "metadata": {},
   "outputs": [
    {
     "data": {
      "text/plain": [
       "(45476, 3)"
      ]
     },
     "execution_count": 9,
     "metadata": {},
     "output_type": "execute_result"
    }
   ],
   "source": [
    "df2.shape"
   ]
  },
  {
   "cell_type": "code",
   "execution_count": 10,
   "id": "3af2aa5c-a196-4b0d-829a-23f84b0b6f69",
   "metadata": {},
   "outputs": [
    {
     "data": {
      "text/plain": [
       "19212"
      ]
     },
     "execution_count": 10,
     "metadata": {},
     "output_type": "execute_result"
    }
   ],
   "source": [
    "df1.size"
   ]
  },
  {
   "cell_type": "code",
   "execution_count": 11,
   "id": "287340d5-e8bc-4f95-b6c4-bace55c335d3",
   "metadata": {},
   "outputs": [
    {
     "data": {
      "text/plain": [
       "136428"
      ]
     },
     "execution_count": 11,
     "metadata": {},
     "output_type": "execute_result"
    }
   ],
   "source": [
    "df2.size"
   ]
  },
  {
   "cell_type": "code",
   "execution_count": 12,
   "id": "c4f9e370-4a26-49c3-a399-7abbd0e1d3b4",
   "metadata": {},
   "outputs": [
    {
     "data": {
      "text/plain": [
       "'[{\"cast_id\": 242, \"character\": \"Jake Sully\", \"credit_id\": \"5602a8a7c3a3685532001c9a\", \"gender\": 2, \"id\": 65731, \"name\": \"Sam Worthington\", \"order\": 0}, {\"cast_id\": 3, \"character\": \"Neytiri\", \"credit_id\": \"52fe48009251416c750ac9cb\", \"gender\": 1, \"id\": 8691, \"name\": \"Zoe Saldana\", \"order\": 1}, {\"cast_id\": 25, \"character\": \"Dr. Grace Augustine\", \"credit_id\": \"52fe48009251416c750aca39\", \"gender\": 1, \"id\": 10205, \"name\": \"Sigourney Weaver\", \"order\": 2}, {\"cast_id\": 4, \"character\": \"Col. Quaritch\", \"credit_id\": \"52fe48009251416c750ac9cf\", \"gender\": 2, \"id\": 32747, \"name\": \"Stephen Lang\", \"order\": 3}, {\"cast_id\": 5, \"character\": \"Trudy Chacon\", \"credit_id\": \"52fe48009251416c750ac9d3\", \"gender\": 1, \"id\": 17647, \"name\": \"Michelle Rodriguez\", \"order\": 4}, {\"cast_id\": 8, \"character\": \"Selfridge\", \"credit_id\": \"52fe48009251416c750ac9e1\", \"gender\": 2, \"id\": 1771, \"name\": \"Giovanni Ribisi\", \"order\": 5}, {\"cast_id\": 7, \"character\": \"Norm Spellman\", \"credit_id\": \"52fe48009251416c750ac9dd\", \"gender\": 2, \"id\": 59231, \"name\": \"Joel David Moore\", \"order\": 6}, {\"cast_id\": 9, \"character\": \"Moat\", \"credit_id\": \"52fe48009251416c750ac9e5\", \"gender\": 1, \"id\": 30485, \"name\": \"CCH Pounder\", \"order\": 7}, {\"cast_id\": 11, \"character\": \"Eytukan\", \"credit_id\": \"52fe48009251416c750ac9ed\", \"gender\": 2, \"id\": 15853, \"name\": \"Wes Studi\", \"order\": 8}, {\"cast_id\": 10, \"character\": \"Tsu\\'Tey\", \"credit_id\": \"52fe48009251416c750ac9e9\", \"gender\": 2, \"id\": 10964, \"name\": \"Laz Alonso\", \"order\": 9}, {\"cast_id\": 12, \"character\": \"Dr. Max Patel\", \"credit_id\": \"52fe48009251416c750ac9f1\", \"gender\": 2, \"id\": 95697, \"name\": \"Dileep Rao\", \"order\": 10}, {\"cast_id\": 13, \"character\": \"Lyle Wainfleet\", \"credit_id\": \"52fe48009251416c750ac9f5\", \"gender\": 2, \"id\": 98215, \"name\": \"Matt Gerald\", \"order\": 11}, {\"cast_id\": 32, \"character\": \"Private Fike\", \"credit_id\": \"52fe48009251416c750aca5b\", \"gender\": 2, \"id\": 154153, \"name\": \"Sean Anthony Moran\", \"order\": 12}, {\"cast_id\": 33, \"character\": \"Cryo Vault Med Tech\", \"credit_id\": \"52fe48009251416c750aca5f\", \"gender\": 2, \"id\": 397312, \"name\": \"Jason Whyte\", \"order\": 13}, {\"cast_id\": 34, \"character\": \"Venture Star Crew Chief\", \"credit_id\": \"52fe48009251416c750aca63\", \"gender\": 2, \"id\": 42317, \"name\": \"Scott Lawrence\", \"order\": 14}, {\"cast_id\": 35, \"character\": \"Lock Up Trooper\", \"credit_id\": \"52fe48009251416c750aca67\", \"gender\": 2, \"id\": 986734, \"name\": \"Kelly Kilgour\", \"order\": 15}, {\"cast_id\": 36, \"character\": \"Shuttle Pilot\", \"credit_id\": \"52fe48009251416c750aca6b\", \"gender\": 0, \"id\": 1207227, \"name\": \"James Patrick Pitt\", \"order\": 16}, {\"cast_id\": 37, \"character\": \"Shuttle Co-Pilot\", \"credit_id\": \"52fe48009251416c750aca6f\", \"gender\": 0, \"id\": 1180936, \"name\": \"Sean Patrick Murphy\", \"order\": 17}, {\"cast_id\": 38, \"character\": \"Shuttle Crew Chief\", \"credit_id\": \"52fe48009251416c750aca73\", \"gender\": 2, \"id\": 1019578, \"name\": \"Peter Dillon\", \"order\": 18}, {\"cast_id\": 39, \"character\": \"Tractor Operator / Troupe\", \"credit_id\": \"52fe48009251416c750aca77\", \"gender\": 0, \"id\": 91443, \"name\": \"Kevin Dorman\", \"order\": 19}, {\"cast_id\": 40, \"character\": \"Dragon Gunship Pilot\", \"credit_id\": \"52fe48009251416c750aca7b\", \"gender\": 2, \"id\": 173391, \"name\": \"Kelson Henderson\", \"order\": 20}, {\"cast_id\": 41, \"character\": \"Dragon Gunship Gunner\", \"credit_id\": \"52fe48009251416c750aca7f\", \"gender\": 0, \"id\": 1207236, \"name\": \"David Van Horn\", \"order\": 21}, {\"cast_id\": 42, \"character\": \"Dragon Gunship Navigator\", \"credit_id\": \"52fe48009251416c750aca83\", \"gender\": 0, \"id\": 215913, \"name\": \"Jacob Tomuri\", \"order\": 22}, {\"cast_id\": 43, \"character\": \"Suit #1\", \"credit_id\": \"52fe48009251416c750aca87\", \"gender\": 0, \"id\": 143206, \"name\": \"Michael Blain-Rozgay\", \"order\": 23}, {\"cast_id\": 44, \"character\": \"Suit #2\", \"credit_id\": \"52fe48009251416c750aca8b\", \"gender\": 2, \"id\": 169676, \"name\": \"Jon Curry\", \"order\": 24}, {\"cast_id\": 46, \"character\": \"Ambient Room Tech\", \"credit_id\": \"52fe48009251416c750aca8f\", \"gender\": 0, \"id\": 1048610, \"name\": \"Luke Hawker\", \"order\": 25}, {\"cast_id\": 47, \"character\": \"Ambient Room Tech / Troupe\", \"credit_id\": \"52fe48009251416c750aca93\", \"gender\": 0, \"id\": 42288, \"name\": \"Woody Schultz\", \"order\": 26}, {\"cast_id\": 48, \"character\": \"Horse Clan Leader\", \"credit_id\": \"52fe48009251416c750aca97\", \"gender\": 2, \"id\": 68278, \"name\": \"Peter Mensah\", \"order\": 27}, {\"cast_id\": 49, \"character\": \"Link Room Tech\", \"credit_id\": \"52fe48009251416c750aca9b\", \"gender\": 0, \"id\": 1207247, \"name\": \"Sonia Yee\", \"order\": 28}, {\"cast_id\": 50, \"character\": \"Basketball Avatar / Troupe\", \"credit_id\": \"52fe48009251416c750aca9f\", \"gender\": 1, \"id\": 1207248, \"name\": \"Jahnel Curfman\", \"order\": 29}, {\"cast_id\": 51, \"character\": \"Basketball Avatar\", \"credit_id\": \"52fe48009251416c750acaa3\", \"gender\": 0, \"id\": 89714, \"name\": \"Ilram Choi\", \"order\": 30}, {\"cast_id\": 52, \"character\": \"Na\\'vi Child\", \"credit_id\": \"52fe48009251416c750acaa7\", \"gender\": 0, \"id\": 1207249, \"name\": \"Kyla Warren\", \"order\": 31}, {\"cast_id\": 53, \"character\": \"Troupe\", \"credit_id\": \"52fe48009251416c750acaab\", \"gender\": 0, \"id\": 1207250, \"name\": \"Lisa Roumain\", \"order\": 32}, {\"cast_id\": 54, \"character\": \"Troupe\", \"credit_id\": \"52fe48009251416c750acaaf\", \"gender\": 1, \"id\": 83105, \"name\": \"Debra Wilson\", \"order\": 33}, {\"cast_id\": 57, \"character\": \"Troupe\", \"credit_id\": \"52fe48009251416c750acabb\", \"gender\": 0, \"id\": 1207253, \"name\": \"Chris Mala\", \"order\": 34}, {\"cast_id\": 55, \"character\": \"Troupe\", \"credit_id\": \"52fe48009251416c750acab3\", \"gender\": 0, \"id\": 1207251, \"name\": \"Taylor Kibby\", \"order\": 35}, {\"cast_id\": 56, \"character\": \"Troupe\", \"credit_id\": \"52fe48009251416c750acab7\", \"gender\": 0, \"id\": 1207252, \"name\": \"Jodie Landau\", \"order\": 36}, {\"cast_id\": 58, \"character\": \"Troupe\", \"credit_id\": \"52fe48009251416c750acabf\", \"gender\": 0, \"id\": 1207254, \"name\": \"Julie Lamm\", \"order\": 37}, {\"cast_id\": 59, \"character\": \"Troupe\", \"credit_id\": \"52fe48009251416c750acac3\", \"gender\": 0, \"id\": 1207257, \"name\": \"Cullen B. Madden\", \"order\": 38}, {\"cast_id\": 60, \"character\": \"Troupe\", \"credit_id\": \"52fe48009251416c750acac7\", \"gender\": 0, \"id\": 1207259, \"name\": \"Joseph Brady Madden\", \"order\": 39}, {\"cast_id\": 61, \"character\": \"Troupe\", \"credit_id\": \"52fe48009251416c750acacb\", \"gender\": 0, \"id\": 1207262, \"name\": \"Frankie Torres\", \"order\": 40}, {\"cast_id\": 62, \"character\": \"Troupe\", \"credit_id\": \"52fe48009251416c750acacf\", \"gender\": 1, \"id\": 1158600, \"name\": \"Austin Wilson\", \"order\": 41}, {\"cast_id\": 63, \"character\": \"Troupe\", \"credit_id\": \"52fe48019251416c750acad3\", \"gender\": 1, \"id\": 983705, \"name\": \"Sara Wilson\", \"order\": 42}, {\"cast_id\": 64, \"character\": \"Troupe\", \"credit_id\": \"52fe48019251416c750acad7\", \"gender\": 0, \"id\": 1207263, \"name\": \"Tamica Washington-Miller\", \"order\": 43}, {\"cast_id\": 65, \"character\": \"Op Center Staff\", \"credit_id\": \"52fe48019251416c750acadb\", \"gender\": 1, \"id\": 1145098, \"name\": \"Lucy Briant\", \"order\": 44}, {\"cast_id\": 66, \"character\": \"Op Center Staff\", \"credit_id\": \"52fe48019251416c750acadf\", \"gender\": 2, \"id\": 33305, \"name\": \"Nathan Meister\", \"order\": 45}, {\"cast_id\": 67, \"character\": \"Op Center Staff\", \"credit_id\": \"52fe48019251416c750acae3\", \"gender\": 0, \"id\": 1207264, \"name\": \"Gerry Blair\", \"order\": 46}, {\"cast_id\": 68, \"character\": \"Op Center Staff\", \"credit_id\": \"52fe48019251416c750acae7\", \"gender\": 2, \"id\": 33311, \"name\": \"Matthew Chamberlain\", \"order\": 47}, {\"cast_id\": 69, \"character\": \"Op Center Staff\", \"credit_id\": \"52fe48019251416c750acaeb\", \"gender\": 0, \"id\": 1207265, \"name\": \"Paul Yates\", \"order\": 48}, {\"cast_id\": 70, \"character\": \"Op Center Duty Officer\", \"credit_id\": \"52fe48019251416c750acaef\", \"gender\": 0, \"id\": 1207266, \"name\": \"Wray Wilson\", \"order\": 49}, {\"cast_id\": 71, \"character\": \"Op Center Staff\", \"credit_id\": \"52fe48019251416c750acaf3\", \"gender\": 2, \"id\": 54492, \"name\": \"James Gaylyn\", \"order\": 50}, {\"cast_id\": 72, \"character\": \"Dancer\", \"credit_id\": \"52fe48019251416c750acaf7\", \"gender\": 0, \"id\": 1207267, \"name\": \"Melvin Leno Clark III\", \"order\": 51}, {\"cast_id\": 73, \"character\": \"Dancer\", \"credit_id\": \"52fe48019251416c750acafb\", \"gender\": 0, \"id\": 1207268, \"name\": \"Carvon Futrell\", \"order\": 52}, {\"cast_id\": 74, \"character\": \"Dancer\", \"credit_id\": \"52fe48019251416c750acaff\", \"gender\": 0, \"id\": 1207269, \"name\": \"Brandon Jelkes\", \"order\": 53}, {\"cast_id\": 75, \"character\": \"Dancer\", \"credit_id\": \"52fe48019251416c750acb03\", \"gender\": 0, \"id\": 1207270, \"name\": \"Micah Moch\", \"order\": 54}, {\"cast_id\": 76, \"character\": \"Dancer\", \"credit_id\": \"52fe48019251416c750acb07\", \"gender\": 0, \"id\": 1207271, \"name\": \"Hanniyah Muhammad\", \"order\": 55}, {\"cast_id\": 77, \"character\": \"Dancer\", \"credit_id\": \"52fe48019251416c750acb0b\", \"gender\": 0, \"id\": 1207272, \"name\": \"Christopher Nolen\", \"order\": 56}, {\"cast_id\": 78, \"character\": \"Dancer\", \"credit_id\": \"52fe48019251416c750acb0f\", \"gender\": 0, \"id\": 1207273, \"name\": \"Christa Oliver\", \"order\": 57}, {\"cast_id\": 79, \"character\": \"Dancer\", \"credit_id\": \"52fe48019251416c750acb13\", \"gender\": 0, \"id\": 1207274, \"name\": \"April Marie Thomas\", \"order\": 58}, {\"cast_id\": 80, \"character\": \"Dancer\", \"credit_id\": \"52fe48019251416c750acb17\", \"gender\": 0, \"id\": 1207275, \"name\": \"Bravita A. Threatt\", \"order\": 59}, {\"cast_id\": 81, \"character\": \"Mining Chief (uncredited)\", \"credit_id\": \"52fe48019251416c750acb1b\", \"gender\": 0, \"id\": 1207276, \"name\": \"Colin Bleasdale\", \"order\": 60}, {\"cast_id\": 82, \"character\": \"Veteran Miner (uncredited)\", \"credit_id\": \"52fe48019251416c750acb1f\", \"gender\": 0, \"id\": 107969, \"name\": \"Mike Bodnar\", \"order\": 61}, {\"cast_id\": 83, \"character\": \"Richard (uncredited)\", \"credit_id\": \"52fe48019251416c750acb23\", \"gender\": 0, \"id\": 1207278, \"name\": \"Matt Clayton\", \"order\": 62}, {\"cast_id\": 84, \"character\": \"Nav\\'i (uncredited)\", \"credit_id\": \"52fe48019251416c750acb27\", \"gender\": 1, \"id\": 147898, \"name\": \"Nicole Dionne\", \"order\": 63}, {\"cast_id\": 85, \"character\": \"Trooper (uncredited)\", \"credit_id\": \"52fe48019251416c750acb2b\", \"gender\": 0, \"id\": 1207280, \"name\": \"Jamie Harrison\", \"order\": 64}, {\"cast_id\": 86, \"character\": \"Trooper (uncredited)\", \"credit_id\": \"52fe48019251416c750acb2f\", \"gender\": 0, \"id\": 1207281, \"name\": \"Allan Henry\", \"order\": 65}, {\"cast_id\": 87, \"character\": \"Ground Technician (uncredited)\", \"credit_id\": \"52fe48019251416c750acb33\", \"gender\": 2, \"id\": 1207282, \"name\": \"Anthony Ingruber\", \"order\": 66}, {\"cast_id\": 88, \"character\": \"Flight Crew Mechanic (uncredited)\", \"credit_id\": \"52fe48019251416c750acb37\", \"gender\": 0, \"id\": 1207283, \"name\": \"Ashley Jeffery\", \"order\": 67}, {\"cast_id\": 14, \"character\": \"Samson Pilot\", \"credit_id\": \"52fe48009251416c750ac9f9\", \"gender\": 0, \"id\": 98216, \"name\": \"Dean Knowsley\", \"order\": 68}, {\"cast_id\": 89, \"character\": \"Trooper (uncredited)\", \"credit_id\": \"52fe48019251416c750acb3b\", \"gender\": 0, \"id\": 1201399, \"name\": \"Joseph Mika-Hunt\", \"order\": 69}, {\"cast_id\": 90, \"character\": \"Banshee (uncredited)\", \"credit_id\": \"52fe48019251416c750acb3f\", \"gender\": 0, \"id\": 236696, \"name\": \"Terry Notary\", \"order\": 70}, {\"cast_id\": 91, \"character\": \"Soldier (uncredited)\", \"credit_id\": \"52fe48019251416c750acb43\", \"gender\": 0, \"id\": 1207287, \"name\": \"Kai Pantano\", \"order\": 71}, {\"cast_id\": 92, \"character\": \"Blast Technician (uncredited)\", \"credit_id\": \"52fe48019251416c750acb47\", \"gender\": 0, \"id\": 1207288, \"name\": \"Logan Pithyou\", \"order\": 72}, {\"cast_id\": 93, \"character\": \"Vindum Raah (uncredited)\", \"credit_id\": \"52fe48019251416c750acb4b\", \"gender\": 0, \"id\": 1207289, \"name\": \"Stuart Pollock\", \"order\": 73}, {\"cast_id\": 94, \"character\": \"Hero (uncredited)\", \"credit_id\": \"52fe48019251416c750acb4f\", \"gender\": 0, \"id\": 584868, \"name\": \"Raja\", \"order\": 74}, {\"cast_id\": 95, \"character\": \"Ops Centreworker (uncredited)\", \"credit_id\": \"52fe48019251416c750acb53\", \"gender\": 0, \"id\": 1207290, \"name\": \"Gareth Ruck\", \"order\": 75}, {\"cast_id\": 96, \"character\": \"Engineer (uncredited)\", \"credit_id\": \"52fe48019251416c750acb57\", \"gender\": 0, \"id\": 1062463, \"name\": \"Rhian Sheehan\", \"order\": 76}, {\"cast_id\": 97, \"character\": \"Col. Quaritch\\'s Mech Suit (uncredited)\", \"credit_id\": \"52fe48019251416c750acb5b\", \"gender\": 0, \"id\": 60656, \"name\": \"T. J. Storm\", \"order\": 77}, {\"cast_id\": 98, \"character\": \"Female Marine (uncredited)\", \"credit_id\": \"52fe48019251416c750acb5f\", \"gender\": 0, \"id\": 1207291, \"name\": \"Jodie Taylor\", \"order\": 78}, {\"cast_id\": 99, \"character\": \"Ikran Clan Leader (uncredited)\", \"credit_id\": \"52fe48019251416c750acb63\", \"gender\": 1, \"id\": 1186027, \"name\": \"Alicia Vela-Bailey\", \"order\": 79}, {\"cast_id\": 100, \"character\": \"Geologist (uncredited)\", \"credit_id\": \"52fe48019251416c750acb67\", \"gender\": 0, \"id\": 1207292, \"name\": \"Richard Whiteside\", \"order\": 80}, {\"cast_id\": 101, \"character\": \"Na\\'vi (uncredited)\", \"credit_id\": \"52fe48019251416c750acb6b\", \"gender\": 0, \"id\": 103259, \"name\": \"Nikie Zambo\", \"order\": 81}, {\"cast_id\": 102, \"character\": \"Ambient Room Tech / Troupe\", \"credit_id\": \"52fe48019251416c750acb6f\", \"gender\": 1, \"id\": 42286, \"name\": \"Julene Renee\", \"order\": 82}]'"
      ]
     },
     "execution_count": 12,
     "metadata": {},
     "output_type": "execute_result"
    }
   ],
   "source": [
    "df1.cast[0]"
   ]
  },
  {
   "cell_type": "markdown",
   "id": "e400978e-122b-4aa4-8f62-1fbb76b4c2f9",
   "metadata": {},
   "source": [
    "## The dataset df2 contains the following features:-\n",
    "\n",
    "       movie_id - A unique identifier for each movie.\n",
    "       cast - The name of lead and supporting actors.\n",
    "       crew - The name of Director, Editor, Composer, Writer etc.\n",
    "\n",
    "## The dataset df1 has the following features:-\n",
    "\n",
    "             budget - The budget in which the movie was made.\n",
    "             genre - The genre of the movie, Action, Comedy ,Thriller etc.\n",
    "             homepage - A link to the homepage of the movie.\n",
    "             id - This is infact the movie_id as in the first dataset.\n",
    "             keywords - The keywords or tags related to the movie.\n",
    "             original_language - The language in which the movie was made.\n",
    "             original_title - The title of the movie before translation or adaptation.\n",
    "             overview - A brief description of the movie.\n",
    "             popularity - A numeric quantity specifying the movie popularity.\n",
    "             production_companies - The production house of the movie.\n",
    "             production_countries - The country in which it was produced.\n",
    "             release_date - The date on which it was released.\n",
    "             revenue - The worldwide revenue generated by the movie.\n",
    "             runtime - The running time of the movie in minutes.\n",
    "             status - \"Released\" or \"Rumored\".\n",
    "             tagline - Movie's tagline.\n",
    "             title - Title of the movie.\n",
    "             vote_average - average ratings the movie recieved.\n",
    "             vote_count - the count of votes recieved.\n",
    "\n",
    "We have the data frames with common column name movie id and id . So we can merge these two tables theough movie id ,But the column name in the df1 is movie id lets convert it to id and merge the two tables. "
   ]
  },
  {
   "cell_type": "code",
   "execution_count": 13,
   "id": "09e1e1d6-e9bd-4291-8e15-0899680595df",
   "metadata": {},
   "outputs": [],
   "source": [
    "df1.columns=['id','title','cast','crew']\n",
    "df2=df2.merge(df1,on='id')"
   ]
  },
  {
   "cell_type": "code",
   "execution_count": 14,
   "id": "ddc74e02-20c5-452d-82e8-dc454b746124",
   "metadata": {},
   "outputs": [
    {
     "data": {
      "text/html": [
       "<div>\n",
       "<style scoped>\n",
       "    .dataframe tbody tr th:only-of-type {\n",
       "        vertical-align: middle;\n",
       "    }\n",
       "\n",
       "    .dataframe tbody tr th {\n",
       "        vertical-align: top;\n",
       "    }\n",
       "\n",
       "    .dataframe thead th {\n",
       "        text-align: right;\n",
       "    }\n",
       "</style>\n",
       "<table border=\"1\" class=\"dataframe\">\n",
       "  <thead>\n",
       "    <tr style=\"text-align: right;\">\n",
       "      <th></th>\n",
       "      <th>cast_x</th>\n",
       "      <th>crew_x</th>\n",
       "      <th>id</th>\n",
       "      <th>title</th>\n",
       "      <th>cast_y</th>\n",
       "      <th>crew_y</th>\n",
       "    </tr>\n",
       "  </thead>\n",
       "  <tbody>\n",
       "    <tr>\n",
       "      <th>0</th>\n",
       "      <td>[{'cast_id': 14, 'character': 'Woody (voice)',...</td>\n",
       "      <td>[{'credit_id': '52fe4284c3a36847f8024f49', 'de...</td>\n",
       "      <td>862</td>\n",
       "      <td>Toy Story</td>\n",
       "      <td>[{\"cast_id\": 14, \"character\": \"Woody (voice)\",...</td>\n",
       "      <td>[{\"credit_id\": \"52fe4284c3a36847f8024f55\", \"de...</td>\n",
       "    </tr>\n",
       "    <tr>\n",
       "      <th>1</th>\n",
       "      <td>[{'cast_id': 1, 'character': 'James Bond', 'cr...</td>\n",
       "      <td>[{'credit_id': '52fe426ec3a36847f801e14b', 'de...</td>\n",
       "      <td>710</td>\n",
       "      <td>GoldenEye</td>\n",
       "      <td>[{\"cast_id\": 1, \"character\": \"James Bond\", \"cr...</td>\n",
       "      <td>[{\"credit_id\": \"52fe426ec3a36847f801e16f\", \"de...</td>\n",
       "    </tr>\n",
       "    <tr>\n",
       "      <th>2</th>\n",
       "      <td>[{'cast_id': 1, 'character': 'Andrew Shepherd'...</td>\n",
       "      <td>[{'credit_id': '52fe44dac3a36847f80adfa3', 'de...</td>\n",
       "      <td>9087</td>\n",
       "      <td>The American President</td>\n",
       "      <td>[{\"cast_id\": 1, \"character\": \"Andrew Shepherd\"...</td>\n",
       "      <td>[{\"credit_id\": \"52fe44dac3a36847f80adfa3\", \"de...</td>\n",
       "    </tr>\n",
       "    <tr>\n",
       "      <th>3</th>\n",
       "      <td>[{'cast_id': 1, 'character': 'Richard Nixon', ...</td>\n",
       "      <td>[{'credit_id': '52fe43c59251416c7501d6f3', 'de...</td>\n",
       "      <td>10858</td>\n",
       "      <td>Nixon</td>\n",
       "      <td>[{\"cast_id\": 1, \"character\": \"Richard Nixon\", ...</td>\n",
       "      <td>[{\"credit_id\": \"52fe43c59251416c7501d705\", \"de...</td>\n",
       "    </tr>\n",
       "    <tr>\n",
       "      <th>4</th>\n",
       "      <td>[{'cast_id': 1, 'character': 'Morgan Adams', '...</td>\n",
       "      <td>[{'credit_id': '52fe42f4c3a36847f802f69f', 'de...</td>\n",
       "      <td>1408</td>\n",
       "      <td>Cutthroat Island</td>\n",
       "      <td>[{\"cast_id\": 1, \"character\": \"Morgan Adams\", \"...</td>\n",
       "      <td>[{\"credit_id\": \"52fe42f4c3a36847f802f69f\", \"de...</td>\n",
       "    </tr>\n",
       "    <tr>\n",
       "      <th>5</th>\n",
       "      <td>[{'cast_id': 4, 'character': \"Sam 'Ace' Rothst...</td>\n",
       "      <td>[{'credit_id': '52fe424dc3a36847f80139cd', 'de...</td>\n",
       "      <td>524</td>\n",
       "      <td>Casino</td>\n",
       "      <td>[{\"cast_id\": 4, \"character\": \"Sam 'Ace' Rothst...</td>\n",
       "      <td>[{\"credit_id\": \"52fe424dc3a36847f8013a01\", \"de...</td>\n",
       "    </tr>\n",
       "    <tr>\n",
       "      <th>6</th>\n",
       "      <td>[{'cast_id': 6, 'character': 'Marianne Dashwoo...</td>\n",
       "      <td>[{'credit_id': '52fe43cec3a36847f807101f', 'de...</td>\n",
       "      <td>4584</td>\n",
       "      <td>Sense and Sensibility</td>\n",
       "      <td>[{\"cast_id\": 6, \"character\": \"Marianne Dashwoo...</td>\n",
       "      <td>[{\"credit_id\": \"52fe43cec3a36847f807101f\", \"de...</td>\n",
       "    </tr>\n",
       "    <tr>\n",
       "      <th>7</th>\n",
       "      <td>[{'cast_id': 42, 'character': 'Ted the Bellhop...</td>\n",
       "      <td>[{'credit_id': '52fe420dc3a36847f800011b', 'de...</td>\n",
       "      <td>5</td>\n",
       "      <td>Four Rooms</td>\n",
       "      <td>[{\"cast_id\": 42, \"character\": \"Ted the Bellhop...</td>\n",
       "      <td>[{\"credit_id\": \"52fe420dc3a36847f800012d\", \"de...</td>\n",
       "    </tr>\n",
       "    <tr>\n",
       "      <th>8</th>\n",
       "      <td>[{'cast_id': 1, 'character': 'Ace Ventura', 'c...</td>\n",
       "      <td>[{'credit_id': '52fe44dfc3a36847f80af28b', 'de...</td>\n",
       "      <td>9273</td>\n",
       "      <td>Ace Ventura: When Nature Calls</td>\n",
       "      <td>[{\"cast_id\": 1, \"character\": \"Ace Ventura\", \"c...</td>\n",
       "      <td>[{\"credit_id\": \"52fe44dfc3a36847f80af28b\", \"de...</td>\n",
       "    </tr>\n",
       "    <tr>\n",
       "      <th>9</th>\n",
       "      <td>[{'cast_id': 1, 'character': 'John', 'credit_i...</td>\n",
       "      <td>[{'credit_id': '52fe44509251416c750305a1', 'de...</td>\n",
       "      <td>11517</td>\n",
       "      <td>Money Train</td>\n",
       "      <td>[{\"cast_id\": 1, \"character\": \"John\", \"credit_i...</td>\n",
       "      <td>[{\"credit_id\": \"5675eda0c3a368168e003f07\", \"de...</td>\n",
       "    </tr>\n",
       "  </tbody>\n",
       "</table>\n",
       "</div>"
      ],
      "text/plain": [
       "                                              cast_x  \\\n",
       "0  [{'cast_id': 14, 'character': 'Woody (voice)',...   \n",
       "1  [{'cast_id': 1, 'character': 'James Bond', 'cr...   \n",
       "2  [{'cast_id': 1, 'character': 'Andrew Shepherd'...   \n",
       "3  [{'cast_id': 1, 'character': 'Richard Nixon', ...   \n",
       "4  [{'cast_id': 1, 'character': 'Morgan Adams', '...   \n",
       "5  [{'cast_id': 4, 'character': \"Sam 'Ace' Rothst...   \n",
       "6  [{'cast_id': 6, 'character': 'Marianne Dashwoo...   \n",
       "7  [{'cast_id': 42, 'character': 'Ted the Bellhop...   \n",
       "8  [{'cast_id': 1, 'character': 'Ace Ventura', 'c...   \n",
       "9  [{'cast_id': 1, 'character': 'John', 'credit_i...   \n",
       "\n",
       "                                              crew_x     id  \\\n",
       "0  [{'credit_id': '52fe4284c3a36847f8024f49', 'de...    862   \n",
       "1  [{'credit_id': '52fe426ec3a36847f801e14b', 'de...    710   \n",
       "2  [{'credit_id': '52fe44dac3a36847f80adfa3', 'de...   9087   \n",
       "3  [{'credit_id': '52fe43c59251416c7501d6f3', 'de...  10858   \n",
       "4  [{'credit_id': '52fe42f4c3a36847f802f69f', 'de...   1408   \n",
       "5  [{'credit_id': '52fe424dc3a36847f80139cd', 'de...    524   \n",
       "6  [{'credit_id': '52fe43cec3a36847f807101f', 'de...   4584   \n",
       "7  [{'credit_id': '52fe420dc3a36847f800011b', 'de...      5   \n",
       "8  [{'credit_id': '52fe44dfc3a36847f80af28b', 'de...   9273   \n",
       "9  [{'credit_id': '52fe44509251416c750305a1', 'de...  11517   \n",
       "\n",
       "                            title  \\\n",
       "0                       Toy Story   \n",
       "1                       GoldenEye   \n",
       "2          The American President   \n",
       "3                           Nixon   \n",
       "4                Cutthroat Island   \n",
       "5                          Casino   \n",
       "6           Sense and Sensibility   \n",
       "7                      Four Rooms   \n",
       "8  Ace Ventura: When Nature Calls   \n",
       "9                     Money Train   \n",
       "\n",
       "                                              cast_y  \\\n",
       "0  [{\"cast_id\": 14, \"character\": \"Woody (voice)\",...   \n",
       "1  [{\"cast_id\": 1, \"character\": \"James Bond\", \"cr...   \n",
       "2  [{\"cast_id\": 1, \"character\": \"Andrew Shepherd\"...   \n",
       "3  [{\"cast_id\": 1, \"character\": \"Richard Nixon\", ...   \n",
       "4  [{\"cast_id\": 1, \"character\": \"Morgan Adams\", \"...   \n",
       "5  [{\"cast_id\": 4, \"character\": \"Sam 'Ace' Rothst...   \n",
       "6  [{\"cast_id\": 6, \"character\": \"Marianne Dashwoo...   \n",
       "7  [{\"cast_id\": 42, \"character\": \"Ted the Bellhop...   \n",
       "8  [{\"cast_id\": 1, \"character\": \"Ace Ventura\", \"c...   \n",
       "9  [{\"cast_id\": 1, \"character\": \"John\", \"credit_i...   \n",
       "\n",
       "                                              crew_y  \n",
       "0  [{\"credit_id\": \"52fe4284c3a36847f8024f55\", \"de...  \n",
       "1  [{\"credit_id\": \"52fe426ec3a36847f801e16f\", \"de...  \n",
       "2  [{\"credit_id\": \"52fe44dac3a36847f80adfa3\", \"de...  \n",
       "3  [{\"credit_id\": \"52fe43c59251416c7501d705\", \"de...  \n",
       "4  [{\"credit_id\": \"52fe42f4c3a36847f802f69f\", \"de...  \n",
       "5  [{\"credit_id\": \"52fe424dc3a36847f8013a01\", \"de...  \n",
       "6  [{\"credit_id\": \"52fe43cec3a36847f807101f\", \"de...  \n",
       "7  [{\"credit_id\": \"52fe420dc3a36847f800012d\", \"de...  \n",
       "8  [{\"credit_id\": \"52fe44dfc3a36847f80af28b\", \"de...  \n",
       "9  [{\"credit_id\": \"5675eda0c3a368168e003f07\", \"de...  "
      ]
     },
     "execution_count": 14,
     "metadata": {},
     "output_type": "execute_result"
    }
   ],
   "source": [
    "#Lets check our new data set\n",
    "df2.head(10)"
   ]
  },
  {
   "cell_type": "code",
   "execution_count": 15,
   "id": "df3eb5c4-7150-4a7d-ac04-e4254afb33e3",
   "metadata": {},
   "outputs": [
    {
     "data": {
      "text/plain": [
       "cast_x    0\n",
       "crew_x    0\n",
       "id        0\n",
       "title     0\n",
       "cast_y    0\n",
       "crew_y    0\n",
       "dtype: int64"
      ]
     },
     "execution_count": 15,
     "metadata": {},
     "output_type": "execute_result"
    }
   ],
   "source": [
    "df2.isna().sum()"
   ]
  },
  {
   "cell_type": "code",
   "execution_count": 16,
   "id": "e83d8981-cbf4-4606-b8ed-a4202ac97f0a",
   "metadata": {},
   "outputs": [
    {
     "data": {
      "text/plain": [
       "27594"
      ]
     },
     "execution_count": 16,
     "metadata": {},
     "output_type": "execute_result"
    }
   ],
   "source": [
    "df2.size"
   ]
  },
  {
   "cell_type": "markdown",
   "id": "e4474397-ee03-4751-ab4f-cdcec682d4f8",
   "metadata": {},
   "source": [
    "As the same columns are reapeated let's slice the columns and get a new data set"
   ]
  },
  {
   "cell_type": "code",
   "execution_count": 17,
   "id": "77db6f62-36b7-455a-a87f-d7188e76808b",
   "metadata": {},
   "outputs": [],
   "source": [
    "df_new=df2[['cast_x','crew_x','id','title']]\t"
   ]
  },
  {
   "cell_type": "code",
   "execution_count": 18,
   "id": "ad2ffec1-4b18-40cb-a26e-c4b19c764aa4",
   "metadata": {},
   "outputs": [
    {
     "data": {
      "text/html": [
       "<div>\n",
       "<style scoped>\n",
       "    .dataframe tbody tr th:only-of-type {\n",
       "        vertical-align: middle;\n",
       "    }\n",
       "\n",
       "    .dataframe tbody tr th {\n",
       "        vertical-align: top;\n",
       "    }\n",
       "\n",
       "    .dataframe thead th {\n",
       "        text-align: right;\n",
       "    }\n",
       "</style>\n",
       "<table border=\"1\" class=\"dataframe\">\n",
       "  <thead>\n",
       "    <tr style=\"text-align: right;\">\n",
       "      <th></th>\n",
       "      <th>cast_x</th>\n",
       "      <th>crew_x</th>\n",
       "      <th>id</th>\n",
       "      <th>title</th>\n",
       "    </tr>\n",
       "  </thead>\n",
       "  <tbody>\n",
       "    <tr>\n",
       "      <th>0</th>\n",
       "      <td>[{'cast_id': 14, 'character': 'Woody (voice)',...</td>\n",
       "      <td>[{'credit_id': '52fe4284c3a36847f8024f49', 'de...</td>\n",
       "      <td>862</td>\n",
       "      <td>Toy Story</td>\n",
       "    </tr>\n",
       "    <tr>\n",
       "      <th>1</th>\n",
       "      <td>[{'cast_id': 1, 'character': 'James Bond', 'cr...</td>\n",
       "      <td>[{'credit_id': '52fe426ec3a36847f801e14b', 'de...</td>\n",
       "      <td>710</td>\n",
       "      <td>GoldenEye</td>\n",
       "    </tr>\n",
       "    <tr>\n",
       "      <th>2</th>\n",
       "      <td>[{'cast_id': 1, 'character': 'Andrew Shepherd'...</td>\n",
       "      <td>[{'credit_id': '52fe44dac3a36847f80adfa3', 'de...</td>\n",
       "      <td>9087</td>\n",
       "      <td>The American President</td>\n",
       "    </tr>\n",
       "    <tr>\n",
       "      <th>3</th>\n",
       "      <td>[{'cast_id': 1, 'character': 'Richard Nixon', ...</td>\n",
       "      <td>[{'credit_id': '52fe43c59251416c7501d6f3', 'de...</td>\n",
       "      <td>10858</td>\n",
       "      <td>Nixon</td>\n",
       "    </tr>\n",
       "    <tr>\n",
       "      <th>4</th>\n",
       "      <td>[{'cast_id': 1, 'character': 'Morgan Adams', '...</td>\n",
       "      <td>[{'credit_id': '52fe42f4c3a36847f802f69f', 'de...</td>\n",
       "      <td>1408</td>\n",
       "      <td>Cutthroat Island</td>\n",
       "    </tr>\n",
       "    <tr>\n",
       "      <th>5</th>\n",
       "      <td>[{'cast_id': 4, 'character': \"Sam 'Ace' Rothst...</td>\n",
       "      <td>[{'credit_id': '52fe424dc3a36847f80139cd', 'de...</td>\n",
       "      <td>524</td>\n",
       "      <td>Casino</td>\n",
       "    </tr>\n",
       "    <tr>\n",
       "      <th>6</th>\n",
       "      <td>[{'cast_id': 6, 'character': 'Marianne Dashwoo...</td>\n",
       "      <td>[{'credit_id': '52fe43cec3a36847f807101f', 'de...</td>\n",
       "      <td>4584</td>\n",
       "      <td>Sense and Sensibility</td>\n",
       "    </tr>\n",
       "    <tr>\n",
       "      <th>7</th>\n",
       "      <td>[{'cast_id': 42, 'character': 'Ted the Bellhop...</td>\n",
       "      <td>[{'credit_id': '52fe420dc3a36847f800011b', 'de...</td>\n",
       "      <td>5</td>\n",
       "      <td>Four Rooms</td>\n",
       "    </tr>\n",
       "    <tr>\n",
       "      <th>8</th>\n",
       "      <td>[{'cast_id': 1, 'character': 'Ace Ventura', 'c...</td>\n",
       "      <td>[{'credit_id': '52fe44dfc3a36847f80af28b', 'de...</td>\n",
       "      <td>9273</td>\n",
       "      <td>Ace Ventura: When Nature Calls</td>\n",
       "    </tr>\n",
       "    <tr>\n",
       "      <th>9</th>\n",
       "      <td>[{'cast_id': 1, 'character': 'John', 'credit_i...</td>\n",
       "      <td>[{'credit_id': '52fe44509251416c750305a1', 'de...</td>\n",
       "      <td>11517</td>\n",
       "      <td>Money Train</td>\n",
       "    </tr>\n",
       "  </tbody>\n",
       "</table>\n",
       "</div>"
      ],
      "text/plain": [
       "                                              cast_x  \\\n",
       "0  [{'cast_id': 14, 'character': 'Woody (voice)',...   \n",
       "1  [{'cast_id': 1, 'character': 'James Bond', 'cr...   \n",
       "2  [{'cast_id': 1, 'character': 'Andrew Shepherd'...   \n",
       "3  [{'cast_id': 1, 'character': 'Richard Nixon', ...   \n",
       "4  [{'cast_id': 1, 'character': 'Morgan Adams', '...   \n",
       "5  [{'cast_id': 4, 'character': \"Sam 'Ace' Rothst...   \n",
       "6  [{'cast_id': 6, 'character': 'Marianne Dashwoo...   \n",
       "7  [{'cast_id': 42, 'character': 'Ted the Bellhop...   \n",
       "8  [{'cast_id': 1, 'character': 'Ace Ventura', 'c...   \n",
       "9  [{'cast_id': 1, 'character': 'John', 'credit_i...   \n",
       "\n",
       "                                              crew_x     id  \\\n",
       "0  [{'credit_id': '52fe4284c3a36847f8024f49', 'de...    862   \n",
       "1  [{'credit_id': '52fe426ec3a36847f801e14b', 'de...    710   \n",
       "2  [{'credit_id': '52fe44dac3a36847f80adfa3', 'de...   9087   \n",
       "3  [{'credit_id': '52fe43c59251416c7501d6f3', 'de...  10858   \n",
       "4  [{'credit_id': '52fe42f4c3a36847f802f69f', 'de...   1408   \n",
       "5  [{'credit_id': '52fe424dc3a36847f80139cd', 'de...    524   \n",
       "6  [{'credit_id': '52fe43cec3a36847f807101f', 'de...   4584   \n",
       "7  [{'credit_id': '52fe420dc3a36847f800011b', 'de...      5   \n",
       "8  [{'credit_id': '52fe44dfc3a36847f80af28b', 'de...   9273   \n",
       "9  [{'credit_id': '52fe44509251416c750305a1', 'de...  11517   \n",
       "\n",
       "                            title  \n",
       "0                       Toy Story  \n",
       "1                       GoldenEye  \n",
       "2          The American President  \n",
       "3                           Nixon  \n",
       "4                Cutthroat Island  \n",
       "5                          Casino  \n",
       "6           Sense and Sensibility  \n",
       "7                      Four Rooms  \n",
       "8  Ace Ventura: When Nature Calls  \n",
       "9                     Money Train  "
      ]
     },
     "execution_count": 18,
     "metadata": {},
     "output_type": "execute_result"
    }
   ],
   "source": [
    "df_new.head(10)\n"
   ]
  },
  {
   "cell_type": "markdown",
   "id": "0733285e-3d32-41f7-af57-14b2cd318c17",
   "metadata": {},
   "source": [
    "## lets rearrange the  columns"
   ]
  },
  {
   "cell_type": "code",
   "execution_count": 19,
   "id": "472299a8-60b5-4746-8bb0-94e84d6feebc",
   "metadata": {},
   "outputs": [],
   "source": [
    "df_new=df_new[['id','title', 'cast_x', 'crew_x']]"
   ]
  },
  {
   "cell_type": "code",
   "execution_count": 20,
   "id": "a85fb188-3cf9-47b4-895d-ba04cd47903a",
   "metadata": {},
   "outputs": [
    {
     "data": {
      "text/html": [
       "<div>\n",
       "<style scoped>\n",
       "    .dataframe tbody tr th:only-of-type {\n",
       "        vertical-align: middle;\n",
       "    }\n",
       "\n",
       "    .dataframe tbody tr th {\n",
       "        vertical-align: top;\n",
       "    }\n",
       "\n",
       "    .dataframe thead th {\n",
       "        text-align: right;\n",
       "    }\n",
       "</style>\n",
       "<table border=\"1\" class=\"dataframe\">\n",
       "  <thead>\n",
       "    <tr style=\"text-align: right;\">\n",
       "      <th></th>\n",
       "      <th>id</th>\n",
       "      <th>title</th>\n",
       "      <th>cast_x</th>\n",
       "      <th>crew_x</th>\n",
       "    </tr>\n",
       "  </thead>\n",
       "  <tbody>\n",
       "    <tr>\n",
       "      <th>0</th>\n",
       "      <td>862</td>\n",
       "      <td>Toy Story</td>\n",
       "      <td>[{'cast_id': 14, 'character': 'Woody (voice)',...</td>\n",
       "      <td>[{'credit_id': '52fe4284c3a36847f8024f49', 'de...</td>\n",
       "    </tr>\n",
       "    <tr>\n",
       "      <th>1</th>\n",
       "      <td>710</td>\n",
       "      <td>GoldenEye</td>\n",
       "      <td>[{'cast_id': 1, 'character': 'James Bond', 'cr...</td>\n",
       "      <td>[{'credit_id': '52fe426ec3a36847f801e14b', 'de...</td>\n",
       "    </tr>\n",
       "    <tr>\n",
       "      <th>2</th>\n",
       "      <td>9087</td>\n",
       "      <td>The American President</td>\n",
       "      <td>[{'cast_id': 1, 'character': 'Andrew Shepherd'...</td>\n",
       "      <td>[{'credit_id': '52fe44dac3a36847f80adfa3', 'de...</td>\n",
       "    </tr>\n",
       "    <tr>\n",
       "      <th>3</th>\n",
       "      <td>10858</td>\n",
       "      <td>Nixon</td>\n",
       "      <td>[{'cast_id': 1, 'character': 'Richard Nixon', ...</td>\n",
       "      <td>[{'credit_id': '52fe43c59251416c7501d6f3', 'de...</td>\n",
       "    </tr>\n",
       "    <tr>\n",
       "      <th>4</th>\n",
       "      <td>1408</td>\n",
       "      <td>Cutthroat Island</td>\n",
       "      <td>[{'cast_id': 1, 'character': 'Morgan Adams', '...</td>\n",
       "      <td>[{'credit_id': '52fe42f4c3a36847f802f69f', 'de...</td>\n",
       "    </tr>\n",
       "    <tr>\n",
       "      <th>5</th>\n",
       "      <td>524</td>\n",
       "      <td>Casino</td>\n",
       "      <td>[{'cast_id': 4, 'character': \"Sam 'Ace' Rothst...</td>\n",
       "      <td>[{'credit_id': '52fe424dc3a36847f80139cd', 'de...</td>\n",
       "    </tr>\n",
       "    <tr>\n",
       "      <th>6</th>\n",
       "      <td>4584</td>\n",
       "      <td>Sense and Sensibility</td>\n",
       "      <td>[{'cast_id': 6, 'character': 'Marianne Dashwoo...</td>\n",
       "      <td>[{'credit_id': '52fe43cec3a36847f807101f', 'de...</td>\n",
       "    </tr>\n",
       "    <tr>\n",
       "      <th>7</th>\n",
       "      <td>5</td>\n",
       "      <td>Four Rooms</td>\n",
       "      <td>[{'cast_id': 42, 'character': 'Ted the Bellhop...</td>\n",
       "      <td>[{'credit_id': '52fe420dc3a36847f800011b', 'de...</td>\n",
       "    </tr>\n",
       "    <tr>\n",
       "      <th>8</th>\n",
       "      <td>9273</td>\n",
       "      <td>Ace Ventura: When Nature Calls</td>\n",
       "      <td>[{'cast_id': 1, 'character': 'Ace Ventura', 'c...</td>\n",
       "      <td>[{'credit_id': '52fe44dfc3a36847f80af28b', 'de...</td>\n",
       "    </tr>\n",
       "    <tr>\n",
       "      <th>9</th>\n",
       "      <td>11517</td>\n",
       "      <td>Money Train</td>\n",
       "      <td>[{'cast_id': 1, 'character': 'John', 'credit_i...</td>\n",
       "      <td>[{'credit_id': '52fe44509251416c750305a1', 'de...</td>\n",
       "    </tr>\n",
       "  </tbody>\n",
       "</table>\n",
       "</div>"
      ],
      "text/plain": [
       "      id                           title  \\\n",
       "0    862                       Toy Story   \n",
       "1    710                       GoldenEye   \n",
       "2   9087          The American President   \n",
       "3  10858                           Nixon   \n",
       "4   1408                Cutthroat Island   \n",
       "5    524                          Casino   \n",
       "6   4584           Sense and Sensibility   \n",
       "7      5                      Four Rooms   \n",
       "8   9273  Ace Ventura: When Nature Calls   \n",
       "9  11517                     Money Train   \n",
       "\n",
       "                                              cast_x  \\\n",
       "0  [{'cast_id': 14, 'character': 'Woody (voice)',...   \n",
       "1  [{'cast_id': 1, 'character': 'James Bond', 'cr...   \n",
       "2  [{'cast_id': 1, 'character': 'Andrew Shepherd'...   \n",
       "3  [{'cast_id': 1, 'character': 'Richard Nixon', ...   \n",
       "4  [{'cast_id': 1, 'character': 'Morgan Adams', '...   \n",
       "5  [{'cast_id': 4, 'character': \"Sam 'Ace' Rothst...   \n",
       "6  [{'cast_id': 6, 'character': 'Marianne Dashwoo...   \n",
       "7  [{'cast_id': 42, 'character': 'Ted the Bellhop...   \n",
       "8  [{'cast_id': 1, 'character': 'Ace Ventura', 'c...   \n",
       "9  [{'cast_id': 1, 'character': 'John', 'credit_i...   \n",
       "\n",
       "                                              crew_x  \n",
       "0  [{'credit_id': '52fe4284c3a36847f8024f49', 'de...  \n",
       "1  [{'credit_id': '52fe426ec3a36847f801e14b', 'de...  \n",
       "2  [{'credit_id': '52fe44dac3a36847f80adfa3', 'de...  \n",
       "3  [{'credit_id': '52fe43c59251416c7501d6f3', 'de...  \n",
       "4  [{'credit_id': '52fe42f4c3a36847f802f69f', 'de...  \n",
       "5  [{'credit_id': '52fe424dc3a36847f80139cd', 'de...  \n",
       "6  [{'credit_id': '52fe43cec3a36847f807101f', 'de...  \n",
       "7  [{'credit_id': '52fe420dc3a36847f800011b', 'de...  \n",
       "8  [{'credit_id': '52fe44dfc3a36847f80af28b', 'de...  \n",
       "9  [{'credit_id': '52fe44509251416c750305a1', 'de...  "
      ]
     },
     "execution_count": 20,
     "metadata": {},
     "output_type": "execute_result"
    }
   ],
   "source": [
    "df_new.head(10)"
   ]
  },
  {
   "cell_type": "code",
   "execution_count": 21,
   "id": "a8c739ac-f5c7-434e-b7bb-beeb96a52c45",
   "metadata": {},
   "outputs": [
    {
     "data": {
      "text/plain": [
       "4599"
      ]
     },
     "execution_count": 21,
     "metadata": {},
     "output_type": "execute_result"
    }
   ],
   "source": [
    "df_new['cast_x'].value_counts().sum()"
   ]
  },
  {
   "cell_type": "code",
   "execution_count": 22,
   "id": "96154737-c433-4c2c-9b51-875401748e5f",
   "metadata": {},
   "outputs": [
    {
     "data": {
      "text/plain": [
       "4599"
      ]
     },
     "execution_count": 22,
     "metadata": {},
     "output_type": "execute_result"
    }
   ],
   "source": [
    "df_new['crew_x'].value_counts().sum()"
   ]
  },
  {
   "cell_type": "markdown",
   "id": "35c859b2-035f-46a7-9c45-1a1d8df25f66",
   "metadata": {},
   "source": [
    "## Lets upload our movies data set and merge with this df_new data set."
   ]
  },
  {
   "cell_type": "code",
   "execution_count": 23,
   "id": "048d2245-6134-4241-a83c-75b5306c3e80",
   "metadata": {},
   "outputs": [
    {
     "name": "stderr",
     "output_type": "stream",
     "text": [
      "C:\\Users\\hp\\AppData\\Local\\Temp\\ipykernel_13620\\365197693.py:1: DtypeWarning: Columns (10) have mixed types. Specify dtype option on import or set low_memory=False.\n",
      "  df_movies=pd.read_csv('movies_metadata.csv')\n"
     ]
    },
    {
     "data": {
      "text/html": [
       "<div>\n",
       "<style scoped>\n",
       "    .dataframe tbody tr th:only-of-type {\n",
       "        vertical-align: middle;\n",
       "    }\n",
       "\n",
       "    .dataframe tbody tr th {\n",
       "        vertical-align: top;\n",
       "    }\n",
       "\n",
       "    .dataframe thead th {\n",
       "        text-align: right;\n",
       "    }\n",
       "</style>\n",
       "<table border=\"1\" class=\"dataframe\">\n",
       "  <thead>\n",
       "    <tr style=\"text-align: right;\">\n",
       "      <th></th>\n",
       "      <th>adult</th>\n",
       "      <th>belongs_to_collection</th>\n",
       "      <th>budget</th>\n",
       "      <th>genres</th>\n",
       "      <th>homepage</th>\n",
       "      <th>id</th>\n",
       "      <th>imdb_id</th>\n",
       "      <th>original_language</th>\n",
       "      <th>original_title</th>\n",
       "      <th>overview</th>\n",
       "      <th>...</th>\n",
       "      <th>release_date</th>\n",
       "      <th>revenue</th>\n",
       "      <th>runtime</th>\n",
       "      <th>spoken_languages</th>\n",
       "      <th>status</th>\n",
       "      <th>tagline</th>\n",
       "      <th>title</th>\n",
       "      <th>video</th>\n",
       "      <th>vote_average</th>\n",
       "      <th>vote_count</th>\n",
       "    </tr>\n",
       "  </thead>\n",
       "  <tbody>\n",
       "    <tr>\n",
       "      <th>0</th>\n",
       "      <td>False</td>\n",
       "      <td>{'id': 10194, 'name': 'Toy Story Collection', ...</td>\n",
       "      <td>30000000</td>\n",
       "      <td>[{'id': 16, 'name': 'Animation'}, {'id': 35, '...</td>\n",
       "      <td>http://toystory.disney.com/toy-story</td>\n",
       "      <td>862</td>\n",
       "      <td>tt0114709</td>\n",
       "      <td>en</td>\n",
       "      <td>Toy Story</td>\n",
       "      <td>Led by Woody, Andy's toys live happily in his ...</td>\n",
       "      <td>...</td>\n",
       "      <td>1995-10-30</td>\n",
       "      <td>373554033.0</td>\n",
       "      <td>81.0</td>\n",
       "      <td>[{'iso_639_1': 'en', 'name': 'English'}]</td>\n",
       "      <td>Released</td>\n",
       "      <td>NaN</td>\n",
       "      <td>Toy Story</td>\n",
       "      <td>False</td>\n",
       "      <td>7.7</td>\n",
       "      <td>5415.0</td>\n",
       "    </tr>\n",
       "    <tr>\n",
       "      <th>1</th>\n",
       "      <td>False</td>\n",
       "      <td>NaN</td>\n",
       "      <td>65000000</td>\n",
       "      <td>[{'id': 12, 'name': 'Adventure'}, {'id': 14, '...</td>\n",
       "      <td>NaN</td>\n",
       "      <td>8844</td>\n",
       "      <td>tt0113497</td>\n",
       "      <td>en</td>\n",
       "      <td>Jumanji</td>\n",
       "      <td>When siblings Judy and Peter discover an encha...</td>\n",
       "      <td>...</td>\n",
       "      <td>1995-12-15</td>\n",
       "      <td>262797249.0</td>\n",
       "      <td>104.0</td>\n",
       "      <td>[{'iso_639_1': 'en', 'name': 'English'}, {'iso...</td>\n",
       "      <td>Released</td>\n",
       "      <td>Roll the dice and unleash the excitement!</td>\n",
       "      <td>Jumanji</td>\n",
       "      <td>False</td>\n",
       "      <td>6.9</td>\n",
       "      <td>2413.0</td>\n",
       "    </tr>\n",
       "    <tr>\n",
       "      <th>2</th>\n",
       "      <td>False</td>\n",
       "      <td>{'id': 119050, 'name': 'Grumpy Old Men Collect...</td>\n",
       "      <td>0</td>\n",
       "      <td>[{'id': 10749, 'name': 'Romance'}, {'id': 35, ...</td>\n",
       "      <td>NaN</td>\n",
       "      <td>15602</td>\n",
       "      <td>tt0113228</td>\n",
       "      <td>en</td>\n",
       "      <td>Grumpier Old Men</td>\n",
       "      <td>A family wedding reignites the ancient feud be...</td>\n",
       "      <td>...</td>\n",
       "      <td>1995-12-22</td>\n",
       "      <td>0.0</td>\n",
       "      <td>101.0</td>\n",
       "      <td>[{'iso_639_1': 'en', 'name': 'English'}]</td>\n",
       "      <td>Released</td>\n",
       "      <td>Still Yelling. Still Fighting. Still Ready for...</td>\n",
       "      <td>Grumpier Old Men</td>\n",
       "      <td>False</td>\n",
       "      <td>6.5</td>\n",
       "      <td>92.0</td>\n",
       "    </tr>\n",
       "    <tr>\n",
       "      <th>3</th>\n",
       "      <td>False</td>\n",
       "      <td>NaN</td>\n",
       "      <td>16000000</td>\n",
       "      <td>[{'id': 35, 'name': 'Comedy'}, {'id': 18, 'nam...</td>\n",
       "      <td>NaN</td>\n",
       "      <td>31357</td>\n",
       "      <td>tt0114885</td>\n",
       "      <td>en</td>\n",
       "      <td>Waiting to Exhale</td>\n",
       "      <td>Cheated on, mistreated and stepped on, the wom...</td>\n",
       "      <td>...</td>\n",
       "      <td>1995-12-22</td>\n",
       "      <td>81452156.0</td>\n",
       "      <td>127.0</td>\n",
       "      <td>[{'iso_639_1': 'en', 'name': 'English'}]</td>\n",
       "      <td>Released</td>\n",
       "      <td>Friends are the people who let you be yourself...</td>\n",
       "      <td>Waiting to Exhale</td>\n",
       "      <td>False</td>\n",
       "      <td>6.1</td>\n",
       "      <td>34.0</td>\n",
       "    </tr>\n",
       "    <tr>\n",
       "      <th>4</th>\n",
       "      <td>False</td>\n",
       "      <td>{'id': 96871, 'name': 'Father of the Bride Col...</td>\n",
       "      <td>0</td>\n",
       "      <td>[{'id': 35, 'name': 'Comedy'}]</td>\n",
       "      <td>NaN</td>\n",
       "      <td>11862</td>\n",
       "      <td>tt0113041</td>\n",
       "      <td>en</td>\n",
       "      <td>Father of the Bride Part II</td>\n",
       "      <td>Just when George Banks has recovered from his ...</td>\n",
       "      <td>...</td>\n",
       "      <td>1995-02-10</td>\n",
       "      <td>76578911.0</td>\n",
       "      <td>106.0</td>\n",
       "      <td>[{'iso_639_1': 'en', 'name': 'English'}]</td>\n",
       "      <td>Released</td>\n",
       "      <td>Just When His World Is Back To Normal... He's ...</td>\n",
       "      <td>Father of the Bride Part II</td>\n",
       "      <td>False</td>\n",
       "      <td>5.7</td>\n",
       "      <td>173.0</td>\n",
       "    </tr>\n",
       "    <tr>\n",
       "      <th>5</th>\n",
       "      <td>False</td>\n",
       "      <td>NaN</td>\n",
       "      <td>60000000</td>\n",
       "      <td>[{'id': 28, 'name': 'Action'}, {'id': 80, 'nam...</td>\n",
       "      <td>NaN</td>\n",
       "      <td>949</td>\n",
       "      <td>tt0113277</td>\n",
       "      <td>en</td>\n",
       "      <td>Heat</td>\n",
       "      <td>Obsessive master thief, Neil McCauley leads a ...</td>\n",
       "      <td>...</td>\n",
       "      <td>1995-12-15</td>\n",
       "      <td>187436818.0</td>\n",
       "      <td>170.0</td>\n",
       "      <td>[{'iso_639_1': 'en', 'name': 'English'}, {'iso...</td>\n",
       "      <td>Released</td>\n",
       "      <td>A Los Angeles Crime Saga</td>\n",
       "      <td>Heat</td>\n",
       "      <td>False</td>\n",
       "      <td>7.7</td>\n",
       "      <td>1886.0</td>\n",
       "    </tr>\n",
       "    <tr>\n",
       "      <th>6</th>\n",
       "      <td>False</td>\n",
       "      <td>NaN</td>\n",
       "      <td>58000000</td>\n",
       "      <td>[{'id': 35, 'name': 'Comedy'}, {'id': 10749, '...</td>\n",
       "      <td>NaN</td>\n",
       "      <td>11860</td>\n",
       "      <td>tt0114319</td>\n",
       "      <td>en</td>\n",
       "      <td>Sabrina</td>\n",
       "      <td>An ugly duckling having undergone a remarkable...</td>\n",
       "      <td>...</td>\n",
       "      <td>1995-12-15</td>\n",
       "      <td>0.0</td>\n",
       "      <td>127.0</td>\n",
       "      <td>[{'iso_639_1': 'fr', 'name': 'Français'}, {'is...</td>\n",
       "      <td>Released</td>\n",
       "      <td>You are cordially invited to the most surprisi...</td>\n",
       "      <td>Sabrina</td>\n",
       "      <td>False</td>\n",
       "      <td>6.2</td>\n",
       "      <td>141.0</td>\n",
       "    </tr>\n",
       "    <tr>\n",
       "      <th>7</th>\n",
       "      <td>False</td>\n",
       "      <td>NaN</td>\n",
       "      <td>0</td>\n",
       "      <td>[{'id': 28, 'name': 'Action'}, {'id': 12, 'nam...</td>\n",
       "      <td>NaN</td>\n",
       "      <td>45325</td>\n",
       "      <td>tt0112302</td>\n",
       "      <td>en</td>\n",
       "      <td>Tom and Huck</td>\n",
       "      <td>A mischievous young boy, Tom Sawyer, witnesses...</td>\n",
       "      <td>...</td>\n",
       "      <td>1995-12-22</td>\n",
       "      <td>0.0</td>\n",
       "      <td>97.0</td>\n",
       "      <td>[{'iso_639_1': 'en', 'name': 'English'}, {'iso...</td>\n",
       "      <td>Released</td>\n",
       "      <td>The Original Bad Boys.</td>\n",
       "      <td>Tom and Huck</td>\n",
       "      <td>False</td>\n",
       "      <td>5.4</td>\n",
       "      <td>45.0</td>\n",
       "    </tr>\n",
       "    <tr>\n",
       "      <th>8</th>\n",
       "      <td>False</td>\n",
       "      <td>NaN</td>\n",
       "      <td>35000000</td>\n",
       "      <td>[{'id': 28, 'name': 'Action'}, {'id': 12, 'nam...</td>\n",
       "      <td>NaN</td>\n",
       "      <td>9091</td>\n",
       "      <td>tt0114576</td>\n",
       "      <td>en</td>\n",
       "      <td>Sudden Death</td>\n",
       "      <td>International action superstar Jean Claude Van...</td>\n",
       "      <td>...</td>\n",
       "      <td>1995-12-22</td>\n",
       "      <td>64350171.0</td>\n",
       "      <td>106.0</td>\n",
       "      <td>[{'iso_639_1': 'en', 'name': 'English'}]</td>\n",
       "      <td>Released</td>\n",
       "      <td>Terror goes into overtime.</td>\n",
       "      <td>Sudden Death</td>\n",
       "      <td>False</td>\n",
       "      <td>5.5</td>\n",
       "      <td>174.0</td>\n",
       "    </tr>\n",
       "    <tr>\n",
       "      <th>9</th>\n",
       "      <td>False</td>\n",
       "      <td>{'id': 645, 'name': 'James Bond Collection', '...</td>\n",
       "      <td>58000000</td>\n",
       "      <td>[{'id': 12, 'name': 'Adventure'}, {'id': 28, '...</td>\n",
       "      <td>http://www.mgm.com/view/movie/757/Goldeneye/</td>\n",
       "      <td>710</td>\n",
       "      <td>tt0113189</td>\n",
       "      <td>en</td>\n",
       "      <td>GoldenEye</td>\n",
       "      <td>James Bond must unmask the mysterious head of ...</td>\n",
       "      <td>...</td>\n",
       "      <td>1995-11-16</td>\n",
       "      <td>352194034.0</td>\n",
       "      <td>130.0</td>\n",
       "      <td>[{'iso_639_1': 'en', 'name': 'English'}, {'iso...</td>\n",
       "      <td>Released</td>\n",
       "      <td>No limits. No fears. No substitutes.</td>\n",
       "      <td>GoldenEye</td>\n",
       "      <td>False</td>\n",
       "      <td>6.6</td>\n",
       "      <td>1194.0</td>\n",
       "    </tr>\n",
       "  </tbody>\n",
       "</table>\n",
       "<p>10 rows × 24 columns</p>\n",
       "</div>"
      ],
      "text/plain": [
       "   adult                              belongs_to_collection    budget  \\\n",
       "0  False  {'id': 10194, 'name': 'Toy Story Collection', ...  30000000   \n",
       "1  False                                                NaN  65000000   \n",
       "2  False  {'id': 119050, 'name': 'Grumpy Old Men Collect...         0   \n",
       "3  False                                                NaN  16000000   \n",
       "4  False  {'id': 96871, 'name': 'Father of the Bride Col...         0   \n",
       "5  False                                                NaN  60000000   \n",
       "6  False                                                NaN  58000000   \n",
       "7  False                                                NaN         0   \n",
       "8  False                                                NaN  35000000   \n",
       "9  False  {'id': 645, 'name': 'James Bond Collection', '...  58000000   \n",
       "\n",
       "                                              genres  \\\n",
       "0  [{'id': 16, 'name': 'Animation'}, {'id': 35, '...   \n",
       "1  [{'id': 12, 'name': 'Adventure'}, {'id': 14, '...   \n",
       "2  [{'id': 10749, 'name': 'Romance'}, {'id': 35, ...   \n",
       "3  [{'id': 35, 'name': 'Comedy'}, {'id': 18, 'nam...   \n",
       "4                     [{'id': 35, 'name': 'Comedy'}]   \n",
       "5  [{'id': 28, 'name': 'Action'}, {'id': 80, 'nam...   \n",
       "6  [{'id': 35, 'name': 'Comedy'}, {'id': 10749, '...   \n",
       "7  [{'id': 28, 'name': 'Action'}, {'id': 12, 'nam...   \n",
       "8  [{'id': 28, 'name': 'Action'}, {'id': 12, 'nam...   \n",
       "9  [{'id': 12, 'name': 'Adventure'}, {'id': 28, '...   \n",
       "\n",
       "                                       homepage     id    imdb_id  \\\n",
       "0          http://toystory.disney.com/toy-story    862  tt0114709   \n",
       "1                                           NaN   8844  tt0113497   \n",
       "2                                           NaN  15602  tt0113228   \n",
       "3                                           NaN  31357  tt0114885   \n",
       "4                                           NaN  11862  tt0113041   \n",
       "5                                           NaN    949  tt0113277   \n",
       "6                                           NaN  11860  tt0114319   \n",
       "7                                           NaN  45325  tt0112302   \n",
       "8                                           NaN   9091  tt0114576   \n",
       "9  http://www.mgm.com/view/movie/757/Goldeneye/    710  tt0113189   \n",
       "\n",
       "  original_language               original_title  \\\n",
       "0                en                    Toy Story   \n",
       "1                en                      Jumanji   \n",
       "2                en             Grumpier Old Men   \n",
       "3                en            Waiting to Exhale   \n",
       "4                en  Father of the Bride Part II   \n",
       "5                en                         Heat   \n",
       "6                en                      Sabrina   \n",
       "7                en                 Tom and Huck   \n",
       "8                en                 Sudden Death   \n",
       "9                en                    GoldenEye   \n",
       "\n",
       "                                            overview  ... release_date  \\\n",
       "0  Led by Woody, Andy's toys live happily in his ...  ...   1995-10-30   \n",
       "1  When siblings Judy and Peter discover an encha...  ...   1995-12-15   \n",
       "2  A family wedding reignites the ancient feud be...  ...   1995-12-22   \n",
       "3  Cheated on, mistreated and stepped on, the wom...  ...   1995-12-22   \n",
       "4  Just when George Banks has recovered from his ...  ...   1995-02-10   \n",
       "5  Obsessive master thief, Neil McCauley leads a ...  ...   1995-12-15   \n",
       "6  An ugly duckling having undergone a remarkable...  ...   1995-12-15   \n",
       "7  A mischievous young boy, Tom Sawyer, witnesses...  ...   1995-12-22   \n",
       "8  International action superstar Jean Claude Van...  ...   1995-12-22   \n",
       "9  James Bond must unmask the mysterious head of ...  ...   1995-11-16   \n",
       "\n",
       "       revenue runtime                                   spoken_languages  \\\n",
       "0  373554033.0    81.0           [{'iso_639_1': 'en', 'name': 'English'}]   \n",
       "1  262797249.0   104.0  [{'iso_639_1': 'en', 'name': 'English'}, {'iso...   \n",
       "2          0.0   101.0           [{'iso_639_1': 'en', 'name': 'English'}]   \n",
       "3   81452156.0   127.0           [{'iso_639_1': 'en', 'name': 'English'}]   \n",
       "4   76578911.0   106.0           [{'iso_639_1': 'en', 'name': 'English'}]   \n",
       "5  187436818.0   170.0  [{'iso_639_1': 'en', 'name': 'English'}, {'iso...   \n",
       "6          0.0   127.0  [{'iso_639_1': 'fr', 'name': 'Français'}, {'is...   \n",
       "7          0.0    97.0  [{'iso_639_1': 'en', 'name': 'English'}, {'iso...   \n",
       "8   64350171.0   106.0           [{'iso_639_1': 'en', 'name': 'English'}]   \n",
       "9  352194034.0   130.0  [{'iso_639_1': 'en', 'name': 'English'}, {'iso...   \n",
       "\n",
       "     status                                            tagline  \\\n",
       "0  Released                                                NaN   \n",
       "1  Released          Roll the dice and unleash the excitement!   \n",
       "2  Released  Still Yelling. Still Fighting. Still Ready for...   \n",
       "3  Released  Friends are the people who let you be yourself...   \n",
       "4  Released  Just When His World Is Back To Normal... He's ...   \n",
       "5  Released                           A Los Angeles Crime Saga   \n",
       "6  Released  You are cordially invited to the most surprisi...   \n",
       "7  Released                             The Original Bad Boys.   \n",
       "8  Released                         Terror goes into overtime.   \n",
       "9  Released               No limits. No fears. No substitutes.   \n",
       "\n",
       "                         title  video vote_average vote_count  \n",
       "0                    Toy Story  False          7.7     5415.0  \n",
       "1                      Jumanji  False          6.9     2413.0  \n",
       "2             Grumpier Old Men  False          6.5       92.0  \n",
       "3            Waiting to Exhale  False          6.1       34.0  \n",
       "4  Father of the Bride Part II  False          5.7      173.0  \n",
       "5                         Heat  False          7.7     1886.0  \n",
       "6                      Sabrina  False          6.2      141.0  \n",
       "7                 Tom and Huck  False          5.4       45.0  \n",
       "8                 Sudden Death  False          5.5      174.0  \n",
       "9                    GoldenEye  False          6.6     1194.0  \n",
       "\n",
       "[10 rows x 24 columns]"
      ]
     },
     "execution_count": 23,
     "metadata": {},
     "output_type": "execute_result"
    }
   ],
   "source": [
    "df_movies=pd.read_csv('movies_metadata.csv')\n",
    "df_movies.head(10)"
   ]
  },
  {
   "cell_type": "code",
   "execution_count": 24,
   "id": "037eccad-263a-4b3f-86fe-1f388adae931",
   "metadata": {},
   "outputs": [
    {
     "data": {
      "text/plain": [
       "adult                        0\n",
       "belongs_to_collection    40972\n",
       "budget                       0\n",
       "genres                       0\n",
       "homepage                 37684\n",
       "id                           0\n",
       "imdb_id                     17\n",
       "original_language           11\n",
       "original_title               0\n",
       "overview                   954\n",
       "popularity                   5\n",
       "poster_path                386\n",
       "production_companies         3\n",
       "production_countries         3\n",
       "release_date                87\n",
       "revenue                      6\n",
       "runtime                    263\n",
       "spoken_languages             6\n",
       "status                      87\n",
       "tagline                  25054\n",
       "title                        6\n",
       "video                        6\n",
       "vote_average                 6\n",
       "vote_count                   6\n",
       "dtype: int64"
      ]
     },
     "execution_count": 24,
     "metadata": {},
     "output_type": "execute_result"
    }
   ],
   "source": [
    "df_movies.isna().sum()"
   ]
  },
  {
   "cell_type": "markdown",
   "id": "2ab4c134-e65e-4101-b5d7-99b4d219a985",
   "metadata": {},
   "source": [
    "So,they have missing values .Let's fix this ..............."
   ]
  },
  {
   "cell_type": "code",
   "execution_count": 25,
   "id": "ff8fdc15-7786-438c-9423-5aec99049a0e",
   "metadata": {},
   "outputs": [],
   "source": [
    "# Drop columns with a significant number of missing values\n",
    "df_cleaned = df_movies.drop(columns=['belongs_to_collection', 'homepage', 'tagline'])\n",
    "\n",
    "\n"
   ]
  },
  {
   "cell_type": "code",
   "execution_count": 26,
   "id": "f13d5ce8-4b19-4bea-b8b6-b255b851decc",
   "metadata": {},
   "outputs": [],
   "source": [
    "# Drop rows with missing values in critical columns\n",
    "df_cleaned = df_cleaned.dropna(subset=['title', 'release_date', 'status', 'runtime'])\n",
    "\n"
   ]
  },
  {
   "cell_type": "code",
   "execution_count": 27,
   "id": "e939b3ea-732b-4ebd-af89-f1709172e5fe",
   "metadata": {},
   "outputs": [
    {
     "data": {
      "text/plain": [
       "dtype('O')"
      ]
     },
     "execution_count": 27,
     "metadata": {},
     "output_type": "execute_result"
    }
   ],
   "source": [
    "df_cleaned['budget'].dtype"
   ]
  },
  {
   "cell_type": "code",
   "execution_count": 28,
   "id": "9d020b56-ca37-4fb2-aa63-27d4b898e2a2",
   "metadata": {},
   "outputs": [
    {
     "name": "stdout",
     "output_type": "stream",
     "text": [
      "['30000000' '65000000' '0' '16000000' '60000000' '58000000' '35000000'\n",
      " '62000000' '44000000' '98000000' '52000000' '16500000' '4000000'\n",
      " '30250000' '50000000' '3600000' '12000000' '18000000' '29500000'\n",
      " '11000000']\n"
     ]
    }
   ],
   "source": [
    "# Display unique values or a sample of the budget column\n",
    "print(df_cleaned['budget'].unique()[:20])\n"
   ]
  },
  {
   "cell_type": "code",
   "execution_count": 29,
   "id": "d0574a62-4f38-4eb3-b372-e6b2f4744bc1",
   "metadata": {},
   "outputs": [
    {
     "name": "stdout",
     "output_type": "stream",
     "text": [
      "int64\n"
     ]
    }
   ],
   "source": [
    "# Convert the budget column to numeric, setting errors='coerce' to handle non-numeric values\n",
    "df_cleaned['budget'] = pd.to_numeric(df_cleaned['budget'], errors='coerce')\n",
    "\n",
    "# After conversion, fill any NaN values resulting from non-numeric conversions with the mean or a default value\n",
    "df_cleaned['budget'] = df_cleaned['budget'].fillna(df_cleaned['budget'].mean())\n",
    "\n",
    "# Verify the conversion\n",
    "print(df_cleaned['budget'].dtype)\n"
   ]
  },
  {
   "cell_type": "code",
   "execution_count": 30,
   "id": "b6c1cf31-53f8-44b1-b2cb-13f298fecc8a",
   "metadata": {},
   "outputs": [],
   "source": [
    "# Fill missing numerical values with the mean or median\n",
    "df_cleaned['budget'] = df_cleaned['budget'].replace(0, df_cleaned['budget'].mean())\n",
    "df_cleaned['runtime'] = df_cleaned['runtime'].fillna(df_cleaned['runtime'].median())\n",
    "\n"
   ]
  },
  {
   "cell_type": "code",
   "execution_count": 31,
   "id": "aebaf3ad-087c-4c72-8bbd-9d28009f9f0c",
   "metadata": {},
   "outputs": [],
   "source": [
    "# Fill missing categorical values with the most frequent value or a placeholder\n",
    "df_cleaned['original_language'] = df_cleaned['original_language'].fillna(df_cleaned['original_language'].mode()[0])\n",
    "df_cleaned['production_companies'] = df_cleaned['production_companies'].fillna('Unknown')\n",
    "df_cleaned['production_countries'] = df_cleaned['production_countries'].fillna('Unknown')\n",
    "\n"
   ]
  },
  {
   "cell_type": "code",
   "execution_count": 32,
   "id": "28f95804-f75b-43a8-9d6c-9e49d7287ac2",
   "metadata": {},
   "outputs": [
    {
     "name": "stdout",
     "output_type": "stream",
     "text": [
      "adult                     0\n",
      "budget                    0\n",
      "genres                    0\n",
      "id                        0\n",
      "imdb_id                  12\n",
      "original_language         0\n",
      "original_title            0\n",
      "overview                683\n",
      "popularity                0\n",
      "poster_path             316\n",
      "production_companies      0\n",
      "production_countries      0\n",
      "release_date              0\n",
      "revenue                   0\n",
      "runtime                   0\n",
      "spoken_languages          0\n",
      "status                    0\n",
      "title                     0\n",
      "video                     0\n",
      "vote_average              0\n",
      "vote_count                0\n",
      "dtype: int64\n"
     ]
    }
   ],
   "source": [
    "# Verify that there are no remaining missing values in critical columns\n",
    "print(df_cleaned.isna().sum())"
   ]
  },
  {
   "cell_type": "code",
   "execution_count": 33,
   "id": "ad774509-ee57-45dc-9568-3dc8e6a76121",
   "metadata": {},
   "outputs": [],
   "source": [
    "# Drop rows where imdb_id is missing\n",
    "df_cleaned = df_cleaned.dropna(subset=['imdb_id'])\n",
    "\n",
    "# Fill missing overviews with a placeholder text\n",
    "df_cleaned['overview'] = df_cleaned['overview'].fillna('No overview available')\n",
    "\n",
    "df_cleaned = df_cleaned.drop(columns=['poster_path'])\n",
    "\n"
   ]
  },
  {
   "cell_type": "code",
   "execution_count": 34,
   "id": "1c7cd93b-7a27-4834-8de7-a27ac545284e",
   "metadata": {},
   "outputs": [
    {
     "name": "stdout",
     "output_type": "stream",
     "text": [
      "adult                   0\n",
      "budget                  0\n",
      "genres                  0\n",
      "id                      0\n",
      "imdb_id                 0\n",
      "original_language       0\n",
      "original_title          0\n",
      "overview                0\n",
      "popularity              0\n",
      "production_companies    0\n",
      "production_countries    0\n",
      "release_date            0\n",
      "revenue                 0\n",
      "runtime                 0\n",
      "spoken_languages        0\n",
      "status                  0\n",
      "title                   0\n",
      "video                   0\n",
      "vote_average            0\n",
      "vote_count              0\n",
      "dtype: int64\n"
     ]
    }
   ],
   "source": [
    "# Verify that there are no remaining missing values in critical columns\n",
    "print(df_cleaned.isna().sum())\n",
    "\n"
   ]
  },
  {
   "cell_type": "markdown",
   "id": "1b06d55f-a5be-47dd-a52d-70cccfa9c559",
   "metadata": {},
   "source": [
    "Now the data hasbeen cleaned successfully ,We can go fot futher operation....."
   ]
  },
  {
   "cell_type": "code",
   "execution_count": 35,
   "id": "c39cb2cb-c313-43aa-8430-8b7df1a338bf",
   "metadata": {},
   "outputs": [
    {
     "name": "stdout",
     "output_type": "stream",
     "text": [
      "   adult        budget                                             genres  \\\n",
      "0  False  3.000000e+07  [{'id': 16, 'name': 'Animation'}, {'id': 35, '...   \n",
      "1  False  6.500000e+07  [{'id': 12, 'name': 'Adventure'}, {'id': 14, '...   \n",
      "2  False  4.262335e+06  [{'id': 10749, 'name': 'Romance'}, {'id': 35, ...   \n",
      "3  False  1.600000e+07  [{'id': 35, 'name': 'Comedy'}, {'id': 18, 'nam...   \n",
      "4  False  4.262335e+06                     [{'id': 35, 'name': 'Comedy'}]   \n",
      "\n",
      "      id    imdb_id original_language               original_title  \\\n",
      "0    862  tt0114709                en                    Toy Story   \n",
      "1   8844  tt0113497                en                      Jumanji   \n",
      "2  15602  tt0113228                en             Grumpier Old Men   \n",
      "3  31357  tt0114885                en            Waiting to Exhale   \n",
      "4  11862  tt0113041                en  Father of the Bride Part II   \n",
      "\n",
      "                                            overview popularity  \\\n",
      "0  Led by Woody, Andy's toys live happily in his ...  21.946943   \n",
      "1  When siblings Judy and Peter discover an encha...  17.015539   \n",
      "2  A family wedding reignites the ancient feud be...    11.7129   \n",
      "3  Cheated on, mistreated and stepped on, the wom...   3.859495   \n",
      "4  Just when George Banks has recovered from his ...   8.387519   \n",
      "\n",
      "                                production_companies  \\\n",
      "0     [{'name': 'Pixar Animation Studios', 'id': 3}]   \n",
      "1  [{'name': 'TriStar Pictures', 'id': 559}, {'na...   \n",
      "2  [{'name': 'Warner Bros.', 'id': 6194}, {'name'...   \n",
      "3  [{'name': 'Twentieth Century Fox Film Corporat...   \n",
      "4  [{'name': 'Sandollar Productions', 'id': 5842}...   \n",
      "\n",
      "                                production_countries release_date  \\\n",
      "0  [{'iso_3166_1': 'US', 'name': 'United States o...   1995-10-30   \n",
      "1  [{'iso_3166_1': 'US', 'name': 'United States o...   1995-12-15   \n",
      "2  [{'iso_3166_1': 'US', 'name': 'United States o...   1995-12-22   \n",
      "3  [{'iso_3166_1': 'US', 'name': 'United States o...   1995-12-22   \n",
      "4  [{'iso_3166_1': 'US', 'name': 'United States o...   1995-02-10   \n",
      "\n",
      "       revenue  runtime                                   spoken_languages  \\\n",
      "0  373554033.0     81.0           [{'iso_639_1': 'en', 'name': 'English'}]   \n",
      "1  262797249.0    104.0  [{'iso_639_1': 'en', 'name': 'English'}, {'iso...   \n",
      "2          0.0    101.0           [{'iso_639_1': 'en', 'name': 'English'}]   \n",
      "3   81452156.0    127.0           [{'iso_639_1': 'en', 'name': 'English'}]   \n",
      "4   76578911.0    106.0           [{'iso_639_1': 'en', 'name': 'English'}]   \n",
      "\n",
      "     status                        title  video  vote_average  vote_count  \n",
      "0  Released                    Toy Story  False           7.7      5415.0  \n",
      "1  Released                      Jumanji  False           6.9      2413.0  \n",
      "2  Released             Grumpier Old Men  False           6.5        92.0  \n",
      "3  Released            Waiting to Exhale  False           6.1        34.0  \n",
      "4  Released  Father of the Bride Part II  False           5.7       173.0  \n"
     ]
    }
   ],
   "source": [
    "# Display the cleaned DataFrame to verify the changes\n",
    "print(df_cleaned.head())\n"
   ]
  },
  {
   "cell_type": "markdown",
   "id": "c7f8b28d-ef45-4cc2-8495-23da94ab52f1",
   "metadata": {},
   "source": [
    "## Now we can merge the two data set df_cleaned and df_new\n",
    "\n",
    "## Lets rename them..............."
   ]
  },
  {
   "cell_type": "code",
   "execution_count": 36,
   "id": "193409c0-eb05-4080-8569-2641e0aa18b2",
   "metadata": {},
   "outputs": [],
   "source": [
    "df_movies=df_cleaned\n",
    "df_title=df_new"
   ]
  },
  {
   "cell_type": "code",
   "execution_count": 37,
   "id": "03bf02e2-f670-48de-9e66-eb3e82f076a5",
   "metadata": {},
   "outputs": [
    {
     "data": {
      "text/html": [
       "<div>\n",
       "<style scoped>\n",
       "    .dataframe tbody tr th:only-of-type {\n",
       "        vertical-align: middle;\n",
       "    }\n",
       "\n",
       "    .dataframe tbody tr th {\n",
       "        vertical-align: top;\n",
       "    }\n",
       "\n",
       "    .dataframe thead th {\n",
       "        text-align: right;\n",
       "    }\n",
       "</style>\n",
       "<table border=\"1\" class=\"dataframe\">\n",
       "  <thead>\n",
       "    <tr style=\"text-align: right;\">\n",
       "      <th></th>\n",
       "      <th>adult</th>\n",
       "      <th>budget</th>\n",
       "      <th>genres</th>\n",
       "      <th>id</th>\n",
       "      <th>imdb_id</th>\n",
       "      <th>original_language</th>\n",
       "      <th>original_title</th>\n",
       "      <th>overview</th>\n",
       "      <th>popularity</th>\n",
       "      <th>production_companies</th>\n",
       "      <th>production_countries</th>\n",
       "      <th>release_date</th>\n",
       "      <th>revenue</th>\n",
       "      <th>runtime</th>\n",
       "      <th>spoken_languages</th>\n",
       "      <th>status</th>\n",
       "      <th>title</th>\n",
       "      <th>video</th>\n",
       "      <th>vote_average</th>\n",
       "      <th>vote_count</th>\n",
       "    </tr>\n",
       "  </thead>\n",
       "  <tbody>\n",
       "    <tr>\n",
       "      <th>0</th>\n",
       "      <td>False</td>\n",
       "      <td>3.000000e+07</td>\n",
       "      <td>[{'id': 16, 'name': 'Animation'}, {'id': 35, '...</td>\n",
       "      <td>862</td>\n",
       "      <td>tt0114709</td>\n",
       "      <td>en</td>\n",
       "      <td>Toy Story</td>\n",
       "      <td>Led by Woody, Andy's toys live happily in his ...</td>\n",
       "      <td>21.946943</td>\n",
       "      <td>[{'name': 'Pixar Animation Studios', 'id': 3}]</td>\n",
       "      <td>[{'iso_3166_1': 'US', 'name': 'United States o...</td>\n",
       "      <td>1995-10-30</td>\n",
       "      <td>373554033.0</td>\n",
       "      <td>81.0</td>\n",
       "      <td>[{'iso_639_1': 'en', 'name': 'English'}]</td>\n",
       "      <td>Released</td>\n",
       "      <td>Toy Story</td>\n",
       "      <td>False</td>\n",
       "      <td>7.7</td>\n",
       "      <td>5415.0</td>\n",
       "    </tr>\n",
       "    <tr>\n",
       "      <th>1</th>\n",
       "      <td>False</td>\n",
       "      <td>6.500000e+07</td>\n",
       "      <td>[{'id': 12, 'name': 'Adventure'}, {'id': 14, '...</td>\n",
       "      <td>8844</td>\n",
       "      <td>tt0113497</td>\n",
       "      <td>en</td>\n",
       "      <td>Jumanji</td>\n",
       "      <td>When siblings Judy and Peter discover an encha...</td>\n",
       "      <td>17.015539</td>\n",
       "      <td>[{'name': 'TriStar Pictures', 'id': 559}, {'na...</td>\n",
       "      <td>[{'iso_3166_1': 'US', 'name': 'United States o...</td>\n",
       "      <td>1995-12-15</td>\n",
       "      <td>262797249.0</td>\n",
       "      <td>104.0</td>\n",
       "      <td>[{'iso_639_1': 'en', 'name': 'English'}, {'iso...</td>\n",
       "      <td>Released</td>\n",
       "      <td>Jumanji</td>\n",
       "      <td>False</td>\n",
       "      <td>6.9</td>\n",
       "      <td>2413.0</td>\n",
       "    </tr>\n",
       "    <tr>\n",
       "      <th>2</th>\n",
       "      <td>False</td>\n",
       "      <td>4.262335e+06</td>\n",
       "      <td>[{'id': 10749, 'name': 'Romance'}, {'id': 35, ...</td>\n",
       "      <td>15602</td>\n",
       "      <td>tt0113228</td>\n",
       "      <td>en</td>\n",
       "      <td>Grumpier Old Men</td>\n",
       "      <td>A family wedding reignites the ancient feud be...</td>\n",
       "      <td>11.7129</td>\n",
       "      <td>[{'name': 'Warner Bros.', 'id': 6194}, {'name'...</td>\n",
       "      <td>[{'iso_3166_1': 'US', 'name': 'United States o...</td>\n",
       "      <td>1995-12-22</td>\n",
       "      <td>0.0</td>\n",
       "      <td>101.0</td>\n",
       "      <td>[{'iso_639_1': 'en', 'name': 'English'}]</td>\n",
       "      <td>Released</td>\n",
       "      <td>Grumpier Old Men</td>\n",
       "      <td>False</td>\n",
       "      <td>6.5</td>\n",
       "      <td>92.0</td>\n",
       "    </tr>\n",
       "    <tr>\n",
       "      <th>3</th>\n",
       "      <td>False</td>\n",
       "      <td>1.600000e+07</td>\n",
       "      <td>[{'id': 35, 'name': 'Comedy'}, {'id': 18, 'nam...</td>\n",
       "      <td>31357</td>\n",
       "      <td>tt0114885</td>\n",
       "      <td>en</td>\n",
       "      <td>Waiting to Exhale</td>\n",
       "      <td>Cheated on, mistreated and stepped on, the wom...</td>\n",
       "      <td>3.859495</td>\n",
       "      <td>[{'name': 'Twentieth Century Fox Film Corporat...</td>\n",
       "      <td>[{'iso_3166_1': 'US', 'name': 'United States o...</td>\n",
       "      <td>1995-12-22</td>\n",
       "      <td>81452156.0</td>\n",
       "      <td>127.0</td>\n",
       "      <td>[{'iso_639_1': 'en', 'name': 'English'}]</td>\n",
       "      <td>Released</td>\n",
       "      <td>Waiting to Exhale</td>\n",
       "      <td>False</td>\n",
       "      <td>6.1</td>\n",
       "      <td>34.0</td>\n",
       "    </tr>\n",
       "    <tr>\n",
       "      <th>4</th>\n",
       "      <td>False</td>\n",
       "      <td>4.262335e+06</td>\n",
       "      <td>[{'id': 35, 'name': 'Comedy'}]</td>\n",
       "      <td>11862</td>\n",
       "      <td>tt0113041</td>\n",
       "      <td>en</td>\n",
       "      <td>Father of the Bride Part II</td>\n",
       "      <td>Just when George Banks has recovered from his ...</td>\n",
       "      <td>8.387519</td>\n",
       "      <td>[{'name': 'Sandollar Productions', 'id': 5842}...</td>\n",
       "      <td>[{'iso_3166_1': 'US', 'name': 'United States o...</td>\n",
       "      <td>1995-02-10</td>\n",
       "      <td>76578911.0</td>\n",
       "      <td>106.0</td>\n",
       "      <td>[{'iso_639_1': 'en', 'name': 'English'}]</td>\n",
       "      <td>Released</td>\n",
       "      <td>Father of the Bride Part II</td>\n",
       "      <td>False</td>\n",
       "      <td>5.7</td>\n",
       "      <td>173.0</td>\n",
       "    </tr>\n",
       "    <tr>\n",
       "      <th>5</th>\n",
       "      <td>False</td>\n",
       "      <td>6.000000e+07</td>\n",
       "      <td>[{'id': 28, 'name': 'Action'}, {'id': 80, 'nam...</td>\n",
       "      <td>949</td>\n",
       "      <td>tt0113277</td>\n",
       "      <td>en</td>\n",
       "      <td>Heat</td>\n",
       "      <td>Obsessive master thief, Neil McCauley leads a ...</td>\n",
       "      <td>17.924927</td>\n",
       "      <td>[{'name': 'Regency Enterprises', 'id': 508}, {...</td>\n",
       "      <td>[{'iso_3166_1': 'US', 'name': 'United States o...</td>\n",
       "      <td>1995-12-15</td>\n",
       "      <td>187436818.0</td>\n",
       "      <td>170.0</td>\n",
       "      <td>[{'iso_639_1': 'en', 'name': 'English'}, {'iso...</td>\n",
       "      <td>Released</td>\n",
       "      <td>Heat</td>\n",
       "      <td>False</td>\n",
       "      <td>7.7</td>\n",
       "      <td>1886.0</td>\n",
       "    </tr>\n",
       "    <tr>\n",
       "      <th>6</th>\n",
       "      <td>False</td>\n",
       "      <td>5.800000e+07</td>\n",
       "      <td>[{'id': 35, 'name': 'Comedy'}, {'id': 10749, '...</td>\n",
       "      <td>11860</td>\n",
       "      <td>tt0114319</td>\n",
       "      <td>en</td>\n",
       "      <td>Sabrina</td>\n",
       "      <td>An ugly duckling having undergone a remarkable...</td>\n",
       "      <td>6.677277</td>\n",
       "      <td>[{'name': 'Paramount Pictures', 'id': 4}, {'na...</td>\n",
       "      <td>[{'iso_3166_1': 'DE', 'name': 'Germany'}, {'is...</td>\n",
       "      <td>1995-12-15</td>\n",
       "      <td>0.0</td>\n",
       "      <td>127.0</td>\n",
       "      <td>[{'iso_639_1': 'fr', 'name': 'Français'}, {'is...</td>\n",
       "      <td>Released</td>\n",
       "      <td>Sabrina</td>\n",
       "      <td>False</td>\n",
       "      <td>6.2</td>\n",
       "      <td>141.0</td>\n",
       "    </tr>\n",
       "    <tr>\n",
       "      <th>7</th>\n",
       "      <td>False</td>\n",
       "      <td>4.262335e+06</td>\n",
       "      <td>[{'id': 28, 'name': 'Action'}, {'id': 12, 'nam...</td>\n",
       "      <td>45325</td>\n",
       "      <td>tt0112302</td>\n",
       "      <td>en</td>\n",
       "      <td>Tom and Huck</td>\n",
       "      <td>A mischievous young boy, Tom Sawyer, witnesses...</td>\n",
       "      <td>2.561161</td>\n",
       "      <td>[{'name': 'Walt Disney Pictures', 'id': 2}]</td>\n",
       "      <td>[{'iso_3166_1': 'US', 'name': 'United States o...</td>\n",
       "      <td>1995-12-22</td>\n",
       "      <td>0.0</td>\n",
       "      <td>97.0</td>\n",
       "      <td>[{'iso_639_1': 'en', 'name': 'English'}, {'iso...</td>\n",
       "      <td>Released</td>\n",
       "      <td>Tom and Huck</td>\n",
       "      <td>False</td>\n",
       "      <td>5.4</td>\n",
       "      <td>45.0</td>\n",
       "    </tr>\n",
       "    <tr>\n",
       "      <th>8</th>\n",
       "      <td>False</td>\n",
       "      <td>3.500000e+07</td>\n",
       "      <td>[{'id': 28, 'name': 'Action'}, {'id': 12, 'nam...</td>\n",
       "      <td>9091</td>\n",
       "      <td>tt0114576</td>\n",
       "      <td>en</td>\n",
       "      <td>Sudden Death</td>\n",
       "      <td>International action superstar Jean Claude Van...</td>\n",
       "      <td>5.23158</td>\n",
       "      <td>[{'name': 'Universal Pictures', 'id': 33}, {'n...</td>\n",
       "      <td>[{'iso_3166_1': 'US', 'name': 'United States o...</td>\n",
       "      <td>1995-12-22</td>\n",
       "      <td>64350171.0</td>\n",
       "      <td>106.0</td>\n",
       "      <td>[{'iso_639_1': 'en', 'name': 'English'}]</td>\n",
       "      <td>Released</td>\n",
       "      <td>Sudden Death</td>\n",
       "      <td>False</td>\n",
       "      <td>5.5</td>\n",
       "      <td>174.0</td>\n",
       "    </tr>\n",
       "    <tr>\n",
       "      <th>9</th>\n",
       "      <td>False</td>\n",
       "      <td>5.800000e+07</td>\n",
       "      <td>[{'id': 12, 'name': 'Adventure'}, {'id': 28, '...</td>\n",
       "      <td>710</td>\n",
       "      <td>tt0113189</td>\n",
       "      <td>en</td>\n",
       "      <td>GoldenEye</td>\n",
       "      <td>James Bond must unmask the mysterious head of ...</td>\n",
       "      <td>14.686036</td>\n",
       "      <td>[{'name': 'United Artists', 'id': 60}, {'name'...</td>\n",
       "      <td>[{'iso_3166_1': 'GB', 'name': 'United Kingdom'...</td>\n",
       "      <td>1995-11-16</td>\n",
       "      <td>352194034.0</td>\n",
       "      <td>130.0</td>\n",
       "      <td>[{'iso_639_1': 'en', 'name': 'English'}, {'iso...</td>\n",
       "      <td>Released</td>\n",
       "      <td>GoldenEye</td>\n",
       "      <td>False</td>\n",
       "      <td>6.6</td>\n",
       "      <td>1194.0</td>\n",
       "    </tr>\n",
       "  </tbody>\n",
       "</table>\n",
       "</div>"
      ],
      "text/plain": [
       "   adult        budget                                             genres  \\\n",
       "0  False  3.000000e+07  [{'id': 16, 'name': 'Animation'}, {'id': 35, '...   \n",
       "1  False  6.500000e+07  [{'id': 12, 'name': 'Adventure'}, {'id': 14, '...   \n",
       "2  False  4.262335e+06  [{'id': 10749, 'name': 'Romance'}, {'id': 35, ...   \n",
       "3  False  1.600000e+07  [{'id': 35, 'name': 'Comedy'}, {'id': 18, 'nam...   \n",
       "4  False  4.262335e+06                     [{'id': 35, 'name': 'Comedy'}]   \n",
       "5  False  6.000000e+07  [{'id': 28, 'name': 'Action'}, {'id': 80, 'nam...   \n",
       "6  False  5.800000e+07  [{'id': 35, 'name': 'Comedy'}, {'id': 10749, '...   \n",
       "7  False  4.262335e+06  [{'id': 28, 'name': 'Action'}, {'id': 12, 'nam...   \n",
       "8  False  3.500000e+07  [{'id': 28, 'name': 'Action'}, {'id': 12, 'nam...   \n",
       "9  False  5.800000e+07  [{'id': 12, 'name': 'Adventure'}, {'id': 28, '...   \n",
       "\n",
       "      id    imdb_id original_language               original_title  \\\n",
       "0    862  tt0114709                en                    Toy Story   \n",
       "1   8844  tt0113497                en                      Jumanji   \n",
       "2  15602  tt0113228                en             Grumpier Old Men   \n",
       "3  31357  tt0114885                en            Waiting to Exhale   \n",
       "4  11862  tt0113041                en  Father of the Bride Part II   \n",
       "5    949  tt0113277                en                         Heat   \n",
       "6  11860  tt0114319                en                      Sabrina   \n",
       "7  45325  tt0112302                en                 Tom and Huck   \n",
       "8   9091  tt0114576                en                 Sudden Death   \n",
       "9    710  tt0113189                en                    GoldenEye   \n",
       "\n",
       "                                            overview popularity  \\\n",
       "0  Led by Woody, Andy's toys live happily in his ...  21.946943   \n",
       "1  When siblings Judy and Peter discover an encha...  17.015539   \n",
       "2  A family wedding reignites the ancient feud be...    11.7129   \n",
       "3  Cheated on, mistreated and stepped on, the wom...   3.859495   \n",
       "4  Just when George Banks has recovered from his ...   8.387519   \n",
       "5  Obsessive master thief, Neil McCauley leads a ...  17.924927   \n",
       "6  An ugly duckling having undergone a remarkable...   6.677277   \n",
       "7  A mischievous young boy, Tom Sawyer, witnesses...   2.561161   \n",
       "8  International action superstar Jean Claude Van...    5.23158   \n",
       "9  James Bond must unmask the mysterious head of ...  14.686036   \n",
       "\n",
       "                                production_companies  \\\n",
       "0     [{'name': 'Pixar Animation Studios', 'id': 3}]   \n",
       "1  [{'name': 'TriStar Pictures', 'id': 559}, {'na...   \n",
       "2  [{'name': 'Warner Bros.', 'id': 6194}, {'name'...   \n",
       "3  [{'name': 'Twentieth Century Fox Film Corporat...   \n",
       "4  [{'name': 'Sandollar Productions', 'id': 5842}...   \n",
       "5  [{'name': 'Regency Enterprises', 'id': 508}, {...   \n",
       "6  [{'name': 'Paramount Pictures', 'id': 4}, {'na...   \n",
       "7        [{'name': 'Walt Disney Pictures', 'id': 2}]   \n",
       "8  [{'name': 'Universal Pictures', 'id': 33}, {'n...   \n",
       "9  [{'name': 'United Artists', 'id': 60}, {'name'...   \n",
       "\n",
       "                                production_countries release_date  \\\n",
       "0  [{'iso_3166_1': 'US', 'name': 'United States o...   1995-10-30   \n",
       "1  [{'iso_3166_1': 'US', 'name': 'United States o...   1995-12-15   \n",
       "2  [{'iso_3166_1': 'US', 'name': 'United States o...   1995-12-22   \n",
       "3  [{'iso_3166_1': 'US', 'name': 'United States o...   1995-12-22   \n",
       "4  [{'iso_3166_1': 'US', 'name': 'United States o...   1995-02-10   \n",
       "5  [{'iso_3166_1': 'US', 'name': 'United States o...   1995-12-15   \n",
       "6  [{'iso_3166_1': 'DE', 'name': 'Germany'}, {'is...   1995-12-15   \n",
       "7  [{'iso_3166_1': 'US', 'name': 'United States o...   1995-12-22   \n",
       "8  [{'iso_3166_1': 'US', 'name': 'United States o...   1995-12-22   \n",
       "9  [{'iso_3166_1': 'GB', 'name': 'United Kingdom'...   1995-11-16   \n",
       "\n",
       "       revenue  runtime                                   spoken_languages  \\\n",
       "0  373554033.0     81.0           [{'iso_639_1': 'en', 'name': 'English'}]   \n",
       "1  262797249.0    104.0  [{'iso_639_1': 'en', 'name': 'English'}, {'iso...   \n",
       "2          0.0    101.0           [{'iso_639_1': 'en', 'name': 'English'}]   \n",
       "3   81452156.0    127.0           [{'iso_639_1': 'en', 'name': 'English'}]   \n",
       "4   76578911.0    106.0           [{'iso_639_1': 'en', 'name': 'English'}]   \n",
       "5  187436818.0    170.0  [{'iso_639_1': 'en', 'name': 'English'}, {'iso...   \n",
       "6          0.0    127.0  [{'iso_639_1': 'fr', 'name': 'Français'}, {'is...   \n",
       "7          0.0     97.0  [{'iso_639_1': 'en', 'name': 'English'}, {'iso...   \n",
       "8   64350171.0    106.0           [{'iso_639_1': 'en', 'name': 'English'}]   \n",
       "9  352194034.0    130.0  [{'iso_639_1': 'en', 'name': 'English'}, {'iso...   \n",
       "\n",
       "     status                        title  video  vote_average  vote_count  \n",
       "0  Released                    Toy Story  False           7.7      5415.0  \n",
       "1  Released                      Jumanji  False           6.9      2413.0  \n",
       "2  Released             Grumpier Old Men  False           6.5        92.0  \n",
       "3  Released            Waiting to Exhale  False           6.1        34.0  \n",
       "4  Released  Father of the Bride Part II  False           5.7       173.0  \n",
       "5  Released                         Heat  False           7.7      1886.0  \n",
       "6  Released                      Sabrina  False           6.2       141.0  \n",
       "7  Released                 Tom and Huck  False           5.4        45.0  \n",
       "8  Released                 Sudden Death  False           5.5       174.0  \n",
       "9  Released                    GoldenEye  False           6.6      1194.0  "
      ]
     },
     "execution_count": 37,
     "metadata": {},
     "output_type": "execute_result"
    }
   ],
   "source": [
    "df_movies.head(10)"
   ]
  },
  {
   "cell_type": "code",
   "execution_count": 38,
   "id": "a0fce069-752d-463d-ab67-4cff231cddf4",
   "metadata": {},
   "outputs": [
    {
     "data": {
      "text/html": [
       "<div>\n",
       "<style scoped>\n",
       "    .dataframe tbody tr th:only-of-type {\n",
       "        vertical-align: middle;\n",
       "    }\n",
       "\n",
       "    .dataframe tbody tr th {\n",
       "        vertical-align: top;\n",
       "    }\n",
       "\n",
       "    .dataframe thead th {\n",
       "        text-align: right;\n",
       "    }\n",
       "</style>\n",
       "<table border=\"1\" class=\"dataframe\">\n",
       "  <thead>\n",
       "    <tr style=\"text-align: right;\">\n",
       "      <th></th>\n",
       "      <th>id</th>\n",
       "      <th>title</th>\n",
       "      <th>cast_x</th>\n",
       "      <th>crew_x</th>\n",
       "    </tr>\n",
       "  </thead>\n",
       "  <tbody>\n",
       "    <tr>\n",
       "      <th>0</th>\n",
       "      <td>862</td>\n",
       "      <td>Toy Story</td>\n",
       "      <td>[{'cast_id': 14, 'character': 'Woody (voice)',...</td>\n",
       "      <td>[{'credit_id': '52fe4284c3a36847f8024f49', 'de...</td>\n",
       "    </tr>\n",
       "    <tr>\n",
       "      <th>1</th>\n",
       "      <td>710</td>\n",
       "      <td>GoldenEye</td>\n",
       "      <td>[{'cast_id': 1, 'character': 'James Bond', 'cr...</td>\n",
       "      <td>[{'credit_id': '52fe426ec3a36847f801e14b', 'de...</td>\n",
       "    </tr>\n",
       "    <tr>\n",
       "      <th>2</th>\n",
       "      <td>9087</td>\n",
       "      <td>The American President</td>\n",
       "      <td>[{'cast_id': 1, 'character': 'Andrew Shepherd'...</td>\n",
       "      <td>[{'credit_id': '52fe44dac3a36847f80adfa3', 'de...</td>\n",
       "    </tr>\n",
       "    <tr>\n",
       "      <th>3</th>\n",
       "      <td>10858</td>\n",
       "      <td>Nixon</td>\n",
       "      <td>[{'cast_id': 1, 'character': 'Richard Nixon', ...</td>\n",
       "      <td>[{'credit_id': '52fe43c59251416c7501d6f3', 'de...</td>\n",
       "    </tr>\n",
       "    <tr>\n",
       "      <th>4</th>\n",
       "      <td>1408</td>\n",
       "      <td>Cutthroat Island</td>\n",
       "      <td>[{'cast_id': 1, 'character': 'Morgan Adams', '...</td>\n",
       "      <td>[{'credit_id': '52fe42f4c3a36847f802f69f', 'de...</td>\n",
       "    </tr>\n",
       "    <tr>\n",
       "      <th>5</th>\n",
       "      <td>524</td>\n",
       "      <td>Casino</td>\n",
       "      <td>[{'cast_id': 4, 'character': \"Sam 'Ace' Rothst...</td>\n",
       "      <td>[{'credit_id': '52fe424dc3a36847f80139cd', 'de...</td>\n",
       "    </tr>\n",
       "    <tr>\n",
       "      <th>6</th>\n",
       "      <td>4584</td>\n",
       "      <td>Sense and Sensibility</td>\n",
       "      <td>[{'cast_id': 6, 'character': 'Marianne Dashwoo...</td>\n",
       "      <td>[{'credit_id': '52fe43cec3a36847f807101f', 'de...</td>\n",
       "    </tr>\n",
       "    <tr>\n",
       "      <th>7</th>\n",
       "      <td>5</td>\n",
       "      <td>Four Rooms</td>\n",
       "      <td>[{'cast_id': 42, 'character': 'Ted the Bellhop...</td>\n",
       "      <td>[{'credit_id': '52fe420dc3a36847f800011b', 'de...</td>\n",
       "    </tr>\n",
       "    <tr>\n",
       "      <th>8</th>\n",
       "      <td>9273</td>\n",
       "      <td>Ace Ventura: When Nature Calls</td>\n",
       "      <td>[{'cast_id': 1, 'character': 'Ace Ventura', 'c...</td>\n",
       "      <td>[{'credit_id': '52fe44dfc3a36847f80af28b', 'de...</td>\n",
       "    </tr>\n",
       "    <tr>\n",
       "      <th>9</th>\n",
       "      <td>11517</td>\n",
       "      <td>Money Train</td>\n",
       "      <td>[{'cast_id': 1, 'character': 'John', 'credit_i...</td>\n",
       "      <td>[{'credit_id': '52fe44509251416c750305a1', 'de...</td>\n",
       "    </tr>\n",
       "  </tbody>\n",
       "</table>\n",
       "</div>"
      ],
      "text/plain": [
       "      id                           title  \\\n",
       "0    862                       Toy Story   \n",
       "1    710                       GoldenEye   \n",
       "2   9087          The American President   \n",
       "3  10858                           Nixon   \n",
       "4   1408                Cutthroat Island   \n",
       "5    524                          Casino   \n",
       "6   4584           Sense and Sensibility   \n",
       "7      5                      Four Rooms   \n",
       "8   9273  Ace Ventura: When Nature Calls   \n",
       "9  11517                     Money Train   \n",
       "\n",
       "                                              cast_x  \\\n",
       "0  [{'cast_id': 14, 'character': 'Woody (voice)',...   \n",
       "1  [{'cast_id': 1, 'character': 'James Bond', 'cr...   \n",
       "2  [{'cast_id': 1, 'character': 'Andrew Shepherd'...   \n",
       "3  [{'cast_id': 1, 'character': 'Richard Nixon', ...   \n",
       "4  [{'cast_id': 1, 'character': 'Morgan Adams', '...   \n",
       "5  [{'cast_id': 4, 'character': \"Sam 'Ace' Rothst...   \n",
       "6  [{'cast_id': 6, 'character': 'Marianne Dashwoo...   \n",
       "7  [{'cast_id': 42, 'character': 'Ted the Bellhop...   \n",
       "8  [{'cast_id': 1, 'character': 'Ace Ventura', 'c...   \n",
       "9  [{'cast_id': 1, 'character': 'John', 'credit_i...   \n",
       "\n",
       "                                              crew_x  \n",
       "0  [{'credit_id': '52fe4284c3a36847f8024f49', 'de...  \n",
       "1  [{'credit_id': '52fe426ec3a36847f801e14b', 'de...  \n",
       "2  [{'credit_id': '52fe44dac3a36847f80adfa3', 'de...  \n",
       "3  [{'credit_id': '52fe43c59251416c7501d6f3', 'de...  \n",
       "4  [{'credit_id': '52fe42f4c3a36847f802f69f', 'de...  \n",
       "5  [{'credit_id': '52fe424dc3a36847f80139cd', 'de...  \n",
       "6  [{'credit_id': '52fe43cec3a36847f807101f', 'de...  \n",
       "7  [{'credit_id': '52fe420dc3a36847f800011b', 'de...  \n",
       "8  [{'credit_id': '52fe44dfc3a36847f80af28b', 'de...  \n",
       "9  [{'credit_id': '52fe44509251416c750305a1', 'de...  "
      ]
     },
     "execution_count": 38,
     "metadata": {},
     "output_type": "execute_result"
    }
   ],
   "source": [
    "df_title.head(10)"
   ]
  },
  {
   "cell_type": "code",
   "execution_count": 39,
   "id": "cf9571b8-a378-4633-9a22-834e54ff7099",
   "metadata": {},
   "outputs": [
    {
     "data": {
      "text/plain": [
       "dtype('int32')"
      ]
     },
     "execution_count": 39,
     "metadata": {},
     "output_type": "execute_result"
    }
   ],
   "source": [
    "#lets convert id of df_movies to int\n",
    "df_movies['id'] = df_movies['id'].astype(int)\n",
    "df_movies['id'].dtype"
   ]
  },
  {
   "cell_type": "code",
   "execution_count": 40,
   "id": "28d295d3-cc9e-44b9-b5df-125a562c5b8b",
   "metadata": {},
   "outputs": [],
   "source": [
    "df_merged=df_movies.merge(df_title,on='id')\n"
   ]
  },
  {
   "cell_type": "code",
   "execution_count": 41,
   "id": "1e3ae463-defb-4c4b-b09f-9b2f7ae9646e",
   "metadata": {},
   "outputs": [
    {
     "data": {
      "text/plain": [
       "id         int64\n",
       "title     object\n",
       "cast_x    object\n",
       "crew_x    object\n",
       "dtype: object"
      ]
     },
     "execution_count": 41,
     "metadata": {},
     "output_type": "execute_result"
    }
   ],
   "source": [
    "df_title.dtypes"
   ]
  },
  {
   "cell_type": "code",
   "execution_count": 42,
   "id": "ed01a1f6-6ca1-47c9-b127-3cd94b40db4f",
   "metadata": {},
   "outputs": [
    {
     "data": {
      "text/plain": [
       "adult                   0\n",
       "budget                  0\n",
       "genres                  0\n",
       "id                      0\n",
       "imdb_id                 0\n",
       "original_language       0\n",
       "original_title          0\n",
       "overview                0\n",
       "popularity              0\n",
       "production_companies    0\n",
       "production_countries    0\n",
       "release_date            0\n",
       "revenue                 0\n",
       "runtime                 0\n",
       "spoken_languages        0\n",
       "status                  0\n",
       "title_x                 0\n",
       "video                   0\n",
       "vote_average            0\n",
       "vote_count              0\n",
       "title_y                 0\n",
       "cast_x                  0\n",
       "crew_x                  0\n",
       "dtype: int64"
      ]
     },
     "execution_count": 42,
     "metadata": {},
     "output_type": "execute_result"
    }
   ],
   "source": [
    "df_merged.isna().sum()"
   ]
  },
  {
   "cell_type": "code",
   "execution_count": 43,
   "id": "34f00ca0-a4a2-4d49-9567-6ef8216f1ac0",
   "metadata": {},
   "outputs": [
    {
     "data": {
      "text/plain": [
       "adult                    object\n",
       "budget                  float64\n",
       "genres                   object\n",
       "id                        int32\n",
       "imdb_id                  object\n",
       "original_language        object\n",
       "original_title           object\n",
       "overview                 object\n",
       "popularity               object\n",
       "production_companies     object\n",
       "production_countries     object\n",
       "release_date             object\n",
       "revenue                 float64\n",
       "runtime                 float64\n",
       "spoken_languages         object\n",
       "status                   object\n",
       "title_x                  object\n",
       "video                    object\n",
       "vote_average            float64\n",
       "vote_count              float64\n",
       "title_y                  object\n",
       "cast_x                   object\n",
       "crew_x                   object\n",
       "dtype: object"
      ]
     },
     "execution_count": 43,
     "metadata": {},
     "output_type": "execute_result"
    }
   ],
   "source": [
    "df_merged.dtypes"
   ]
  },
  {
   "cell_type": "code",
   "execution_count": 44,
   "id": "2f40be0f-b7db-4620-807a-b5660eea6097",
   "metadata": {},
   "outputs": [
    {
     "data": {
      "text/html": [
       "<div>\n",
       "<style scoped>\n",
       "    .dataframe tbody tr th:only-of-type {\n",
       "        vertical-align: middle;\n",
       "    }\n",
       "\n",
       "    .dataframe tbody tr th {\n",
       "        vertical-align: top;\n",
       "    }\n",
       "\n",
       "    .dataframe thead th {\n",
       "        text-align: right;\n",
       "    }\n",
       "</style>\n",
       "<table border=\"1\" class=\"dataframe\">\n",
       "  <thead>\n",
       "    <tr style=\"text-align: right;\">\n",
       "      <th></th>\n",
       "      <th>adult</th>\n",
       "      <th>budget</th>\n",
       "      <th>genres</th>\n",
       "      <th>id</th>\n",
       "      <th>imdb_id</th>\n",
       "      <th>original_language</th>\n",
       "      <th>original_title</th>\n",
       "      <th>overview</th>\n",
       "      <th>popularity</th>\n",
       "      <th>production_companies</th>\n",
       "      <th>...</th>\n",
       "      <th>runtime</th>\n",
       "      <th>spoken_languages</th>\n",
       "      <th>status</th>\n",
       "      <th>title_x</th>\n",
       "      <th>video</th>\n",
       "      <th>vote_average</th>\n",
       "      <th>vote_count</th>\n",
       "      <th>title_y</th>\n",
       "      <th>cast_x</th>\n",
       "      <th>crew_x</th>\n",
       "    </tr>\n",
       "  </thead>\n",
       "  <tbody>\n",
       "    <tr>\n",
       "      <th>0</th>\n",
       "      <td>False</td>\n",
       "      <td>30000000.0</td>\n",
       "      <td>[{'id': 16, 'name': 'Animation'}, {'id': 35, '...</td>\n",
       "      <td>862</td>\n",
       "      <td>tt0114709</td>\n",
       "      <td>en</td>\n",
       "      <td>Toy Story</td>\n",
       "      <td>Led by Woody, Andy's toys live happily in his ...</td>\n",
       "      <td>21.946943</td>\n",
       "      <td>[{'name': 'Pixar Animation Studios', 'id': 3}]</td>\n",
       "      <td>...</td>\n",
       "      <td>81.0</td>\n",
       "      <td>[{'iso_639_1': 'en', 'name': 'English'}]</td>\n",
       "      <td>Released</td>\n",
       "      <td>Toy Story</td>\n",
       "      <td>False</td>\n",
       "      <td>7.7</td>\n",
       "      <td>5415.0</td>\n",
       "      <td>Toy Story</td>\n",
       "      <td>[{'cast_id': 14, 'character': 'Woody (voice)',...</td>\n",
       "      <td>[{'credit_id': '52fe4284c3a36847f8024f49', 'de...</td>\n",
       "    </tr>\n",
       "    <tr>\n",
       "      <th>1</th>\n",
       "      <td>False</td>\n",
       "      <td>58000000.0</td>\n",
       "      <td>[{'id': 12, 'name': 'Adventure'}, {'id': 28, '...</td>\n",
       "      <td>710</td>\n",
       "      <td>tt0113189</td>\n",
       "      <td>en</td>\n",
       "      <td>GoldenEye</td>\n",
       "      <td>James Bond must unmask the mysterious head of ...</td>\n",
       "      <td>14.686036</td>\n",
       "      <td>[{'name': 'United Artists', 'id': 60}, {'name'...</td>\n",
       "      <td>...</td>\n",
       "      <td>130.0</td>\n",
       "      <td>[{'iso_639_1': 'en', 'name': 'English'}, {'iso...</td>\n",
       "      <td>Released</td>\n",
       "      <td>GoldenEye</td>\n",
       "      <td>False</td>\n",
       "      <td>6.6</td>\n",
       "      <td>1194.0</td>\n",
       "      <td>GoldenEye</td>\n",
       "      <td>[{'cast_id': 1, 'character': 'James Bond', 'cr...</td>\n",
       "      <td>[{'credit_id': '52fe426ec3a36847f801e14b', 'de...</td>\n",
       "    </tr>\n",
       "    <tr>\n",
       "      <th>2</th>\n",
       "      <td>False</td>\n",
       "      <td>62000000.0</td>\n",
       "      <td>[{'id': 35, 'name': 'Comedy'}, {'id': 18, 'nam...</td>\n",
       "      <td>9087</td>\n",
       "      <td>tt0112346</td>\n",
       "      <td>en</td>\n",
       "      <td>The American President</td>\n",
       "      <td>Widowed U.S. president Andrew Shepherd, one of...</td>\n",
       "      <td>6.318445</td>\n",
       "      <td>[{'name': 'Columbia Pictures', 'id': 5}, {'nam...</td>\n",
       "      <td>...</td>\n",
       "      <td>106.0</td>\n",
       "      <td>[{'iso_639_1': 'en', 'name': 'English'}]</td>\n",
       "      <td>Released</td>\n",
       "      <td>The American President</td>\n",
       "      <td>False</td>\n",
       "      <td>6.5</td>\n",
       "      <td>199.0</td>\n",
       "      <td>The American President</td>\n",
       "      <td>[{'cast_id': 1, 'character': 'Andrew Shepherd'...</td>\n",
       "      <td>[{'credit_id': '52fe44dac3a36847f80adfa3', 'de...</td>\n",
       "    </tr>\n",
       "    <tr>\n",
       "      <th>3</th>\n",
       "      <td>False</td>\n",
       "      <td>44000000.0</td>\n",
       "      <td>[{'id': 36, 'name': 'History'}, {'id': 18, 'na...</td>\n",
       "      <td>10858</td>\n",
       "      <td>tt0113987</td>\n",
       "      <td>en</td>\n",
       "      <td>Nixon</td>\n",
       "      <td>An all-star cast powers this epic look at Amer...</td>\n",
       "      <td>5.092</td>\n",
       "      <td>[{'name': 'Hollywood Pictures', 'id': 915}, {'...</td>\n",
       "      <td>...</td>\n",
       "      <td>192.0</td>\n",
       "      <td>[{'iso_639_1': 'en', 'name': 'English'}]</td>\n",
       "      <td>Released</td>\n",
       "      <td>Nixon</td>\n",
       "      <td>False</td>\n",
       "      <td>7.1</td>\n",
       "      <td>72.0</td>\n",
       "      <td>Nixon</td>\n",
       "      <td>[{'cast_id': 1, 'character': 'Richard Nixon', ...</td>\n",
       "      <td>[{'credit_id': '52fe43c59251416c7501d6f3', 'de...</td>\n",
       "    </tr>\n",
       "    <tr>\n",
       "      <th>4</th>\n",
       "      <td>False</td>\n",
       "      <td>98000000.0</td>\n",
       "      <td>[{'id': 28, 'name': 'Action'}, {'id': 12, 'nam...</td>\n",
       "      <td>1408</td>\n",
       "      <td>tt0112760</td>\n",
       "      <td>en</td>\n",
       "      <td>Cutthroat Island</td>\n",
       "      <td>Morgan Adams and her slave, William Shaw, are ...</td>\n",
       "      <td>7.284477</td>\n",
       "      <td>[{'name': 'Le Studio Canal+', 'id': 183}, {'na...</td>\n",
       "      <td>...</td>\n",
       "      <td>119.0</td>\n",
       "      <td>[{'iso_639_1': 'en', 'name': 'English'}, {'iso...</td>\n",
       "      <td>Released</td>\n",
       "      <td>Cutthroat Island</td>\n",
       "      <td>False</td>\n",
       "      <td>5.7</td>\n",
       "      <td>137.0</td>\n",
       "      <td>Cutthroat Island</td>\n",
       "      <td>[{'cast_id': 1, 'character': 'Morgan Adams', '...</td>\n",
       "      <td>[{'credit_id': '52fe42f4c3a36847f802f69f', 'de...</td>\n",
       "    </tr>\n",
       "  </tbody>\n",
       "</table>\n",
       "<p>5 rows × 23 columns</p>\n",
       "</div>"
      ],
      "text/plain": [
       "   adult      budget                                             genres  \\\n",
       "0  False  30000000.0  [{'id': 16, 'name': 'Animation'}, {'id': 35, '...   \n",
       "1  False  58000000.0  [{'id': 12, 'name': 'Adventure'}, {'id': 28, '...   \n",
       "2  False  62000000.0  [{'id': 35, 'name': 'Comedy'}, {'id': 18, 'nam...   \n",
       "3  False  44000000.0  [{'id': 36, 'name': 'History'}, {'id': 18, 'na...   \n",
       "4  False  98000000.0  [{'id': 28, 'name': 'Action'}, {'id': 12, 'nam...   \n",
       "\n",
       "      id    imdb_id original_language          original_title  \\\n",
       "0    862  tt0114709                en               Toy Story   \n",
       "1    710  tt0113189                en               GoldenEye   \n",
       "2   9087  tt0112346                en  The American President   \n",
       "3  10858  tt0113987                en                   Nixon   \n",
       "4   1408  tt0112760                en        Cutthroat Island   \n",
       "\n",
       "                                            overview popularity  \\\n",
       "0  Led by Woody, Andy's toys live happily in his ...  21.946943   \n",
       "1  James Bond must unmask the mysterious head of ...  14.686036   \n",
       "2  Widowed U.S. president Andrew Shepherd, one of...   6.318445   \n",
       "3  An all-star cast powers this epic look at Amer...      5.092   \n",
       "4  Morgan Adams and her slave, William Shaw, are ...   7.284477   \n",
       "\n",
       "                                production_companies  ... runtime  \\\n",
       "0     [{'name': 'Pixar Animation Studios', 'id': 3}]  ...    81.0   \n",
       "1  [{'name': 'United Artists', 'id': 60}, {'name'...  ...   130.0   \n",
       "2  [{'name': 'Columbia Pictures', 'id': 5}, {'nam...  ...   106.0   \n",
       "3  [{'name': 'Hollywood Pictures', 'id': 915}, {'...  ...   192.0   \n",
       "4  [{'name': 'Le Studio Canal+', 'id': 183}, {'na...  ...   119.0   \n",
       "\n",
       "                                    spoken_languages    status  \\\n",
       "0           [{'iso_639_1': 'en', 'name': 'English'}]  Released   \n",
       "1  [{'iso_639_1': 'en', 'name': 'English'}, {'iso...  Released   \n",
       "2           [{'iso_639_1': 'en', 'name': 'English'}]  Released   \n",
       "3           [{'iso_639_1': 'en', 'name': 'English'}]  Released   \n",
       "4  [{'iso_639_1': 'en', 'name': 'English'}, {'iso...  Released   \n",
       "\n",
       "                  title_x  video vote_average vote_count  \\\n",
       "0               Toy Story  False          7.7     5415.0   \n",
       "1               GoldenEye  False          6.6     1194.0   \n",
       "2  The American President  False          6.5      199.0   \n",
       "3                   Nixon  False          7.1       72.0   \n",
       "4        Cutthroat Island  False          5.7      137.0   \n",
       "\n",
       "                  title_y                                             cast_x  \\\n",
       "0               Toy Story  [{'cast_id': 14, 'character': 'Woody (voice)',...   \n",
       "1               GoldenEye  [{'cast_id': 1, 'character': 'James Bond', 'cr...   \n",
       "2  The American President  [{'cast_id': 1, 'character': 'Andrew Shepherd'...   \n",
       "3                   Nixon  [{'cast_id': 1, 'character': 'Richard Nixon', ...   \n",
       "4        Cutthroat Island  [{'cast_id': 1, 'character': 'Morgan Adams', '...   \n",
       "\n",
       "                                              crew_x  \n",
       "0  [{'credit_id': '52fe4284c3a36847f8024f49', 'de...  \n",
       "1  [{'credit_id': '52fe426ec3a36847f801e14b', 'de...  \n",
       "2  [{'credit_id': '52fe44dac3a36847f80adfa3', 'de...  \n",
       "3  [{'credit_id': '52fe43c59251416c7501d6f3', 'de...  \n",
       "4  [{'credit_id': '52fe42f4c3a36847f802f69f', 'de...  \n",
       "\n",
       "[5 rows x 23 columns]"
      ]
     },
     "execution_count": 44,
     "metadata": {},
     "output_type": "execute_result"
    }
   ],
   "source": [
    "df_merged.head()"
   ]
  },
  {
   "cell_type": "code",
   "execution_count": 45,
   "id": "cc4b17c0-cd0d-4204-a216-aad54926e4c0",
   "metadata": {},
   "outputs": [
    {
     "data": {
      "text/plain": [
       "Index(['adult', 'budget', 'genres', 'id', 'imdb_id', 'original_language',\n",
       "       'original_title', 'overview', 'popularity', 'production_companies',\n",
       "       'production_countries', 'release_date', 'revenue', 'runtime',\n",
       "       'spoken_languages', 'status', 'title_x', 'video', 'vote_average',\n",
       "       'vote_count', 'title_y', 'cast_x', 'crew_x'],\n",
       "      dtype='object')"
      ]
     },
     "execution_count": 45,
     "metadata": {},
     "output_type": "execute_result"
    }
   ],
   "source": [
    "df_merged.columns"
   ]
  },
  {
   "cell_type": "code",
   "execution_count": 46,
   "id": "484ae299-9a37-4e6f-99c8-7719fde894b6",
   "metadata": {},
   "outputs": [
    {
     "data": {
      "image/png": "[encoded data removed]",
      "text/plain": [
       "<Figure size 1000x600 with 1 Axes>"
      ]
     },
     "metadata": {},
     "output_type": "display_data"
    },
    {
     "name": "stdout",
     "output_type": "stream",
     "text": [
      "Top 20 Most Popular Genres:\n",
      "[{'id': 18, 'name': 'Drama'}]: 346\n",
      "[{'id': 35, 'name': 'Comedy'}]: 272\n",
      "[{'id': 18, 'name': 'Drama'}, {'id': 10749, 'name': 'Romance'}]: 161\n",
      "[{'id': 35, 'name': 'Comedy'}, {'id': 18, 'name': 'Drama'}]: 140\n",
      "[{'id': 35, 'name': 'Comedy'}, {'id': 10749, 'name': 'Romance'}]: 138\n",
      "[{'id': 35, 'name': 'Comedy'}, {'id': 18, 'name': 'Drama'}, {'id': 10749, 'name': 'Romance'}]: 108\n",
      "[{'id': 27, 'name': 'Horror'}, {'id': 53, 'name': 'Thriller'}]: 88\n",
      "[{'id': 18, 'name': 'Drama'}, {'id': 53, 'name': 'Thriller'}]: 59\n",
      "[{'id': 99, 'name': 'Documentary'}]: 56\n",
      "[{'id': 27, 'name': 'Horror'}]: 53\n",
      "[{'id': 80, 'name': 'Crime'}, {'id': 18, 'name': 'Drama'}, {'id': 53, 'name': 'Thriller'}]: 43\n",
      "[{'id': 18, 'name': 'Drama'}, {'id': 35, 'name': 'Comedy'}]: 43\n",
      "[{'id': 28, 'name': 'Action'}, {'id': 53, 'name': 'Thriller'}]: 39\n",
      "[{'id': 28, 'name': 'Action'}, {'id': 35, 'name': 'Comedy'}]: 36\n",
      "[{'id': 35, 'name': 'Comedy'}, {'id': 10751, 'name': 'Family'}]: 35\n",
      "[{'id': 18, 'name': 'Drama'}, {'id': 36, 'name': 'History'}]: 35\n",
      "[{'id': 18, 'name': 'Drama'}, {'id': 35, 'name': 'Comedy'}, {'id': 10749, 'name': 'Romance'}]: 34\n",
      "[{'id': 80, 'name': 'Crime'}, {'id': 18, 'name': 'Drama'}]: 31\n",
      "[{'id': 35, 'name': 'Comedy'}, {'id': 80, 'name': 'Crime'}]: 30\n",
      "[{'id': 28, 'name': 'Action'}, {'id': 80, 'name': 'Crime'}, {'id': 53, 'name': 'Thriller'}]: 30\n"
     ]
    }
   ],
   "source": [
    "import matplotlib.pyplot as plt\n",
    "import seaborn as sns\n",
    "\n",
    "# Distribution of movie ratings\n",
    "plt.figure(figsize=(10, 6))\n",
    "sns.histplot(df_merged['vote_average'], bins=20, kde=True)\n",
    "plt.title('Distribution of Movie Ratings')\n",
    "plt.xlabel('Rating')\n",
    "plt.ylabel('Count')\n",
    "plt.show()\n",
    "\n",
    "from collections import Counter\n",
    "\n",
    "# Split the 'genres' column values by '|' and handle 'Unknown' values\n",
    "genres = df_merged['genres'].apply(lambda x: x.split('|') if x != 'Unknown' else [])\n",
    "\n",
    "# Flatten the list of genres into a single list\n",
    "all_genres = [genre for sublist in genres for genre in sublist]\n",
    "\n",
    "# Count the occurrences of each genre\n",
    "genre_counts = Counter(all_genres)\n",
    "\n",
    "# Get the top 10 most common genres\n",
    "top_20_genres = genre_counts.most_common(20)\n",
    "\n",
    "# Print the top 10 most popular genres\n",
    "print(\"Top 20 Most Popular Genres:\")\n",
    "for genre, count in top_20_genres:\n",
    "    print(f\"{genre}: {count}\")\n",
    "\n",
    "\n"
   ]
  },
  {
   "cell_type": "markdown",
   "id": "d668723c-baf7-4a77-b0b3-25184f7a4081",
   "metadata": {},
   "source": [
    ">>The code processes the genres column from your DataFrame, splitting the genres and handling 'Unknown' values.\n",
    "   >>It creates a flat list of all genres and counts the occurrences of each genre using Counter.\n",
    "   >>It then visualizes the most popular genres using a bar plot, showing the count of each genre."
   ]
  },
  {
   "cell_type": "markdown",
   "id": "053269fc-1587-4238-aac5-b491244d5150",
   "metadata": {},
   "source": [
    "## Demographic Filtering -¶\n",
    "Before getting started with this -\n",
    "\n",
    "    >we need a metric to score or rate a movie\n",
    "\n",
    "    >Calculate the score for every movie\n",
    "\n",
    "    >Sort the scores and recommend the best rated     movie to the users.\n",
    "\n",
    "We can use the average ratings of the movie as the score but using this won't be fair enough since a movie with 8.9 average rating and only 3 votes cannot be considered better than the movie with 7.8 as as average rating but 40 votes. So, I'll be using IMDB's weighted rating (wr) which is given as :-\n",
    "\n",
    "where,\n",
    "\n",
    "v is the number of votes for the movie;\n",
    "m is the minimum votes required to be listed in the chart;\n",
    "R is the average rating of the movie; And\n",
    "C is the mean vote across the whole report\n",
    "\n",
    ">We already have v(vote_count) and R (vote_average) and C can be calculated as"
   ]
  },
  {
   "cell_type": "code",
   "execution_count": 47,
   "id": "684df01f-9713-4b65-bac5-84579128625b",
   "metadata": {},
   "outputs": [
    {
     "data": {
      "text/plain": [
       "6.194920772737139"
      ]
     },
     "execution_count": 47,
     "metadata": {},
     "output_type": "execute_result"
    }
   ],
   "source": [
    "C=df_merged['vote_average'].mean()\n",
    "C"
   ]
  },
  {
   "cell_type": "markdown",
   "id": "64374765-c588-4747-b0e8-e29da7676f3b",
   "metadata": {},
   "source": [
    "So, the mean rating for all the movies is approx 6 on a scale of 10.The next step is to determine an appropriate value for m, the minimum votes required to be listed in the chart. We will use 90th percentile as our cutoff. In other words, for a movie to feature in the charts, it must have more votes than at least 90% of the movies in the list."
   ]
  },
  {
   "cell_type": "code",
   "execution_count": 48,
   "id": "fbbbe664-1f3b-4854-bd37-28e82749d3e4",
   "metadata": {},
   "outputs": [
    {
     "data": {
      "text/plain": [
       "1965.4000000000005"
      ]
     },
     "execution_count": 48,
     "metadata": {},
     "output_type": "execute_result"
    }
   ],
   "source": [
    "m=df_merged['vote_count'].quantile(0.9)\n",
    "m"
   ]
  },
  {
   "cell_type": "markdown",
   "id": "3f5d37b1-1712-4db1-8c9f-16ed0eb2a214",
   "metadata": {},
   "source": [
    "Now, we can filter out the movies that qualify for the chart"
   ]
  },
  {
   "cell_type": "code",
   "execution_count": 49,
   "id": "0de2ad6f-1e2b-437a-b737-2345180f67ca",
   "metadata": {},
   "outputs": [
    {
     "data": {
      "text/plain": [
       "(461, 23)"
      ]
     },
     "execution_count": 49,
     "metadata": {},
     "output_type": "execute_result"
    }
   ],
   "source": [
    "q_movies=df_merged.copy().loc[df_merged['vote_count']>=m]\n",
    "q_movies.shape"
   ]
  },
  {
   "cell_type": "markdown",
   "id": "1f6b233a-9ce8-4af4-a445-7320243b7388",
   "metadata": {},
   "source": [
    "We see that there are 461 movies which qualify to be in this list. Now, we need to calculate our metric for each qualified movie. To do this, we will define a function, weighted_rating() and define a new feature score, of which we'll calculate the value by applying this function to our DataFrame of qualified movies:"
   ]
  },
  {
   "cell_type": "code",
   "execution_count": 50,
   "id": "190f835b-01bd-4b9a-b453-f94aff79fe31",
   "metadata": {},
   "outputs": [],
   "source": [
    "def weighted_rating(x,C=C,m=m):\n",
    "    V=x['vote_count']\n",
    "    R=x['vote_average']\n",
    "    #Calculation based on IMDB FORMULA\n",
    "    return (V/(V+m) * R) + (m/(m+V) *C)"
   ]
  },
  {
   "cell_type": "code",
   "execution_count": 51,
   "id": "33837559-c319-43f4-b5a8-117939aad75f",
   "metadata": {},
   "outputs": [],
   "source": [
    "# Define a new feature 'score' and calculate its value with `weighted_rating()`\n",
    "q_movies['score'] = q_movies.apply(weighted_rating, axis=1)"
   ]
  },
  {
   "cell_type": "markdown",
   "id": "86056d84-3784-443b-a177-13387053b2ba",
   "metadata": {},
   "source": [
    "## Finally, let's sort the DataFrame based on the score feature and output the title, vote count, vote average and weighted rating or score of the top 10 movies."
   ]
  },
  {
   "cell_type": "code",
   "execution_count": 52,
   "id": "419d96d2-9599-491a-966a-a76165d8425d",
   "metadata": {},
   "outputs": [
    {
     "data": {
      "text/html": [
       "<div>\n",
       "<style scoped>\n",
       "    .dataframe tbody tr th:only-of-type {\n",
       "        vertical-align: middle;\n",
       "    }\n",
       "\n",
       "    .dataframe tbody tr th {\n",
       "        vertical-align: top;\n",
       "    }\n",
       "\n",
       "    .dataframe thead th {\n",
       "        text-align: right;\n",
       "    }\n",
       "</style>\n",
       "<table border=\"1\" class=\"dataframe\">\n",
       "  <thead>\n",
       "    <tr style=\"text-align: right;\">\n",
       "      <th></th>\n",
       "      <th>title_x</th>\n",
       "      <th>vote_count</th>\n",
       "      <th>vote_average</th>\n",
       "      <th>score</th>\n",
       "    </tr>\n",
       "  </thead>\n",
       "  <tbody>\n",
       "    <tr>\n",
       "      <th>89</th>\n",
       "      <td>The Shawshank Redemption</td>\n",
       "      <td>8358.0</td>\n",
       "      <td>8.5</td>\n",
       "      <td>8.061152</td>\n",
       "    </tr>\n",
       "    <tr>\n",
       "      <th>2762</th>\n",
       "      <td>The Dark Knight</td>\n",
       "      <td>12269.0</td>\n",
       "      <td>8.3</td>\n",
       "      <td>8.009343</td>\n",
       "    </tr>\n",
       "    <tr>\n",
       "      <th>862</th>\n",
       "      <td>Fight Club</td>\n",
       "      <td>9678.0</td>\n",
       "      <td>8.3</td>\n",
       "      <td>7.944664</td>\n",
       "    </tr>\n",
       "    <tr>\n",
       "      <th>210</th>\n",
       "      <td>The Godfather</td>\n",
       "      <td>6024.0</td>\n",
       "      <td>8.5</td>\n",
       "      <td>7.932948</td>\n",
       "    </tr>\n",
       "    <tr>\n",
       "      <th>85</th>\n",
       "      <td>Pulp Fiction</td>\n",
       "      <td>8670.0</td>\n",
       "      <td>8.3</td>\n",
       "      <td>7.910986</td>\n",
       "    </tr>\n",
       "    <tr>\n",
       "      <th>3238</th>\n",
       "      <td>Inception</td>\n",
       "      <td>14075.0</td>\n",
       "      <td>8.1</td>\n",
       "      <td>7.866574</td>\n",
       "    </tr>\n",
       "    <tr>\n",
       "      <th>3999</th>\n",
       "      <td>Interstellar</td>\n",
       "      <td>11187.0</td>\n",
       "      <td>8.1</td>\n",
       "      <td>7.815319</td>\n",
       "    </tr>\n",
       "    <tr>\n",
       "      <th>103</th>\n",
       "      <td>Forrest Gump</td>\n",
       "      <td>8147.0</td>\n",
       "      <td>8.2</td>\n",
       "      <td>7.810302</td>\n",
       "    </tr>\n",
       "    <tr>\n",
       "      <th>1847</th>\n",
       "      <td>The Lord of the Rings: The Return of the King</td>\n",
       "      <td>8226.0</td>\n",
       "      <td>8.1</td>\n",
       "      <td>7.732608</td>\n",
       "    </tr>\n",
       "    <tr>\n",
       "      <th>281</th>\n",
       "      <td>The Empire Strikes Back</td>\n",
       "      <td>5998.0</td>\n",
       "      <td>8.2</td>\n",
       "      <td>7.705138</td>\n",
       "    </tr>\n",
       "    <tr>\n",
       "      <th>1398</th>\n",
       "      <td>The Lord of the Rings: The Fellowship of the Ring</td>\n",
       "      <td>8892.0</td>\n",
       "      <td>8.0</td>\n",
       "      <td>7.673246</td>\n",
       "    </tr>\n",
       "    <tr>\n",
       "      <th>80</th>\n",
       "      <td>Star Wars</td>\n",
       "      <td>6778.0</td>\n",
       "      <td>8.1</td>\n",
       "      <td>7.671764</td>\n",
       "    </tr>\n",
       "    <tr>\n",
       "      <th>143</th>\n",
       "      <td>Schindler's List</td>\n",
       "      <td>4436.0</td>\n",
       "      <td>8.3</td>\n",
       "      <td>7.653685</td>\n",
       "    </tr>\n",
       "    <tr>\n",
       "      <th>4061</th>\n",
       "      <td>Whiplash</td>\n",
       "      <td>4376.0</td>\n",
       "      <td>8.3</td>\n",
       "      <td>7.647570</td>\n",
       "    </tr>\n",
       "    <tr>\n",
       "      <th>1618</th>\n",
       "      <td>The Lord of the Rings: The Two Towers</td>\n",
       "      <td>7641.0</td>\n",
       "      <td>8.0</td>\n",
       "      <td>7.630694</td>\n",
       "    </tr>\n",
       "  </tbody>\n",
       "</table>\n",
       "</div>"
      ],
      "text/plain": [
       "                                                title_x  vote_count  \\\n",
       "89                             The Shawshank Redemption      8358.0   \n",
       "2762                                    The Dark Knight     12269.0   \n",
       "862                                          Fight Club      9678.0   \n",
       "210                                       The Godfather      6024.0   \n",
       "85                                         Pulp Fiction      8670.0   \n",
       "3238                                          Inception     14075.0   \n",
       "3999                                       Interstellar     11187.0   \n",
       "103                                        Forrest Gump      8147.0   \n",
       "1847      The Lord of the Rings: The Return of the King      8226.0   \n",
       "281                             The Empire Strikes Back      5998.0   \n",
       "1398  The Lord of the Rings: The Fellowship of the Ring      8892.0   \n",
       "80                                            Star Wars      6778.0   \n",
       "143                                    Schindler's List      4436.0   \n",
       "4061                                           Whiplash      4376.0   \n",
       "1618              The Lord of the Rings: The Two Towers      7641.0   \n",
       "\n",
       "      vote_average     score  \n",
       "89             8.5  8.061152  \n",
       "2762           8.3  8.009343  \n",
       "862            8.3  7.944664  \n",
       "210            8.5  7.932948  \n",
       "85             8.3  7.910986  \n",
       "3238           8.1  7.866574  \n",
       "3999           8.1  7.815319  \n",
       "103            8.2  7.810302  \n",
       "1847           8.1  7.732608  \n",
       "281            8.2  7.705138  \n",
       "1398           8.0  7.673246  \n",
       "80             8.1  7.671764  \n",
       "143            8.3  7.653685  \n",
       "4061           8.3  7.647570  \n",
       "1618           8.0  7.630694  "
      ]
     },
     "execution_count": 52,
     "metadata": {},
     "output_type": "execute_result"
    }
   ],
   "source": [
    "#sort movies based on score calculated sbove\n",
    "q_movies=q_movies.sort_values('score',ascending=False)\n",
    "\n",
    "#Print the 15 movies\n",
    "q_movies[['title_x','vote_count','vote_average','score']].head(15)"
   ]
  },
  {
   "cell_type": "code",
   "execution_count": 53,
   "id": "b6009157-3ad5-4405-b610-683dc3a44aa2",
   "metadata": {},
   "outputs": [
    {
     "data": {
      "text/plain": [
       "dtype('O')"
      ]
     },
     "execution_count": 53,
     "metadata": {},
     "output_type": "execute_result"
    }
   ],
   "source": [
    "df_merged['popularity'].dtype\n"
   ]
  },
  {
   "cell_type": "code",
   "execution_count": 54,
   "id": "0e33e79b-f038-4756-b77d-50622a8fea64",
   "metadata": {},
   "outputs": [
    {
     "data": {
      "text/plain": [
       "dtype('O')"
      ]
     },
     "execution_count": 54,
     "metadata": {},
     "output_type": "execute_result"
    }
   ],
   "source": [
    "df_merged['title_x'].dtype"
   ]
  },
  {
   "cell_type": "code",
   "execution_count": 55,
   "id": "3a03bdac-5d26-4210-8958-fc4d474c66ac",
   "metadata": {},
   "outputs": [
    {
     "data": {
      "image/png": "[encoded data removed]",
      "text/plain": [
       "<Figure size 1200x400 with 1 Axes>"
      ]
     },
     "metadata": {},
     "output_type": "display_data"
    }
   ],
   "source": [
    "df_merged1=df_merged\n",
    "# Step 1: Convert the 'popularity' column to numeric\n",
    "df_merged['popularity'] = pd.to_numeric(df_merged['popularity'], errors='coerce')\n",
    "\n",
    "# Step 2: Handle NaN values\n",
    "df_merged = df_merged.dropna(subset=['popularity'])\n",
    "\n",
    "# Step 3: Sort by 'popularity' and plot\n",
    "pop = df_merged.sort_values('popularity', ascending=False)\n",
    "\n",
    "plt.figure(figsize=(12, 4))\n",
    "plt.barh(pop['title_x'].head(6), pop['popularity'].head(6), align='center', color='skyblue')\n",
    "plt.gca().invert_yaxis()\n",
    "plt.xlabel(\"Popularity\")\n",
    "plt.title(\"Popular Movies\")\n",
    "plt.show()"
   ]
  },
  {
   "cell_type": "markdown",
   "id": "a7663d7e-f1d3-4c27-bd60-f1046c6d13f4",
   "metadata": {},
   "source": [
    "Now something to keep in mind is that these demographic recommender provide a general chart of recommended movies to all the users. They are not sensitive to the interests and tastes of a particular user. This is when we move on to a more refined system- Content Basesd Filtering."
   ]
  },
  {
   "attachments": {},
   "cell_type": "markdown",
   "id": "c86bf6c2-12ad-4207-91b2-9ef11f0d94da",
   "metadata": {},
   "source": [
    "## Content Based Filtering\n",
    "In this recommender system the content of the movie (overview, cast, crew, keyword, tagline etc) is used to find its similarity with other movies. Then the movies that are most likely to be similar are recommended.\n",
    "\n",
    "\n",
    "\n",
    "\n",
    "                            "
   ]
  },
  {
   "cell_type": "markdown",
   "id": "2e4e3117-7273-4320-b7b8-83b63dd6cb1d",
   "metadata": {},
   "source": [
    "<div style=\"text-align: center;\">\n",
    "    <img src=\"conten.png\" alt=\"This is an example image\" style=\"width: 50%;\"/>\n",
    "</div>\n"
   ]
  },
  {
   "cell_type": "markdown",
   "id": "b13b1506-2470-41bc-8f49-e62b39af2bbe",
   "metadata": {},
   "source": [
    "Plot description based Recommender\n",
    "We will compute pairwise similarity scores for all movies based on their plot descriptions and recommend movies based on that similarity score. The plot description is given in the overview feature of our dataset. Let's take a look at the data. .."
   ]
  },
  {
   "cell_type": "code",
   "execution_count": 56,
   "id": "0b7a3b0b-bc24-4958-979d-c9cbc91fceae",
   "metadata": {},
   "outputs": [
    {
     "data": {
      "text/plain": [
       "0    Led by Woody, Andy's toys live happily in his ...\n",
       "1    James Bond must unmask the mysterious head of ...\n",
       "2    Widowed U.S. president Andrew Shepherd, one of...\n",
       "3    An all-star cast powers this epic look at Amer...\n",
       "4    Morgan Adams and her slave, William Shaw, are ...\n",
       "Name: overview, dtype: object"
      ]
     },
     "execution_count": 56,
     "metadata": {},
     "output_type": "execute_result"
    }
   ],
   "source": [
    "df_merged['overview'].head(5)"
   ]
  },
  {
   "cell_type": "markdown",
   "id": "62574990-5fa1-4b8b-8a0f-a8424e4904c1",
   "metadata": {},
   "source": [
    "For any of you who has done even a bit of text processing before knows we need to convert the word vector of each overview. Now we'll compute Term Frequency-Inverse Document Frequency (TF-IDF) vectors for each overview.\n",
    "\n",
    "Now if you are wondering what is term frequency , it is the relative frequency of a word in a document and is given as (term instances/total instances). Inverse Document Frequency is the relative count of documents containing the term is given as log(number of documents/documents with term) The overall importance of each word to the documents in which they appear is equal to TF * IDF\n",
    "\n",
    "This will give you a matrix where each column represents a word in the overview vocabulary (all the words that appear in at least one document) and each row represents a movie, as before.This is done to reduce the importance of words that occur frequently in plot overviews and therefore, theirFor any of you who has done even a bit of text processing before knows we need to convert the word vector of each overview. Now we'll compute Term Frequency-Inverse Document Frequency (TF-IDF) vectors for each overview.\n",
    "\n",
    "Now if you are wondering what is term frequency , it is the relative frequency of a word in a document and is given as (term instances/total instances). Inverse Document Frequency is the relative count of documents containing the term is given as log(number of documents/documents with term) The overall importance of each word to the documents in which they appear is equal to TF * IDF\n",
    "\n",
    "This will give you a matrix where each column represents a word in the overview vocabulary (all the words that appear in at least one document) and each row represents a movie, as before.This is done to reduce the importance of words that occur frequently in plot overviews and therefore, their significance in computing the final similarity score.\n",
    "\n",
    "Fortunately, scikit-learn gives you a built-in TfIdfVectorizer class that produces the TF-IDF matrix in a couple of lines. That's great, isn't it?"
   ]
  },
  {
   "cell_type": "markdown",
   "id": "c07c05b5-3a7e-437c-9d34-e2ad109f1206",
   "metadata": {},
   "source": [
    "\n",
    "@ The TfidfVectorizer is a feature extraction tool provided by the scikit-learn library in Python. It is used to convert a collection of raw documents into a matrix of TF-IDF (Term Frequency-Inverse Document Frequency) features.\n",
    "\n",
    "TF-IDF Explained\n",
    "TF-IDF is a numerical statistic that reflects the importance of a word in a document relative to a collection of documents (corpus). It combines two metrics:\n",
    "\n",
    "Term Frequency (TF): Measures how frequently a term occurs in a document. The raw count of a term in a document is often normalized to prevent bias towards longer documents.\n",
    "\n",
    "Inverse Document Frequency (IDF): Measures how important a term is across the entire corpus. It decreases the weight of terms that appear very frequently in many documents, which are often less informative (e.g., \"the\", \"is\")."
   ]
  },
  {
   "cell_type": "code",
   "execution_count": 57,
   "id": "ebdcf124-7c08-4896-95c7-457b5f71e1d5",
   "metadata": {},
   "outputs": [
    {
     "data": {
      "text/plain": [
       "(4607, 20334)"
      ]
     },
     "execution_count": 57,
     "metadata": {},
     "output_type": "execute_result"
    }
   ],
   "source": [
    "#importing TfIdVectorizer from scikit-learn\n",
    "from sklearn.feature_extraction.text import TfidfVectorizer\n",
    "\n",
    "#define a TF-IDF vectorizer object.Remove all english stop words such as 'a','the' etc.\n",
    "tfidf=TfidfVectorizer(stop_words='english')\n",
    "\n",
    "#Replace NAN with an empty string \n",
    "df_merged['overview']=df_merged['overview'].fillna('')\n",
    "\n",
    "#Construct the required TF-IDF matrix by fitting and transforming the data.\n",
    "tfidf_matrix=tfidf.fit_transform(df_merged['overview'])\n",
    "\n",
    "\n",
    "#output the shape of tfidf_matrix\n",
    "\n",
    "\n",
    "tfidf_matrix.shape\n",
    "\n",
    "\n",
    "\n",
    "\n",
    "\n",
    "\n"
   ]
  },
  {
   "cell_type": "markdown",
   "id": "4151e2a3-7ff0-4a21-ace8-8c2827365463",
   "metadata": {},
   "source": [
    "We have seen that over 20334 words hace been used to describe the 4507 movies in our data set.\n",
    "\n",
    "With this matrix in hand, we can now compute a similarity score. There are several candidates for this; such as the euclidean, the Pearson and the cosine similarity scores. There is no right answer to which score is the best. Different scores work well in different scenarios and it is often a good idea to experiment with different metrics.\n",
    "\n",
    "We will be using the cosine similarity to calculate a numeric quantity that denotes the similarity between two movies. We use the cosine similarity score since it is independent of magnitude and is relatively easy and fast to calculate. Mathematically, it is defined as follows:\n",
    "\n",
    "\n"
   ]
  },
  {
   "cell_type": "markdown",
   "id": "bdf49f30-dca4-46d2-a5a5-19e5a70aab58",
   "metadata": {},
   "source": [
    "<div style=\"text-align: center;\">\n",
    "    <img src=\"cosine.png\" alt=\"This is an example image\" style=\"width: 50%;\"/>\n",
    "</div>\n"
   ]
  },
  {
   "cell_type": "markdown",
   "id": "c43ce848-f7eb-4222-84a7-066b0b206d7f",
   "metadata": {},
   "source": [
    "Since we have used the TF-IDF vectorizer, calculating the dot product will directly give us the cosine similarity score. Therefore, we will use sklearn's linear_kernel() instead of cosine_similarities() since it is faster."
   ]
  },
  {
   "cell_type": "code",
   "execution_count": 58,
   "id": "de1dcd15-acc2-47ee-a156-fe46738794d2",
   "metadata": {},
   "outputs": [],
   "source": [
    "# Import linear_kernel\n",
    "from sklearn.metrics.pairwise import linear_kernel\n",
    "\n",
    "# Compute the cosine similarity matrix\n",
    "cosine_sim = linear_kernel(tfidf_matrix, tfidf_matrix)\n",
    "\n"
   ]
  },
  {
   "cell_type": "markdown",
   "id": "af89628a-d387-4efa-a5b4-6101d0495d50",
   "metadata": {},
   "source": [
    "We are going to define a function that takes in a movie title as an input and outputs a list of the 10 most similar movies. Firstly, for this, we need a reverse mapping of movie titles and DataFrame indices. In other words, we need a mechanism to identify the index of a movie in our metadata DataFrame, given its title."
   ]
  },
  {
   "cell_type": "code",
   "execution_count": 59,
   "id": "ac5388e5-d803-47e8-b9d9-f8fba5db3da5",
   "metadata": {},
   "outputs": [],
   "source": [
    "#Constructing a reverse map of indices and movie titles\n",
    "indices=pd.Series(df_merged.index,df_merged['title_x']).drop_duplicates()"
   ]
  },
  {
   "cell_type": "code",
   "execution_count": 60,
   "id": "f838357a-e8cf-4e09-9f12-41426e160b4e",
   "metadata": {},
   "outputs": [],
   "source": [
    "#Function that tales in movie title as inout and outputs most similar movies\n",
    "def get_recomendations(title,cosine_sim=cosine_sim):\n",
    "    #Get the index of the movie that matches the title.\n",
    "    idx=indices[title]\n",
    "    #Get the pairwise similarity scores of all movies with that movie\n",
    "    sim_scores=list(enumerate(cosine_sim[idx]))\n",
    "    #Sort the movies based on similarity scores.\n",
    "    sim_scores=sorted(sim_scores,key=lambda x:x[1], reverse=True)\n",
    "    #Get the scores of the 10 most similar movies\n",
    "    sim_scores=sim_scores[1:11]\n",
    "\n",
    "    #Get the movie indices\n",
    "    movie_indices=[i[0] for i in sim_scores]\n",
    "\n",
    "     #Retrun the top 10 most similar movies\n",
    "    return df_merged['title_x'].iloc[movie_indices]\n",
    "\n"
   ]
  },
  {
   "cell_type": "code",
   "execution_count": 61,
   "id": "b01e14e7-a549-4cfc-9f37-7fe51ecaf901",
   "metadata": {},
   "outputs": [
    {
     "data": {
      "text/plain": [
       "2762                            The Dark Knight\n",
       "50                               Batman Forever\n",
       "352                              Batman Returns\n",
       "157                                      Batman\n",
       "3788    Batman: The Dark Knight Returns, Part 2\n",
       "2193                              Batman Begins\n",
       "2575                                  Slow Burn\n",
       "4359         Batman v Superman: Dawn of Justice\n",
       "971                                         JFK\n",
       "393                              Batman & Robin\n",
       "Name: title_x, dtype: object"
      ]
     },
     "execution_count": 61,
     "metadata": {},
     "output_type": "execute_result"
    }
   ],
   "source": [
    "get_recomendations('The Dark Knight Rises')"
   ]
  },
  {
   "cell_type": "code",
   "execution_count": 62,
   "id": "0991ba2e-7f94-47af-82fc-42c31e43122a",
   "metadata": {},
   "outputs": [
    {
     "data": {
      "text/plain": [
       "4205            Avengers: Age of Ultron\n",
       "4113                            Plastic\n",
       "112                             Timecop\n",
       "2350              Thank You for Smoking\n",
       "727                       The Corruptor\n",
       "3280    Wall Street: Money Never Sleeps\n",
       "2012         Team America: World Police\n",
       "3966                        Snowpiercer\n",
       "2454                       The Fountain\n",
       "4329                          Allegiant\n",
       "Name: title_x, dtype: object"
      ]
     },
     "execution_count": 62,
     "metadata": {},
     "output_type": "execute_result"
    }
   ],
   "source": [
    "get_recomendations('The Avengers')"
   ]
  },
  {
   "cell_type": "code",
   "execution_count": 63,
   "id": "63128f4d-264d-4134-814a-f92433ef5895",
   "metadata": {},
   "outputs": [
    {
     "data": {
      "text/plain": [
       "4010         Space Pirate Captain Harlock\n",
       "440                     Starship Troopers\n",
       "4311                    The Green Inferno\n",
       "3653                           Prometheus\n",
       "3336                      All Good Things\n",
       "916                         Stuart Little\n",
       "431                               Gattaca\n",
       "723     Battle for the Planet of the Apes\n",
       "739                            The Matrix\n",
       "4219                       Winnie Mandela\n",
       "Name: title_x, dtype: object"
      ]
     },
     "execution_count": 63,
     "metadata": {},
     "output_type": "execute_result"
    }
   ],
   "source": [
    "get_recomendations('Interstellar')"
   ]
  },
  {
   "cell_type": "markdown",
   "id": "6f531f38-7e35-4bbf-a6a9-d812c5b59d38",
   "metadata": {},
   "source": [
    "## While our system has done a decent job of finding movies with similar plot descriptions, the quality of recommendations is not that great. \"The Dark Knight Rises\" returns all Batman movies while it is more likely that the people who liked that movie are more inclined to enjoy other Christopher Nolan movies. This is something that cannot be captured by the present system."
   ]
  },
  {
   "cell_type": "markdown",
   "id": "77e127f9-4995-4822-aea7-29772cd81d8f",
   "metadata": {},
   "source": [
    "## Collaborative Filtering¶\n",
    "Our content based engine suffers from some severe limitations. It is only capable of suggesting movies which are close to a certain movie. That is, it is not capable of capturing tastes and providing recommendations across genres.\n",
    "\n",
    "Also, the engine that we built is not really personal in that it doesn't capture the personal tastes and biases of a user. Anyone querying our engine for recommendations based on a movie will receive the same recommendations for that movie, regardless of who she/he is.\n",
    "\n",
    "Therefore, in this section, we will use a technique called Collaborative Filtering to make recommendations to Movie Watchers. It is basically of two types:-"
   ]
  },
  {
   "cell_type": "markdown",
   "id": "98c80510-1e96-4fe6-93a9-b423ef390a94",
   "metadata": {},
   "source": [
    "## User based filtering: \n",
    "These systems recommend products to a user that similar users have liked. For measuring the similarity between two users we can either use pearson correlation or cosine similarity. This filtering technique can be illustrated with an example. In the following matrixes, each row represents a user, while the columns correspond to different movies except the last one which records the similarity between that user and the target user. Each cell represents the rating that the user gives to that movie. Assume user E is the target."
   ]
  },
  {
   "cell_type": "markdown",
   "id": "9d08ba8c-f25e-4c72-b401-7ffc60c0764f",
   "metadata": {},
   "source": [
    "<div style=\"text-align:center;\">\n",
    "    <img src=\"table1.png\" alt=\"This is an example image\" style=\"width: 100%;\" />\n",
    "</div>"
   ]
  },
  {
   "cell_type": "markdown",
   "id": "4c971dad-444f-4e81-af48-6d570316e38f",
   "metadata": {},
   "source": [
    "Since user A and F do not share any movie ratings in common with user E, their similarities with user E are not defined in Pearson Correlation. Therefore, we only need to consider user B, C, and D. Based on Pearson Correlation, we can compute the following similarity."
   ]
  },
  {
   "cell_type": "markdown",
   "id": "88a31f65-bb18-4e7f-b71d-8a9959549d47",
   "metadata": {},
   "source": [
    "<div style=\"text-align:center;\">\n",
    "    <img src=\"table2.png\" alt=\"This is an example image\" style=\"width: 100%;\" />\n",
    "</div>"
   ]
  },
  {
   "cell_type": "markdown",
   "id": "029209e0-1573-4897-bf2c-b15229635175",
   "metadata": {},
   "source": [
    "From the above table we can see that user D is very different from user E as the Pearson Correlation between them is negative. He rated Me Before You higher than his rating average, while user E did the opposite. Now, we can start to fill in the blank for the movies that user E has not rated based on other users."
   ]
  },
  {
   "cell_type": "markdown",
   "id": "27b7762d-ef95-4664-9b9d-ff6c3b2cd493",
   "metadata": {},
   "source": [
    "<div style=\"text-align:center;\">\n",
    "    <img src=\"table3.png\",alt=\"This is an example image\" style=\"width: 100%;\" />\n",
    "</div>"
   ]
  },
  {
   "cell_type": "markdown",
   "id": "4439fe90-db79-456c-9f02-614abcd615c9",
   "metadata": {},
   "source": [
    "Since user A and F do not share any movie ratings in common with user E, their similarities with user E are not defined in Pearson Correlation. Therefore, we only need to consider user B, C, and D. Based on Pearson Correlation, we can compute the following similarity."
   ]
  },
  {
   "cell_type": "markdown",
   "id": "c8533247-155c-4583-bb41-2c9a8c7d0068",
   "metadata": {},
   "source": [
    "<div style=\"text-align:center;\">\n",
    "    <img src=\"table4.png\" alt=\"This is an example image\" style=\"width: 100%;\" />\n",
    "</div>"
   ]
  },
  {
   "cell_type": "markdown",
   "id": "e5bb1c61-7ee9-49eb-9c55-a94b248648b7",
   "metadata": {},
   "source": [
    "From the above table we can see that user D is very different from user E as the Pearson Correlation between them is negative. He rated Me Before You higher than his rating average, while user E did the opposite. Now, we can start to fill in the blank for \n",
    "movies that user E has not rated based on other users"
   ]
  },
  {
   "cell_type": "markdown",
   "id": "aa943eb2-f4ac-4f35-a4b5-b094b18b98be",
   "metadata": {},
   "source": [
    "<div style=\"text-align:center;\">\n",
    "    <img src=\"table5.png\" alt=\"This is an example image\" style=\"width: 100%;\" />\n",
    "</div>"
   ]
  },
  {
   "cell_type": "markdown",
   "id": "0ea27ea6-270e-4319-8491-81528134a74b",
   "metadata": {},
   "source": [
    "Although computing user-based CF is very simple, it suffers from several problems. One main issue is that users’ preference can change over time. It indicates that precomputing the matrix based on their neighboring users may lead to bad performance. To tackle this problem, we can apply item-based CF.\n",
    "\n",
    "Item Based Collaborative Filtering - Instead of measuring the similarity between users, the item-based CF recommends items based on their similarity with the items that the target user rated. Likewise, the similarity can be computed with Pearson Correlation or Cosine Similarity. The major difference is that, with item-based collaborative filtering, we fill in the blank vertically, as oppose to the horizontal manner that user-based CF does. The following table shows how to do so for the movie Me Before You."
   ]
  },
  {
   "cell_type": "markdown",
   "id": "a7c2920d-af2b-4c0e-a947-ce8a812719ed",
   "metadata": {},
   "source": [
    "<div style=\"text-align:center;\">\n",
    "    <img src=\"table6.png\" alt=\"This is an example image\" style=\"width: 100%;\" />\n",
    "</div>"
   ]
  },
  {
   "cell_type": "markdown",
   "id": "aa897ee9-631b-4ab4-b319-9b27a630d78c",
   "metadata": {},
   "source": [
    "It successfully avoids the problem posed by dynamic user preference as item-based CF is more static. However, several problems remain for this method. First, the main issue is scalability. The computation grows with both the customer and the product. The worst case complexity is O(mn) with m users and n items. In addition, sparsity is another concern. Take a look at the above table again. Although there is only one user that rated both Matrix and Titanic rated, the similarity between them is 1. In extreme cases, we can have millions of users and the similarity between two fairly different movies could be very high simply because they have similar rank for the only user who ranked them both.\n",
    "\n",
    "## Single Value Decomposition\n",
    "One way to handle the scalability and sparsity issue created by CF is to leverage a latent factor model to capture the similarity between users and items. Essentially, we want to turn the recommendation problem into an optimization problem. We can view it as how good we are in predicting the rating for items given a user. One common metric is Root Mean Square Error (RMSE). The lower the RMSE, the better the performance.\n",
    "\n",
    "Now talking about latent factor you might be wondering what is it ?It is a broad idea which describes a property or concept that a user or an item have. For instance, for music, latent factor can refer to the genre that the music belongs to. SVD decreases the dimension of the utility matrix by extracting its latent factors. Essentially, we map each user and each item into a latent space with dimension r. Therefore, it helps us better understand the relationship between users and items as they become directly comparable. The below figure illustrates this idea."
   ]
  },
  {
   "cell_type": "markdown",
   "id": "0f1f879b-7b2a-4155-88f5-db11aa0224eb",
   "metadata": {},
   "source": [
    "<div style=\"text-align:center;\">\n",
    "    <img src=\"table7.png\" alt=\"This is an example image\" style=\"width: 100%;\" />\n",
    "</div>\n"
   ]
  },
  {
   "cell_type": "markdown",
   "id": "a58fedf2-ddb8-461d-8bcf-0e3f42537f0f",
   "metadata": {},
   "source": [
    "Now enough said , let's see how to implement this. Since the dataset we used before did not have userId(which is necessary for collaborative filtering) let's load another dataset. We'll be using the Surprise library to implement SVD."
   ]
  },
  {
   "cell_type": "code",
   "execution_count": 66,
   "id": "37e0caf9-3b8c-4481-acc6-e11d6e0152e9",
   "metadata": {},
   "outputs": [
    {
     "data": {
      "text/html": [
       "<div>\n",
       "<style scoped>\n",
       "    .dataframe tbody tr th:only-of-type {\n",
       "        vertical-align: middle;\n",
       "    }\n",
       "\n",
       "    .dataframe tbody tr th {\n",
       "        vertical-align: top;\n",
       "    }\n",
       "\n",
       "    .dataframe thead th {\n",
       "        text-align: right;\n",
       "    }\n",
       "</style>\n",
       "<table border=\"1\" class=\"dataframe\">\n",
       "  <thead>\n",
       "    <tr style=\"text-align: right;\">\n",
       "      <th></th>\n",
       "      <th>userId</th>\n",
       "      <th>movieId</th>\n",
       "      <th>rating</th>\n",
       "      <th>timestamp</th>\n",
       "    </tr>\n",
       "  </thead>\n",
       "  <tbody>\n",
       "    <tr>\n",
       "      <th>0</th>\n",
       "      <td>1</td>\n",
       "      <td>31</td>\n",
       "      <td>2.5</td>\n",
       "      <td>1260759144</td>\n",
       "    </tr>\n",
       "    <tr>\n",
       "      <th>1</th>\n",
       "      <td>1</td>\n",
       "      <td>1029</td>\n",
       "      <td>3.0</td>\n",
       "      <td>1260759179</td>\n",
       "    </tr>\n",
       "    <tr>\n",
       "      <th>2</th>\n",
       "      <td>1</td>\n",
       "      <td>1061</td>\n",
       "      <td>3.0</td>\n",
       "      <td>1260759182</td>\n",
       "    </tr>\n",
       "    <tr>\n",
       "      <th>3</th>\n",
       "      <td>1</td>\n",
       "      <td>1129</td>\n",
       "      <td>2.0</td>\n",
       "      <td>1260759185</td>\n",
       "    </tr>\n",
       "    <tr>\n",
       "      <th>4</th>\n",
       "      <td>1</td>\n",
       "      <td>1172</td>\n",
       "      <td>4.0</td>\n",
       "      <td>1260759205</td>\n",
       "    </tr>\n",
       "  </tbody>\n",
       "</table>\n",
       "</div>"
      ],
      "text/plain": [
       "   userId  movieId  rating   timestamp\n",
       "0       1       31     2.5  1260759144\n",
       "1       1     1029     3.0  1260759179\n",
       "2       1     1061     3.0  1260759182\n",
       "3       1     1129     2.0  1260759185\n",
       "4       1     1172     4.0  1260759205"
      ]
     },
     "execution_count": 66,
     "metadata": {},
     "output_type": "execute_result"
    }
   ],
   "source": [
    "import pandas as pd\n",
    "from surprise import Dataset,Reader,SVD\n",
    "from surprise.model_selection import cross_validate\n",
    "reader=Reader()\n",
    "ratings=pd.read_csv('ratings_small.csv')\n",
    "ratings.head()"
   ]
  },
  {
   "cell_type": "markdown",
   "id": "a3960b0e-0275-4d79-a9ba-665fbbc41e16",
   "metadata": {},
   "source": [
    "Note that in this dataset movies are rated on a scale of 5 unlike the earlier one"
   ]
  },
  {
   "cell_type": "code",
   "execution_count": 67,
   "id": "79b64ad4-138f-4e45-aeef-8f455c404231",
   "metadata": {},
   "outputs": [
    {
     "name": "stdout",
     "output_type": "stream",
     "text": [
      "C:\\Program Files\\Python311\\python.exe\n"
     ]
    }
   ],
   "source": [
    "import sys\n",
    "print(sys.executable)\n"
   ]
  },
  {
   "cell_type": "code",
   "execution_count": 68,
   "id": "d306a412-2f9d-4165-8e9d-c9e52f54ea90",
   "metadata": {},
   "outputs": [
    {
     "name": "stdout",
     "output_type": "stream",
     "text": [
      "Evaluating RMSE, MAE of algorithm SVD on 5 split(s).\n",
      "\n",
      "                  Fold 1  Fold 2  Fold 3  Fold 4  Fold 5  Mean    Std     \n",
      "RMSE (testset)    0.8948  0.8898  0.9038  0.9016  0.8901  0.8960  0.0058  \n",
      "MAE (testset)     0.6897  0.6892  0.6944  0.6909  0.6871  0.6903  0.0024  \n",
      "Fit time          1.73    1.69    2.88    1.72    1.87    1.98    0.46    \n",
      "Test time         0.27    0.17    0.50    0.25    0.27    0.29    0.11    \n",
      "{'test_rmse': array([0.89484926, 0.88980625, 0.90378016, 0.90155976, 0.89007986]), 'test_mae': array([0.6896787 , 0.6892295 , 0.69439157, 0.69089252, 0.68710016]), 'fit_time': (1.7293729782104492, 1.6935079097747803, 2.8842833042144775, 1.7231237888336182, 1.8729887008666992), 'test_time': (0.27124691009521484, 0.17449593544006348, 0.4986691474914551, 0.24534153938293457, 0.27131152153015137)}\n"
     ]
    },
    {
     "data": {
      "text/plain": [
       "'\\nThis script does the following:\\n1. Imports necessary classes from the `surprise` library.\\n2. Loads your dataset from a DataFrame.\\n3. Defines the algorithm (SVD in this case).\\n4. Defines the cross-validation procedure using `KFold`.\\n5. Performs cross-validation and prints the results.\\n\\nEnsure you replace `SVD` with any other algorithm from the `surprise` library if you want to use a different one.\\n'"
      ]
     },
     "execution_count": 68,
     "metadata": {},
     "output_type": "execute_result"
    }
   ],
   "source": [
    "\n",
    "from surprise import Dataset, Reader, SVD\n",
    "from surprise.model_selection import cross_validate, KFold\n",
    "\n",
    "# Assuming 'ratings' is a DataFrame containing your data\n",
    "# with columns 'userId', 'movieId', and 'rating'\n",
    "reader = Reader(rating_scale=(ratings['rating'].min(), ratings['rating'].max()))\n",
    "data = Dataset.load_from_df(ratings[['userId', 'movieId', 'rating']], reader)\n",
    "\n",
    "# Define the algorithm you want to use\n",
    "algorithm = SVD()\n",
    "\n",
    "# Define a cross-validation iterator\n",
    "kf = KFold(n_splits=5)\n",
    "\n",
    "# Perform cross-validation\n",
    "cross_validate_result = cross_validate(algorithm, data, measures=['RMSE', 'MAE'], cv=kf, verbose=True)\n",
    "\n",
    "print(cross_validate_result)\n",
    "\n",
    "\n",
    "\"\"\"\n",
    "This script does the following:\n",
    "1. Imports necessary classes from the `surprise` library.\n",
    "2. Loads your dataset from a DataFrame.\n",
    "3. Defines the algorithm (SVD in this case).\n",
    "4. Defines the cross-validation procedure using `KFold`.\n",
    "5. Performs cross-validation and prints the results.\n",
    "\n",
    "Ensure you replace `SVD` with any other algorithm from the `surprise` library if you want to use a different one.\n",
    "\"\"\""
   ]
  },
  {
   "cell_type": "markdown",
   "id": "d39b1da0-9405-4fe8-8aef-6ec1053328ad",
   "metadata": {},
   "source": [
    "We get a mean Root Mean Sqaure Error of 0.89 approx which is more than good enough for our case. Let us now train on our dataset and arrive at predictions."
   ]
  },
  {
   "cell_type": "code",
   "execution_count": 69,
   "id": "cd30c7b0-4300-4499-8c1a-dc23794a397f",
   "metadata": {},
   "outputs": [
    {
     "name": "stdin",
     "output_type": "stream",
     "text": [
      "Enter a uerid 1\n",
      "Enter a movieid 1061\n"
     ]
    },
    {
     "name": "stdout",
     "output_type": "stream",
     "text": [
      "Predicted rating for user 1 and item 1061 is 2.684281492339502\n",
      "RMSE: 0.9029\n",
      "MAE:  0.6925\n",
      "RMSE on test set: 0.9028530406492777\n",
      "MAE on test set: 0.6925019989966558\n"
     ]
    }
   ],
   "source": [
    "from surprise import Dataset, Reader, SVD\n",
    "from surprise.model_selection import train_test_split\n",
    "\n",
    "# Assuming 'ratings' is a DataFrame containing your data\n",
    "# with columns 'userId', 'movieId', and 'rating'\n",
    "\n",
    "\n",
    "# Split the dataset into a training set and a test set (optional, for evaluation)\n",
    "trainset, testset = train_test_split(data, test_size=0.2)\n",
    "\n",
    "# Define the algorithm you want to use\n",
    "algorithm = SVD()\n",
    "\n",
    "# Train the algorithm on the training set\n",
    "algorithm.fit(trainset)\n",
    "\n",
    "# To make predictions for a specific user and item, use the following:\n",
    "user_id = int(input(\"Enter a uerid\"))  # Replace with the actual user ID\n",
    "item_id = int(input(\"Enter a movieid\")) # Replace with the actual movie ID\n",
    "\n",
    "# Predict the rating for a specific user and item\n",
    "prediction = algorithm.predict(user_id, item_id)\n",
    "print(f'Predicted rating for user {user_id} and item {item_id} is {prediction.est}')\n",
    "\n",
    "# If you want to predict ratings for the test set and evaluate the performance\n",
    "predictions = algorithm.test(testset)\n",
    "\n",
    "# Calculate and print RMSE and MAE\n",
    "from surprise import accuracy\n",
    "rmse = accuracy.rmse(predictions)\n",
    "mae = accuracy.mae(predictions)\n",
    "\n",
    "print(f'RMSE on test set: {rmse}')\n",
    "print(f'MAE on test set: {mae}')\n"
   ]
  },
  {
   "cell_type": "markdown",
   "id": "3a088cee-11fc-4866-a0fc-e5e006ff9343",
   "metadata": {},
   "source": [
    "imated prediction of 2.684 ,One starting feature of this recommender system is that it doesn't care what the movie is (or what it contains). It works purely on the basis of an assigned movie ID and tries to predict ratings based on how the other users have predicted the movie."
   ]
  },
  {
   "cell_type": "code",
   "execution_count": null,
   "id": "48361768-abd5-42eb-94af-413ea0283195",
   "metadata": {},
   "outputs": [],
   "source": []
  }
 ],
 "metadata": {
  "kernelspec": {
   "display_name": "Python 3 (ipykernel)",
   "language": "python",
   "name": "python3"
  },
  "language_info": {
   "codemirror_mode": {
    "name": "ipython",
    "version": 3
   },
   "file_extension": ".py",
   "mimetype": "text/x-python",
   "name": "python",
   "nbconvert_exporter": "python",
   "pygments_lexer": "ipython3",
   "version": "3.11.3"
  }
 },
 "nbformat": 4,
 "nbformat_minor": 5
}
